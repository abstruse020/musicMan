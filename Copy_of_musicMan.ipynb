{
  "nbformat": 4,
  "nbformat_minor": 0,
  "metadata": {
    "colab": {
      "name": "Copy of musicMan.ipynb",
      "version": "0.3.2",
      "provenance": [],
      "collapsed_sections": [],
      "include_colab_link": true
    },
    "kernelspec": {
      "name": "python3",
      "display_name": "Python 3"
    }
  },
  "cells": [
    {
      "cell_type": "markdown",
      "metadata": {
        "id": "view-in-github",
        "colab_type": "text"
      },
      "source": [
        "<a href=\"https://colab.research.google.com/github/abstruse020/musicMan/blob/master/Copy_of_musicMan.ipynb\" target=\"_parent\"><img src=\"https://colab.research.google.com/assets/colab-badge.svg\" alt=\"Open In Colab\"/></a>"
      ]
    },
    {
      "cell_type": "code",
      "metadata": {
        "id": "puTEdStVNjm-",
        "colab_type": "code",
        "colab": {}
      },
      "source": [
        "import numpy as np\n",
        "import pandas as pd\n",
        "from sklearn.model_selection import train_test_split\n",
        "import torch\n",
        "import torch.nn as nn\n",
        "import torch.nn.parallel\n",
        "import matplotlib.pyplot as plt"
      ],
      "execution_count": 0,
      "outputs": []
    },
    {
      "cell_type": "code",
      "metadata": {
        "id": "ZIui8wc8QgLX",
        "colab_type": "code",
        "colab": {}
      },
      "source": [
        "triplets_file='https://static.turi.com/datasets/millionsong/10000.txt'\n",
        "songs_metadata_file = 'https://static.turi.com/datasets/millionsong/song_data.csv'"
      ],
      "execution_count": 0,
      "outputs": []
    },
    {
      "cell_type": "code",
      "metadata": {
        "id": "1BmE5F2HQiSQ",
        "colab_type": "code",
        "outputId": "9e4713ba-328b-4ce2-f18e-39599bb57f37",
        "colab": {
          "base_uri": "https://localhost:8080/",
          "height": 51
        }
      },
      "source": [
        "song_df_1 = pd.read_table(triplets_file,header=None)\n",
        "song_df_1.columns = ['user_id', 'song_id', 'listen_count']"
      ],
      "execution_count": 3,
      "outputs": [
        {
          "output_type": "stream",
          "text": [
            "/usr/local/lib/python3.6/dist-packages/ipykernel_launcher.py:1: FutureWarning: read_table is deprecated, use read_csv instead, passing sep='\\t'.\n",
            "  \"\"\"Entry point for launching an IPython kernel.\n"
          ],
          "name": "stderr"
        }
      ]
    },
    {
      "cell_type": "code",
      "metadata": {
        "id": "qoXt94xkRIK7",
        "colab_type": "code",
        "outputId": "aca0ed5d-e4be-482f-a776-2fa16f643104",
        "colab": {
          "base_uri": "https://localhost:8080/",
          "height": 204
        }
      },
      "source": [
        "song_df_1.head()"
      ],
      "execution_count": 4,
      "outputs": [
        {
          "output_type": "execute_result",
          "data": {
            "text/html": [
              "<div>\n",
              "<style scoped>\n",
              "    .dataframe tbody tr th:only-of-type {\n",
              "        vertical-align: middle;\n",
              "    }\n",
              "\n",
              "    .dataframe tbody tr th {\n",
              "        vertical-align: top;\n",
              "    }\n",
              "\n",
              "    .dataframe thead th {\n",
              "        text-align: right;\n",
              "    }\n",
              "</style>\n",
              "<table border=\"1\" class=\"dataframe\">\n",
              "  <thead>\n",
              "    <tr style=\"text-align: right;\">\n",
              "      <th></th>\n",
              "      <th>user_id</th>\n",
              "      <th>song_id</th>\n",
              "      <th>listen_count</th>\n",
              "    </tr>\n",
              "  </thead>\n",
              "  <tbody>\n",
              "    <tr>\n",
              "      <th>0</th>\n",
              "      <td>b80344d063b5ccb3212f76538f3d9e43d87dca9e</td>\n",
              "      <td>SOAKIMP12A8C130995</td>\n",
              "      <td>1</td>\n",
              "    </tr>\n",
              "    <tr>\n",
              "      <th>1</th>\n",
              "      <td>b80344d063b5ccb3212f76538f3d9e43d87dca9e</td>\n",
              "      <td>SOBBMDR12A8C13253B</td>\n",
              "      <td>2</td>\n",
              "    </tr>\n",
              "    <tr>\n",
              "      <th>2</th>\n",
              "      <td>b80344d063b5ccb3212f76538f3d9e43d87dca9e</td>\n",
              "      <td>SOBXHDL12A81C204C0</td>\n",
              "      <td>1</td>\n",
              "    </tr>\n",
              "    <tr>\n",
              "      <th>3</th>\n",
              "      <td>b80344d063b5ccb3212f76538f3d9e43d87dca9e</td>\n",
              "      <td>SOBYHAJ12A6701BF1D</td>\n",
              "      <td>1</td>\n",
              "    </tr>\n",
              "    <tr>\n",
              "      <th>4</th>\n",
              "      <td>b80344d063b5ccb3212f76538f3d9e43d87dca9e</td>\n",
              "      <td>SODACBL12A8C13C273</td>\n",
              "      <td>1</td>\n",
              "    </tr>\n",
              "  </tbody>\n",
              "</table>\n",
              "</div>"
            ],
            "text/plain": [
              "                                    user_id             song_id  listen_count\n",
              "0  b80344d063b5ccb3212f76538f3d9e43d87dca9e  SOAKIMP12A8C130995             1\n",
              "1  b80344d063b5ccb3212f76538f3d9e43d87dca9e  SOBBMDR12A8C13253B             2\n",
              "2  b80344d063b5ccb3212f76538f3d9e43d87dca9e  SOBXHDL12A81C204C0             1\n",
              "3  b80344d063b5ccb3212f76538f3d9e43d87dca9e  SOBYHAJ12A6701BF1D             1\n",
              "4  b80344d063b5ccb3212f76538f3d9e43d87dca9e  SODACBL12A8C13C273             1"
            ]
          },
          "metadata": {
            "tags": []
          },
          "execution_count": 4
        }
      ]
    },
    {
      "cell_type": "code",
      "metadata": {
        "id": "qGWSVQCVRO-c",
        "colab_type": "code",
        "colab": {}
      },
      "source": [
        "\n",
        "song_df_2 =  pd.read_csv(songs_metadata_file)\n",
        "\n",
        "song_df = pd.merge(song_df_1, song_df_2.drop_duplicates(['song_id']), on=\"song_id\", how=\"left\")"
      ],
      "execution_count": 0,
      "outputs": []
    },
    {
      "cell_type": "code",
      "metadata": {
        "id": "NKELZWbkRbGq",
        "colab_type": "code",
        "outputId": "977cb78c-c010-470e-a5d0-4448eb138f4e",
        "colab": {
          "base_uri": "https://localhost:8080/",
          "height": 204
        }
      },
      "source": [
        "song_df.head()"
      ],
      "execution_count": 6,
      "outputs": [
        {
          "output_type": "execute_result",
          "data": {
            "text/html": [
              "<div>\n",
              "<style scoped>\n",
              "    .dataframe tbody tr th:only-of-type {\n",
              "        vertical-align: middle;\n",
              "    }\n",
              "\n",
              "    .dataframe tbody tr th {\n",
              "        vertical-align: top;\n",
              "    }\n",
              "\n",
              "    .dataframe thead th {\n",
              "        text-align: right;\n",
              "    }\n",
              "</style>\n",
              "<table border=\"1\" class=\"dataframe\">\n",
              "  <thead>\n",
              "    <tr style=\"text-align: right;\">\n",
              "      <th></th>\n",
              "      <th>user_id</th>\n",
              "      <th>song_id</th>\n",
              "      <th>listen_count</th>\n",
              "      <th>title</th>\n",
              "      <th>release</th>\n",
              "      <th>artist_name</th>\n",
              "      <th>year</th>\n",
              "    </tr>\n",
              "  </thead>\n",
              "  <tbody>\n",
              "    <tr>\n",
              "      <th>0</th>\n",
              "      <td>b80344d063b5ccb3212f76538f3d9e43d87dca9e</td>\n",
              "      <td>SOAKIMP12A8C130995</td>\n",
              "      <td>1</td>\n",
              "      <td>The Cove</td>\n",
              "      <td>Thicker Than Water</td>\n",
              "      <td>Jack Johnson</td>\n",
              "      <td>0</td>\n",
              "    </tr>\n",
              "    <tr>\n",
              "      <th>1</th>\n",
              "      <td>b80344d063b5ccb3212f76538f3d9e43d87dca9e</td>\n",
              "      <td>SOBBMDR12A8C13253B</td>\n",
              "      <td>2</td>\n",
              "      <td>Entre Dos Aguas</td>\n",
              "      <td>Flamenco Para Niños</td>\n",
              "      <td>Paco De Lucia</td>\n",
              "      <td>1976</td>\n",
              "    </tr>\n",
              "    <tr>\n",
              "      <th>2</th>\n",
              "      <td>b80344d063b5ccb3212f76538f3d9e43d87dca9e</td>\n",
              "      <td>SOBXHDL12A81C204C0</td>\n",
              "      <td>1</td>\n",
              "      <td>Stronger</td>\n",
              "      <td>Graduation</td>\n",
              "      <td>Kanye West</td>\n",
              "      <td>2007</td>\n",
              "    </tr>\n",
              "    <tr>\n",
              "      <th>3</th>\n",
              "      <td>b80344d063b5ccb3212f76538f3d9e43d87dca9e</td>\n",
              "      <td>SOBYHAJ12A6701BF1D</td>\n",
              "      <td>1</td>\n",
              "      <td>Constellations</td>\n",
              "      <td>In Between Dreams</td>\n",
              "      <td>Jack Johnson</td>\n",
              "      <td>2005</td>\n",
              "    </tr>\n",
              "    <tr>\n",
              "      <th>4</th>\n",
              "      <td>b80344d063b5ccb3212f76538f3d9e43d87dca9e</td>\n",
              "      <td>SODACBL12A8C13C273</td>\n",
              "      <td>1</td>\n",
              "      <td>Learn To Fly</td>\n",
              "      <td>There Is Nothing Left To Lose</td>\n",
              "      <td>Foo Fighters</td>\n",
              "      <td>1999</td>\n",
              "    </tr>\n",
              "  </tbody>\n",
              "</table>\n",
              "</div>"
            ],
            "text/plain": [
              "                                    user_id  ...  year\n",
              "0  b80344d063b5ccb3212f76538f3d9e43d87dca9e  ...     0\n",
              "1  b80344d063b5ccb3212f76538f3d9e43d87dca9e  ...  1976\n",
              "2  b80344d063b5ccb3212f76538f3d9e43d87dca9e  ...  2007\n",
              "3  b80344d063b5ccb3212f76538f3d9e43d87dca9e  ...  2005\n",
              "4  b80344d063b5ccb3212f76538f3d9e43d87dca9e  ...  1999\n",
              "\n",
              "[5 rows x 7 columns]"
            ]
          },
          "metadata": {
            "tags": []
          },
          "execution_count": 6
        }
      ]
    },
    {
      "cell_type": "code",
      "metadata": {
        "id": "h1tmyJCnRiwp",
        "colab_type": "code",
        "outputId": "93c666fb-964d-435b-adc1-a3234b6340f0",
        "colab": {
          "base_uri": "https://localhost:8080/",
          "height": 34
        }
      },
      "source": [
        "print(song_df.shape)"
      ],
      "execution_count": 7,
      "outputs": [
        {
          "output_type": "stream",
          "text": [
            "(2000000, 7)\n"
          ],
          "name": "stdout"
        }
      ]
    },
    {
      "cell_type": "markdown",
      "metadata": {
        "id": "U8ztSDieOAdd",
        "colab_type": "text"
      },
      "source": [
        "selecting a subset of main data"
      ]
    },
    {
      "cell_type": "code",
      "metadata": {
        "id": "3Zjvhrd-Rs-u",
        "colab_type": "code",
        "outputId": "d67a5949-c811-4ce3-8bf5-b071043aa46d",
        "colab": {
          "base_uri": "https://localhost:8080/",
          "height": 34
        }
      },
      "source": [
        "songs_data = song_df.iloc[:100000,:3]\n",
        "#songs_data.head()\n",
        "songs_data.shape"
      ],
      "execution_count": 32,
      "outputs": [
        {
          "output_type": "execute_result",
          "data": {
            "text/plain": [
              "(100000, 3)"
            ]
          },
          "metadata": {
            "tags": []
          },
          "execution_count": 32
        }
      ]
    },
    {
      "cell_type": "markdown",
      "metadata": {
        "id": "qmFxe8T_OGvm",
        "colab_type": "text"
      },
      "source": [
        "#spliting the data"
      ]
    },
    {
      "cell_type": "code",
      "metadata": {
        "id": "Mwur8yaSN-yr",
        "colab_type": "code",
        "colab": {}
      },
      "source": [
        "#songs_data_train, songs_data_test, _, _ = train_test_split(songs_data,songs_data[:,0],test_size =0.20, random_state = 1)"
      ],
      "execution_count": 0,
      "outputs": []
    },
    {
      "cell_type": "code",
      "metadata": {
        "id": "CwFFXnF6Rqin",
        "colab_type": "code",
        "colab": {}
      },
      "source": [
        "#songs_data_test.head()\n",
        "#print(songs_data_test.size,songs_data_train.size)"
      ],
      "execution_count": 0,
      "outputs": []
    },
    {
      "cell_type": "code",
      "metadata": {
        "id": "8H-oR5lXR-3M",
        "colab_type": "code",
        "colab": {}
      },
      "source": [
        "grouped_songs = songs_data.groupby('user_id')"
      ],
      "execution_count": 0,
      "outputs": []
    },
    {
      "cell_type": "code",
      "metadata": {
        "id": "PbbMQuGODxd_",
        "colab_type": "code",
        "colab": {}
      },
      "source": [
        "no_users=0\n",
        "users = []\n",
        "for key,data in grouped_songs:\n",
        "  #print(\"Key \",key)\n",
        "  #print(\"\\nData \",data)\n",
        "  no_users+=1\n",
        "  users.append(key)"
      ],
      "execution_count": 0,
      "outputs": []
    },
    {
      "cell_type": "code",
      "metadata": {
        "id": "2MIdRoj0SXvU",
        "colab_type": "code",
        "outputId": "c6b023de-6ad7-44bd-e3b3-7c7203784555",
        "colab": {
          "base_uri": "https://localhost:8080/",
          "height": 34
        }
      },
      "source": [
        "print(no_users,len(users))"
      ],
      "execution_count": 55,
      "outputs": [
        {
          "output_type": "stream",
          "text": [
            "3863 3863\n"
          ],
          "name": "stdout"
        }
      ]
    },
    {
      "cell_type": "markdown",
      "metadata": {
        "id": "Qg2HezRDNKYi",
        "colab_type": "text"
      },
      "source": [
        "collecting songs\n",
        "making a list of songs"
      ]
    },
    {
      "cell_type": "code",
      "metadata": {
        "id": "JdqKBEaFirqF",
        "colab_type": "code",
        "outputId": "e8c58393-8535-43ae-e159-d95ef7cc9ee8",
        "colab": {
          "base_uri": "https://localhost:8080/",
          "height": 1000
        }
      },
      "source": [
        "grouped_songs_2 = songs_data.groupby('song_id')\n",
        "grouped_songs_2.head()"
      ],
      "execution_count": 38,
      "outputs": [
        {
          "output_type": "execute_result",
          "data": {
            "text/html": [
              "<div>\n",
              "<style scoped>\n",
              "    .dataframe tbody tr th:only-of-type {\n",
              "        vertical-align: middle;\n",
              "    }\n",
              "\n",
              "    .dataframe tbody tr th {\n",
              "        vertical-align: top;\n",
              "    }\n",
              "\n",
              "    .dataframe thead th {\n",
              "        text-align: right;\n",
              "    }\n",
              "</style>\n",
              "<table border=\"1\" class=\"dataframe\">\n",
              "  <thead>\n",
              "    <tr style=\"text-align: right;\">\n",
              "      <th></th>\n",
              "      <th>user_id</th>\n",
              "      <th>song_id</th>\n",
              "      <th>listen_count</th>\n",
              "    </tr>\n",
              "  </thead>\n",
              "  <tbody>\n",
              "    <tr>\n",
              "      <th>0</th>\n",
              "      <td>b80344d063b5ccb3212f76538f3d9e43d87dca9e</td>\n",
              "      <td>SOAKIMP12A8C130995</td>\n",
              "      <td>1</td>\n",
              "    </tr>\n",
              "    <tr>\n",
              "      <th>1</th>\n",
              "      <td>b80344d063b5ccb3212f76538f3d9e43d87dca9e</td>\n",
              "      <td>SOBBMDR12A8C13253B</td>\n",
              "      <td>2</td>\n",
              "    </tr>\n",
              "    <tr>\n",
              "      <th>2</th>\n",
              "      <td>b80344d063b5ccb3212f76538f3d9e43d87dca9e</td>\n",
              "      <td>SOBXHDL12A81C204C0</td>\n",
              "      <td>1</td>\n",
              "    </tr>\n",
              "    <tr>\n",
              "      <th>3</th>\n",
              "      <td>b80344d063b5ccb3212f76538f3d9e43d87dca9e</td>\n",
              "      <td>SOBYHAJ12A6701BF1D</td>\n",
              "      <td>1</td>\n",
              "    </tr>\n",
              "    <tr>\n",
              "      <th>4</th>\n",
              "      <td>b80344d063b5ccb3212f76538f3d9e43d87dca9e</td>\n",
              "      <td>SODACBL12A8C13C273</td>\n",
              "      <td>1</td>\n",
              "    </tr>\n",
              "    <tr>\n",
              "      <th>5</th>\n",
              "      <td>b80344d063b5ccb3212f76538f3d9e43d87dca9e</td>\n",
              "      <td>SODDNQT12A6D4F5F7E</td>\n",
              "      <td>5</td>\n",
              "    </tr>\n",
              "    <tr>\n",
              "      <th>6</th>\n",
              "      <td>b80344d063b5ccb3212f76538f3d9e43d87dca9e</td>\n",
              "      <td>SODXRTY12AB0180F3B</td>\n",
              "      <td>1</td>\n",
              "    </tr>\n",
              "    <tr>\n",
              "      <th>7</th>\n",
              "      <td>b80344d063b5ccb3212f76538f3d9e43d87dca9e</td>\n",
              "      <td>SOFGUAY12AB017B0A8</td>\n",
              "      <td>1</td>\n",
              "    </tr>\n",
              "    <tr>\n",
              "      <th>8</th>\n",
              "      <td>b80344d063b5ccb3212f76538f3d9e43d87dca9e</td>\n",
              "      <td>SOFRQTD12A81C233C0</td>\n",
              "      <td>1</td>\n",
              "    </tr>\n",
              "    <tr>\n",
              "      <th>9</th>\n",
              "      <td>b80344d063b5ccb3212f76538f3d9e43d87dca9e</td>\n",
              "      <td>SOHQWYZ12A6D4FA701</td>\n",
              "      <td>1</td>\n",
              "    </tr>\n",
              "    <tr>\n",
              "      <th>10</th>\n",
              "      <td>b80344d063b5ccb3212f76538f3d9e43d87dca9e</td>\n",
              "      <td>SOIYTOA12A6D4F9A23</td>\n",
              "      <td>1</td>\n",
              "    </tr>\n",
              "    <tr>\n",
              "      <th>11</th>\n",
              "      <td>b80344d063b5ccb3212f76538f3d9e43d87dca9e</td>\n",
              "      <td>SOIZAZL12A6701C53B</td>\n",
              "      <td>5</td>\n",
              "    </tr>\n",
              "    <tr>\n",
              "      <th>12</th>\n",
              "      <td>b80344d063b5ccb3212f76538f3d9e43d87dca9e</td>\n",
              "      <td>SOJNNUA12A8AE48C7A</td>\n",
              "      <td>1</td>\n",
              "    </tr>\n",
              "    <tr>\n",
              "      <th>13</th>\n",
              "      <td>b80344d063b5ccb3212f76538f3d9e43d87dca9e</td>\n",
              "      <td>SOJPFQG12A58A7833A</td>\n",
              "      <td>1</td>\n",
              "    </tr>\n",
              "    <tr>\n",
              "      <th>14</th>\n",
              "      <td>b80344d063b5ccb3212f76538f3d9e43d87dca9e</td>\n",
              "      <td>SOKRIMP12A6D4F5DA3</td>\n",
              "      <td>5</td>\n",
              "    </tr>\n",
              "    <tr>\n",
              "      <th>15</th>\n",
              "      <td>b80344d063b5ccb3212f76538f3d9e43d87dca9e</td>\n",
              "      <td>SOLLGNU12AF72A4D4F</td>\n",
              "      <td>1</td>\n",
              "    </tr>\n",
              "    <tr>\n",
              "      <th>16</th>\n",
              "      <td>b80344d063b5ccb3212f76538f3d9e43d87dca9e</td>\n",
              "      <td>SOMGIYR12AB0187973</td>\n",
              "      <td>6</td>\n",
              "    </tr>\n",
              "    <tr>\n",
              "      <th>17</th>\n",
              "      <td>b80344d063b5ccb3212f76538f3d9e43d87dca9e</td>\n",
              "      <td>SOMLMKI12A81C204BC</td>\n",
              "      <td>1</td>\n",
              "    </tr>\n",
              "    <tr>\n",
              "      <th>18</th>\n",
              "      <td>b80344d063b5ccb3212f76538f3d9e43d87dca9e</td>\n",
              "      <td>SOMSQJY12A8C138539</td>\n",
              "      <td>1</td>\n",
              "    </tr>\n",
              "    <tr>\n",
              "      <th>19</th>\n",
              "      <td>b80344d063b5ccb3212f76538f3d9e43d87dca9e</td>\n",
              "      <td>SONSAEZ12A8C138D7A</td>\n",
              "      <td>1</td>\n",
              "    </tr>\n",
              "    <tr>\n",
              "      <th>20</th>\n",
              "      <td>b80344d063b5ccb3212f76538f3d9e43d87dca9e</td>\n",
              "      <td>SOOKGRB12A8C13CD66</td>\n",
              "      <td>1</td>\n",
              "    </tr>\n",
              "    <tr>\n",
              "      <th>21</th>\n",
              "      <td>b80344d063b5ccb3212f76538f3d9e43d87dca9e</td>\n",
              "      <td>SOPCVQE12AC468AF36</td>\n",
              "      <td>1</td>\n",
              "    </tr>\n",
              "    <tr>\n",
              "      <th>22</th>\n",
              "      <td>b80344d063b5ccb3212f76538f3d9e43d87dca9e</td>\n",
              "      <td>SOQIVUD12AB01821D2</td>\n",
              "      <td>1</td>\n",
              "    </tr>\n",
              "    <tr>\n",
              "      <th>23</th>\n",
              "      <td>b80344d063b5ccb3212f76538f3d9e43d87dca9e</td>\n",
              "      <td>SOQJLDY12AAF3B456D</td>\n",
              "      <td>1</td>\n",
              "    </tr>\n",
              "    <tr>\n",
              "      <th>24</th>\n",
              "      <td>b80344d063b5ccb3212f76538f3d9e43d87dca9e</td>\n",
              "      <td>SOQLCKR12A81C22440</td>\n",
              "      <td>1</td>\n",
              "    </tr>\n",
              "    <tr>\n",
              "      <th>25</th>\n",
              "      <td>b80344d063b5ccb3212f76538f3d9e43d87dca9e</td>\n",
              "      <td>SORPMYJ12AF729EB90</td>\n",
              "      <td>1</td>\n",
              "    </tr>\n",
              "    <tr>\n",
              "      <th>26</th>\n",
              "      <td>b80344d063b5ccb3212f76538f3d9e43d87dca9e</td>\n",
              "      <td>SORQHCG12A58A7EEBA</td>\n",
              "      <td>1</td>\n",
              "    </tr>\n",
              "    <tr>\n",
              "      <th>27</th>\n",
              "      <td>b80344d063b5ccb3212f76538f3d9e43d87dca9e</td>\n",
              "      <td>SORUFVF12AB018230B</td>\n",
              "      <td>1</td>\n",
              "    </tr>\n",
              "    <tr>\n",
              "      <th>28</th>\n",
              "      <td>b80344d063b5ccb3212f76538f3d9e43d87dca9e</td>\n",
              "      <td>SORWLTW12A670208FA</td>\n",
              "      <td>1</td>\n",
              "    </tr>\n",
              "    <tr>\n",
              "      <th>29</th>\n",
              "      <td>b80344d063b5ccb3212f76538f3d9e43d87dca9e</td>\n",
              "      <td>SORZASF12A6D4F8CFA</td>\n",
              "      <td>2</td>\n",
              "    </tr>\n",
              "    <tr>\n",
              "      <th>...</th>\n",
              "      <td>...</td>\n",
              "      <td>...</td>\n",
              "      <td>...</td>\n",
              "    </tr>\n",
              "    <tr>\n",
              "      <th>99812</th>\n",
              "      <td>5ff71117823faab5d0310b4406603582a496b49d</td>\n",
              "      <td>SOROHAJ12A8C13B252</td>\n",
              "      <td>1</td>\n",
              "    </tr>\n",
              "    <tr>\n",
              "      <th>99816</th>\n",
              "      <td>5ff71117823faab5d0310b4406603582a496b49d</td>\n",
              "      <td>SOTWPXG12A8C142CF6</td>\n",
              "      <td>1</td>\n",
              "    </tr>\n",
              "    <tr>\n",
              "      <th>99822</th>\n",
              "      <td>3b30c23e37f87ec150d50548b7a91b179f69e533</td>\n",
              "      <td>SOBSQYL12AB0187688</td>\n",
              "      <td>3</td>\n",
              "    </tr>\n",
              "    <tr>\n",
              "      <th>99826</th>\n",
              "      <td>3b30c23e37f87ec150d50548b7a91b179f69e533</td>\n",
              "      <td>SOGCHYZ12AF72A69EC</td>\n",
              "      <td>2</td>\n",
              "    </tr>\n",
              "    <tr>\n",
              "      <th>99831</th>\n",
              "      <td>3b30c23e37f87ec150d50548b7a91b179f69e533</td>\n",
              "      <td>SONFCUC12A58A7BC34</td>\n",
              "      <td>3</td>\n",
              "    </tr>\n",
              "    <tr>\n",
              "      <th>99846</th>\n",
              "      <td>3b30c23e37f87ec150d50548b7a91b179f69e533</td>\n",
              "      <td>SOYWRZU12A6D4F66C2</td>\n",
              "      <td>1</td>\n",
              "    </tr>\n",
              "    <tr>\n",
              "      <th>99854</th>\n",
              "      <td>e4557156607247f20d95e659e4ce7846b590252c</td>\n",
              "      <td>SOCZVVE12A8AE476F3</td>\n",
              "      <td>2</td>\n",
              "    </tr>\n",
              "    <tr>\n",
              "      <th>99856</th>\n",
              "      <td>e4557156607247f20d95e659e4ce7846b590252c</td>\n",
              "      <td>SOEHSWI12A8C14497A</td>\n",
              "      <td>5</td>\n",
              "    </tr>\n",
              "    <tr>\n",
              "      <th>99864</th>\n",
              "      <td>e4557156607247f20d95e659e4ce7846b590252c</td>\n",
              "      <td>SOHTZML12A8C142CA4</td>\n",
              "      <td>1</td>\n",
              "    </tr>\n",
              "    <tr>\n",
              "      <th>99907</th>\n",
              "      <td>176e3f8a0eb8bb540a0e731230fdea7147c357da</td>\n",
              "      <td>SOEGDWK12A8C137D13</td>\n",
              "      <td>25</td>\n",
              "    </tr>\n",
              "    <tr>\n",
              "      <th>99916</th>\n",
              "      <td>176e3f8a0eb8bb540a0e731230fdea7147c357da</td>\n",
              "      <td>SOIJPZF12A6701EB76</td>\n",
              "      <td>3</td>\n",
              "    </tr>\n",
              "    <tr>\n",
              "      <th>99917</th>\n",
              "      <td>176e3f8a0eb8bb540a0e731230fdea7147c357da</td>\n",
              "      <td>SOINBEP12AB017FEE1</td>\n",
              "      <td>22</td>\n",
              "    </tr>\n",
              "    <tr>\n",
              "      <th>99918</th>\n",
              "      <td>176e3f8a0eb8bb540a0e731230fdea7147c357da</td>\n",
              "      <td>SOIPEWH12AB01800A6</td>\n",
              "      <td>20</td>\n",
              "    </tr>\n",
              "    <tr>\n",
              "      <th>99925</th>\n",
              "      <td>176e3f8a0eb8bb540a0e731230fdea7147c357da</td>\n",
              "      <td>SOLRQLP12AB01809BC</td>\n",
              "      <td>20</td>\n",
              "    </tr>\n",
              "    <tr>\n",
              "      <th>99929</th>\n",
              "      <td>176e3f8a0eb8bb540a0e731230fdea7147c357da</td>\n",
              "      <td>SOOAAQL12B0B80B6D1</td>\n",
              "      <td>23</td>\n",
              "    </tr>\n",
              "    <tr>\n",
              "      <th>99936</th>\n",
              "      <td>176e3f8a0eb8bb540a0e731230fdea7147c357da</td>\n",
              "      <td>SOPWVJC12AB01809CD</td>\n",
              "      <td>23</td>\n",
              "    </tr>\n",
              "    <tr>\n",
              "      <th>99937</th>\n",
              "      <td>176e3f8a0eb8bb540a0e731230fdea7147c357da</td>\n",
              "      <td>SOQOAGD12AB01809FB</td>\n",
              "      <td>31</td>\n",
              "    </tr>\n",
              "    <tr>\n",
              "      <th>99939</th>\n",
              "      <td>176e3f8a0eb8bb540a0e731230fdea7147c357da</td>\n",
              "      <td>SOQYXOV12AB017FE9C</td>\n",
              "      <td>22</td>\n",
              "    </tr>\n",
              "    <tr>\n",
              "      <th>99944</th>\n",
              "      <td>176e3f8a0eb8bb540a0e731230fdea7147c357da</td>\n",
              "      <td>SOSSZPW12A8C13843D</td>\n",
              "      <td>20</td>\n",
              "    </tr>\n",
              "    <tr>\n",
              "      <th>99949</th>\n",
              "      <td>176e3f8a0eb8bb540a0e731230fdea7147c357da</td>\n",
              "      <td>SOTSVAT12A8C138443</td>\n",
              "      <td>17</td>\n",
              "    </tr>\n",
              "    <tr>\n",
              "      <th>99952</th>\n",
              "      <td>176e3f8a0eb8bb540a0e731230fdea7147c357da</td>\n",
              "      <td>SOUNKHZ12AF72A037D</td>\n",
              "      <td>22</td>\n",
              "    </tr>\n",
              "    <tr>\n",
              "      <th>99958</th>\n",
              "      <td>176e3f8a0eb8bb540a0e731230fdea7147c357da</td>\n",
              "      <td>SOWFCZA12AB017FE8D</td>\n",
              "      <td>21</td>\n",
              "    </tr>\n",
              "    <tr>\n",
              "      <th>99959</th>\n",
              "      <td>176e3f8a0eb8bb540a0e731230fdea7147c357da</td>\n",
              "      <td>SOWPFHR12A8C137D0E</td>\n",
              "      <td>18</td>\n",
              "    </tr>\n",
              "    <tr>\n",
              "      <th>99961</th>\n",
              "      <td>176e3f8a0eb8bb540a0e731230fdea7147c357da</td>\n",
              "      <td>SOXDOSG12AB018099E</td>\n",
              "      <td>24</td>\n",
              "    </tr>\n",
              "    <tr>\n",
              "      <th>99962</th>\n",
              "      <td>176e3f8a0eb8bb540a0e731230fdea7147c357da</td>\n",
              "      <td>SOXDPFW12A81C2319B</td>\n",
              "      <td>1</td>\n",
              "    </tr>\n",
              "    <tr>\n",
              "      <th>99966</th>\n",
              "      <td>176e3f8a0eb8bb540a0e731230fdea7147c357da</td>\n",
              "      <td>SOYINAR12AB017FEB2</td>\n",
              "      <td>17</td>\n",
              "    </tr>\n",
              "    <tr>\n",
              "      <th>99974</th>\n",
              "      <td>dae4b0383ddaf95871a4fdde6e521bdaa6668143</td>\n",
              "      <td>SOBRQUF12AF72A7728</td>\n",
              "      <td>1</td>\n",
              "    </tr>\n",
              "    <tr>\n",
              "      <th>99976</th>\n",
              "      <td>dae4b0383ddaf95871a4fdde6e521bdaa6668143</td>\n",
              "      <td>SOCSXMM12AB0186A58</td>\n",
              "      <td>5</td>\n",
              "    </tr>\n",
              "    <tr>\n",
              "      <th>99986</th>\n",
              "      <td>dae4b0383ddaf95871a4fdde6e521bdaa6668143</td>\n",
              "      <td>SOHKKBI12AB0182E85</td>\n",
              "      <td>1</td>\n",
              "    </tr>\n",
              "    <tr>\n",
              "      <th>99997</th>\n",
              "      <td>dae4b0383ddaf95871a4fdde6e521bdaa6668143</td>\n",
              "      <td>SOLDBRG12A8C13A1ED</td>\n",
              "      <td>3</td>\n",
              "    </tr>\n",
              "  </tbody>\n",
              "</table>\n",
              "<p>43817 rows × 3 columns</p>\n",
              "</div>"
            ],
            "text/plain": [
              "                                        user_id  ... listen_count\n",
              "0      b80344d063b5ccb3212f76538f3d9e43d87dca9e  ...            1\n",
              "1      b80344d063b5ccb3212f76538f3d9e43d87dca9e  ...            2\n",
              "2      b80344d063b5ccb3212f76538f3d9e43d87dca9e  ...            1\n",
              "3      b80344d063b5ccb3212f76538f3d9e43d87dca9e  ...            1\n",
              "4      b80344d063b5ccb3212f76538f3d9e43d87dca9e  ...            1\n",
              "5      b80344d063b5ccb3212f76538f3d9e43d87dca9e  ...            5\n",
              "6      b80344d063b5ccb3212f76538f3d9e43d87dca9e  ...            1\n",
              "7      b80344d063b5ccb3212f76538f3d9e43d87dca9e  ...            1\n",
              "8      b80344d063b5ccb3212f76538f3d9e43d87dca9e  ...            1\n",
              "9      b80344d063b5ccb3212f76538f3d9e43d87dca9e  ...            1\n",
              "10     b80344d063b5ccb3212f76538f3d9e43d87dca9e  ...            1\n",
              "11     b80344d063b5ccb3212f76538f3d9e43d87dca9e  ...            5\n",
              "12     b80344d063b5ccb3212f76538f3d9e43d87dca9e  ...            1\n",
              "13     b80344d063b5ccb3212f76538f3d9e43d87dca9e  ...            1\n",
              "14     b80344d063b5ccb3212f76538f3d9e43d87dca9e  ...            5\n",
              "15     b80344d063b5ccb3212f76538f3d9e43d87dca9e  ...            1\n",
              "16     b80344d063b5ccb3212f76538f3d9e43d87dca9e  ...            6\n",
              "17     b80344d063b5ccb3212f76538f3d9e43d87dca9e  ...            1\n",
              "18     b80344d063b5ccb3212f76538f3d9e43d87dca9e  ...            1\n",
              "19     b80344d063b5ccb3212f76538f3d9e43d87dca9e  ...            1\n",
              "20     b80344d063b5ccb3212f76538f3d9e43d87dca9e  ...            1\n",
              "21     b80344d063b5ccb3212f76538f3d9e43d87dca9e  ...            1\n",
              "22     b80344d063b5ccb3212f76538f3d9e43d87dca9e  ...            1\n",
              "23     b80344d063b5ccb3212f76538f3d9e43d87dca9e  ...            1\n",
              "24     b80344d063b5ccb3212f76538f3d9e43d87dca9e  ...            1\n",
              "25     b80344d063b5ccb3212f76538f3d9e43d87dca9e  ...            1\n",
              "26     b80344d063b5ccb3212f76538f3d9e43d87dca9e  ...            1\n",
              "27     b80344d063b5ccb3212f76538f3d9e43d87dca9e  ...            1\n",
              "28     b80344d063b5ccb3212f76538f3d9e43d87dca9e  ...            1\n",
              "29     b80344d063b5ccb3212f76538f3d9e43d87dca9e  ...            2\n",
              "...                                         ...  ...          ...\n",
              "99812  5ff71117823faab5d0310b4406603582a496b49d  ...            1\n",
              "99816  5ff71117823faab5d0310b4406603582a496b49d  ...            1\n",
              "99822  3b30c23e37f87ec150d50548b7a91b179f69e533  ...            3\n",
              "99826  3b30c23e37f87ec150d50548b7a91b179f69e533  ...            2\n",
              "99831  3b30c23e37f87ec150d50548b7a91b179f69e533  ...            3\n",
              "99846  3b30c23e37f87ec150d50548b7a91b179f69e533  ...            1\n",
              "99854  e4557156607247f20d95e659e4ce7846b590252c  ...            2\n",
              "99856  e4557156607247f20d95e659e4ce7846b590252c  ...            5\n",
              "99864  e4557156607247f20d95e659e4ce7846b590252c  ...            1\n",
              "99907  176e3f8a0eb8bb540a0e731230fdea7147c357da  ...           25\n",
              "99916  176e3f8a0eb8bb540a0e731230fdea7147c357da  ...            3\n",
              "99917  176e3f8a0eb8bb540a0e731230fdea7147c357da  ...           22\n",
              "99918  176e3f8a0eb8bb540a0e731230fdea7147c357da  ...           20\n",
              "99925  176e3f8a0eb8bb540a0e731230fdea7147c357da  ...           20\n",
              "99929  176e3f8a0eb8bb540a0e731230fdea7147c357da  ...           23\n",
              "99936  176e3f8a0eb8bb540a0e731230fdea7147c357da  ...           23\n",
              "99937  176e3f8a0eb8bb540a0e731230fdea7147c357da  ...           31\n",
              "99939  176e3f8a0eb8bb540a0e731230fdea7147c357da  ...           22\n",
              "99944  176e3f8a0eb8bb540a0e731230fdea7147c357da  ...           20\n",
              "99949  176e3f8a0eb8bb540a0e731230fdea7147c357da  ...           17\n",
              "99952  176e3f8a0eb8bb540a0e731230fdea7147c357da  ...           22\n",
              "99958  176e3f8a0eb8bb540a0e731230fdea7147c357da  ...           21\n",
              "99959  176e3f8a0eb8bb540a0e731230fdea7147c357da  ...           18\n",
              "99961  176e3f8a0eb8bb540a0e731230fdea7147c357da  ...           24\n",
              "99962  176e3f8a0eb8bb540a0e731230fdea7147c357da  ...            1\n",
              "99966  176e3f8a0eb8bb540a0e731230fdea7147c357da  ...           17\n",
              "99974  dae4b0383ddaf95871a4fdde6e521bdaa6668143  ...            1\n",
              "99976  dae4b0383ddaf95871a4fdde6e521bdaa6668143  ...            5\n",
              "99986  dae4b0383ddaf95871a4fdde6e521bdaa6668143  ...            1\n",
              "99997  dae4b0383ddaf95871a4fdde6e521bdaa6668143  ...            3\n",
              "\n",
              "[43817 rows x 3 columns]"
            ]
          },
          "metadata": {
            "tags": []
          },
          "execution_count": 38
        }
      ]
    },
    {
      "cell_type": "code",
      "metadata": {
        "id": "_kjAdWCFo-3W",
        "colab_type": "code",
        "colab": {}
      },
      "source": [
        "no_songs = 0\n",
        "songs = []\n",
        "for key,data in grouped_songs_2:\n",
        "  #print('key',key)\n",
        "  #print('\\ndata',data)\n",
        "  no_songs+=1\n",
        "  songs.append(key)\n",
        "#songs = set(songs)"
      ],
      "execution_count": 0,
      "outputs": []
    },
    {
      "cell_type": "code",
      "metadata": {
        "id": "m-9PqIJIpmlo",
        "colab_type": "code",
        "outputId": "e709d144-c3a1-4145-c518-c0950a1f23b6",
        "colab": {
          "base_uri": "https://localhost:8080/",
          "height": 34
        }
      },
      "source": [
        "print(no_songs,len(songs))"
      ],
      "execution_count": 40,
      "outputs": [
        {
          "output_type": "stream",
          "text": [
            "9938 9938\n"
          ],
          "name": "stdout"
        }
      ]
    },
    {
      "cell_type": "code",
      "metadata": {
        "id": "gTr65daQJkW_",
        "colab_type": "code",
        "outputId": "0664ece9-d484-4eb1-9e3b-936c8ce01b7c",
        "colab": {
          "base_uri": "https://localhost:8080/",
          "height": 34
        }
      },
      "source": [
        "#print(len(songs))\n"
      ],
      "execution_count": 54,
      "outputs": [
        {
          "output_type": "stream",
          "text": [
            "9938\n"
          ],
          "name": "stdout"
        }
      ]
    },
    {
      "cell_type": "markdown",
      "metadata": {
        "id": "Aa2w9pN5iU6y",
        "colab_type": "text"
      },
      "source": [
        "#Making 2d list"
      ]
    },
    {
      "cell_type": "code",
      "metadata": {
        "id": "A_5rRq-Hp4Ag",
        "colab_type": "code",
        "colab": {}
      },
      "source": [
        "def convert(data):\n",
        "  new_data=[]\n",
        "  for id_user in users:\n",
        "    id_songs = data.iloc[:,1][data.iloc[:,0]==id_user]\n",
        "    #print(id_songs.head())\n",
        "    id_ratings = data.iloc[:,2][data.iloc[:,0]==id_user]\n",
        "    #print(id_ratings.head())\n",
        "    ratings = np.zeros(no_songs)\n",
        "    if(id_songs.empty==False):\n",
        "      for sid,rat in zip(id_songs,id_ratings):\n",
        "        #print(sid)\n",
        "        indx=songs.index(str(sid))\n",
        "        ratings[indx] = rat\n",
        "      new_data.append(list(ratings))\n",
        "  return new_data"
      ],
      "execution_count": 0,
      "outputs": []
    },
    {
      "cell_type": "code",
      "metadata": {
        "id": "fyZr2JHmz27g",
        "colab_type": "code",
        "colab": {}
      },
      "source": [
        "train_set = convert(songs_data)\n",
        "#test_set = convert(songs_data_test) make test data by train test split"
      ],
      "execution_count": 0,
      "outputs": []
    },
    {
      "cell_type": "markdown",
      "metadata": {
        "id": "EyPKqhmqySnU",
        "colab_type": "text"
      },
      "source": [
        "# convert to torch tnsors"
      ]
    },
    {
      "cell_type": "code",
      "metadata": {
        "id": "Y0jKKhfq0FPq",
        "colab_type": "code",
        "colab": {}
      },
      "source": [
        "training_set = torch.FloatTensor(train_set)\n",
        "#test_set = torch.FloatTensor(test_set)\n"
      ],
      "execution_count": 0,
      "outputs": []
    },
    {
      "cell_type": "markdown",
      "metadata": {
        "id": "Lgco95pry_Sd",
        "colab_type": "text"
      },
      "source": [
        "#Convert training set (not herd to -1)"
      ]
    },
    {
      "cell_type": "code",
      "metadata": {
        "id": "wohkxz0_y-Rt",
        "colab_type": "code",
        "outputId": "78b1b2e6-d380-4594-bf40-604aa8f31844",
        "colab": {
          "base_uri": "https://localhost:8080/",
          "height": 34
        }
      },
      "source": [
        "training_set[training_set == 0] ==-1\n",
        "training_set[training_set == 1] ==0\n",
        "training_set[training_set == 2] ==0\n",
        "training_set[training_set > 2] ==1"
      ],
      "execution_count": 45,
      "outputs": [
        {
          "output_type": "execute_result",
          "data": {
            "text/plain": [
              "tensor([0, 0, 0,  ..., 0, 0, 0], dtype=torch.uint8)"
            ]
          },
          "metadata": {
            "tags": []
          },
          "execution_count": 45
        }
      ]
    },
    {
      "cell_type": "markdown",
      "metadata": {
        "id": "1l6IDua12ZS9",
        "colab_type": "text"
      },
      "source": [
        "#RBM class"
      ]
    },
    {
      "cell_type": "code",
      "metadata": {
        "id": "MZi3c7Gvy5C0",
        "colab_type": "code",
        "colab": {}
      },
      "source": [
        "class RBM():\n",
        "  def __init__(self,nv,nh):\n",
        "    self.W = torch.randn(nh,nv)\n",
        "    self.a = torch.randn(1,nh)\n",
        "    self.b = torch.randn(1,nv)\n",
        "  def sample_h(self,x):\n",
        "    wx = torch.mm(x,self.W.t())\n",
        "    activation = wx + self.a.expand_as(wx)\n",
        "    p_h_given_v = torch.sigmoid(activation)\n",
        "    return p_h_given_v, torch.bernoulli(p_h_given_v)\n",
        "  def sample_v(self,y):\n",
        "    wy = torch.mm(y,self.W)\n",
        "    activation = wy + self.b.expand_as(wy)\n",
        "    p_v_given_h = torch.sigmoid(activation)\n",
        "    return p_v_given_h, torch.bernoulli(p_v_given_h)\n",
        "  def train(self, v0,vk,ph0,phk):\n",
        "    self.W += (torch.mm(v0.t(),ph0) - torch.mm(vk.t(),phk)).t()\n",
        "    self.b += torch.sum((v0 - vk), 0)\n",
        "    self.a += torch.sum((ph0 - phk), 0)\n",
        "    "
      ],
      "execution_count": 0,
      "outputs": []
    },
    {
      "cell_type": "code",
      "metadata": {
        "id": "sArORQMQ4WIx",
        "colab_type": "code",
        "colab": {}
      },
      "source": [
        "nv = no_songs\n",
        "nh  = 150\n",
        "batch_size = 128\n",
        "rbm = RBM(nv,nh)"
      ],
      "execution_count": 0,
      "outputs": []
    },
    {
      "cell_type": "markdown",
      "metadata": {
        "id": "qanj9u_57G64",
        "colab_type": "text"
      },
      "source": [
        "#Training the model"
      ]
    },
    {
      "cell_type": "code",
      "metadata": {
        "id": "SHGV8evz4qoZ",
        "colab_type": "code",
        "outputId": "20d54557-726b-40a5-d4b8-b6e60f522e51",
        "colab": {
          "base_uri": "https://localhost:8080/",
          "height": 187
        }
      },
      "source": [
        "nb_epoch =10\n",
        "for epoch in range(1,nb_epoch + 1):\n",
        "  train_loss =0\n",
        "  s=0.\n",
        "  for id_user in range(0,no_users-batch_size,batch_size):\n",
        "    vk=v0=training_set[id_user:id_user+batch_size]\n",
        "    ph0,_ = rbm.sample_h(v0)\n",
        "    for k in range(10): #k step contrastive divergence\n",
        "      _,hk = rbm.sample_h(vk)\n",
        "      _,vk = rbm.sample_v(hk)\n",
        "      vk[v0<0] = v0[v0<0]\n",
        "    phk,_ = rbm.sample_h(vk)\n",
        "    rbm.train(v0,vk,ph0,phk)\n",
        "    train_loss += torch.mean( torch.abs( v0[v0>=0] - vk[v0>=0] ) )\n",
        "    s +=1.\n",
        "  print('epoch: '+str(epoch) + ' loss ' + str(train_loss/s))"
      ],
      "execution_count": 48,
      "outputs": [
        {
          "output_type": "stream",
          "text": [
            "epoch: 1 loss tensor(0.0335)\n",
            "epoch: 2 loss tensor(0.0134)\n",
            "epoch: 3 loss tensor(0.0142)\n",
            "epoch: 4 loss tensor(0.0141)\n",
            "epoch: 5 loss tensor(0.0148)\n",
            "epoch: 6 loss tensor(0.0151)\n",
            "epoch: 7 loss tensor(0.0144)\n",
            "epoch: 8 loss tensor(0.0153)\n",
            "epoch: 9 loss tensor(0.0155)\n",
            "epoch: 10 loss tensor(0.0149)\n"
          ],
          "name": "stdout"
        }
      ]
    },
    {
      "cell_type": "markdown",
      "metadata": {
        "id": "0JbNvekr7LlM",
        "colab_type": "text"
      },
      "source": [
        "#Testing the model"
      ]
    },
    {
      "cell_type": "code",
      "metadata": {
        "id": "n1xAKDmR7Nez",
        "colab_type": "code",
        "outputId": "56bd1906-ab71-4558-9cbd-c66bd3295943",
        "colab": {
          "base_uri": "https://localhost:8080/",
          "height": 286
        }
      },
      "source": [
        "predictions = []\n",
        "s = 0.\n",
        "for id_user in range(no_users):\n",
        "  v = training_set[id_user:id_user + 1]\n",
        "  vt = training_set[id_user:id_user+1]\n",
        "  if len(vt[vt>=0]) > 0:\n",
        "    _,h = rbm.sample_h(v)\n",
        "    _,v = rbm.sample_v(h)\n",
        "    pred_id = torch.sum(torch.abs(vt-v))\n",
        "    predictions.append(pred_id)\n",
        "    #test_loss += torch.mean(torch.abs(vt[vt>=0] - v[vt>=0]))\n",
        "    #s += 1.\n",
        "#print('test loss: ' + str(test_loss/s))\n",
        "plt.plot(predictions)\n",
        "plt.show\n"
      ],
      "execution_count": 49,
      "outputs": [
        {
          "output_type": "execute_result",
          "data": {
            "text/plain": [
              "<function matplotlib.pyplot.show>"
            ]
          },
          "metadata": {
            "tags": []
          },
          "execution_count": 49
        },
        {
          "output_type": "display_data",
          "data": {
            "image/png": "[encoded data removed]",
            "text/plain": [
              "<Figure size 432x288 with 1 Axes>"
            ]
          },
          "metadata": {
            "tags": []
          }
        }
      ]
    }
  ]
}