{
  "nbformat": 4,
  "nbformat_minor": 0,
  "metadata": {
    "colab": {
      "name": "Copy of musicMan.ipynb",
      "version": "0.3.2",
      "provenance": [],
      "collapsed_sections": [],
      "include_colab_link": true
    },
    "kernelspec": {
      "name": "python3",
      "display_name": "Python 3"
    }
  },
  "cells": [
    {
      "cell_type": "markdown",
      "metadata": {
        "id": "view-in-github",
        "colab_type": "text"
      },
      "source": [
        "<a href=\"https://colab.research.google.com/github/abstruse020/musicMan/blob/master/Copy_of_musicMan.ipynb\" target=\"_parent\"><img src=\"https://colab.research.google.com/assets/colab-badge.svg\" alt=\"Open In Colab\"/></a>"
      ]
    },
    {
      "cell_type": "code",
      "metadata": {
        "id": "puTEdStVNjm-",
        "colab_type": "code",
        "colab": {}
      },
      "source": [
        "import numpy as np\n",
        "import pandas as pd\n",
        "from sklearn.model_selection import train_test_split\n",
        "import torch\n",
        "import torch.nn as nn\n",
        "import torch.nn.parallel\n",
        "import matplotlib.pyplot as plt"
      ],
      "execution_count": 0,
      "outputs": []
    },
    {
      "cell_type": "code",
      "metadata": {
        "id": "ZIui8wc8QgLX",
        "colab_type": "code",
        "colab": {}
      },
      "source": [
        "triplets_file='https://static.turi.com/datasets/millionsong/10000.txt'\n",
        "songs_metadata_file = 'https://static.turi.com/datasets/millionsong/song_data.csv'"
      ],
      "execution_count": 0,
      "outputs": []
    },
    {
      "cell_type": "code",
      "metadata": {
        "id": "1BmE5F2HQiSQ",
        "colab_type": "code",
        "outputId": "9e4713ba-328b-4ce2-f18e-39599bb57f37",
        "colab": {
          "base_uri": "https://localhost:8080/",
          "height": 51
        }
      },
      "source": [
        "song_df_1 = pd.read_table(triplets_file,header=None)\n",
        "song_df_1.columns = ['user_id', 'song_id', 'listen_count']"
      ],
      "execution_count": 3,
      "outputs": [
        {
          "output_type": "stream",
          "text": [
            "/usr/local/lib/python3.6/dist-packages/ipykernel_launcher.py:1: FutureWarning: read_table is deprecated, use read_csv instead, passing sep='\\t'.\n",
            "  \"\"\"Entry point for launching an IPython kernel.\n"
          ],
          "name": "stderr"
        }
      ]
    },
    {
      "cell_type": "code",
      "metadata": {
        "id": "qoXt94xkRIK7",
        "colab_type": "code",
        "outputId": "aca0ed5d-e4be-482f-a776-2fa16f643104",
        "colab": {
          "base_uri": "https://localhost:8080/",
          "height": 204
        }
      },
      "source": [
        "song_df_1.head()"
      ],
      "execution_count": 4,
      "outputs": [
        {
          "output_type": "execute_result",
          "data": {
            "text/html": [
              "<div>\n",
              "<style scoped>\n",
              "    .dataframe tbody tr th:only-of-type {\n",
              "        vertical-align: middle;\n",
              "    }\n",
              "\n",
              "    .dataframe tbody tr th {\n",
              "        vertical-align: top;\n",
              "    }\n",
              "\n",
              "    .dataframe thead th {\n",
              "        text-align: right;\n",
              "    }\n",
              "</style>\n",
              "<table border=\"1\" class=\"dataframe\">\n",
              "  <thead>\n",
              "    <tr style=\"text-align: right;\">\n",
              "      <th></th>\n",
              "      <th>user_id</th>\n",
              "      <th>song_id</th>\n",
              "      <th>listen_count</th>\n",
              "    </tr>\n",
              "  </thead>\n",
              "  <tbody>\n",
              "    <tr>\n",
              "      <th>0</th>\n",
              "      <td>b80344d063b5ccb3212f76538f3d9e43d87dca9e</td>\n",
              "      <td>SOAKIMP12A8C130995</td>\n",
              "      <td>1</td>\n",
              "    </tr>\n",
              "    <tr>\n",
              "      <th>1</th>\n",
              "      <td>b80344d063b5ccb3212f76538f3d9e43d87dca9e</td>\n",
              "      <td>SOBBMDR12A8C13253B</td>\n",
              "      <td>2</td>\n",
              "    </tr>\n",
              "    <tr>\n",
              "      <th>2</th>\n",
              "      <td>b80344d063b5ccb3212f76538f3d9e43d87dca9e</td>\n",
              "      <td>SOBXHDL12A81C204C0</td>\n",
              "      <td>1</td>\n",
              "    </tr>\n",
              "    <tr>\n",
              "      <th>3</th>\n",
              "      <td>b80344d063b5ccb3212f76538f3d9e43d87dca9e</td>\n",
              "      <td>SOBYHAJ12A6701BF1D</td>\n",
              "      <td>1</td>\n",
              "    </tr>\n",
              "    <tr>\n",
              "      <th>4</th>\n",
              "      <td>b80344d063b5ccb3212f76538f3d9e43d87dca9e</td>\n",
              "      <td>SODACBL12A8C13C273</td>\n",
              "      <td>1</td>\n",
              "    </tr>\n",
              "  </tbody>\n",
              "</table>\n",
              "</div>"
            ],
            "text/plain": [
              "                                    user_id             song_id  listen_count\n",
              "0  b80344d063b5ccb3212f76538f3d9e43d87dca9e  SOAKIMP12A8C130995             1\n",
              "1  b80344d063b5ccb3212f76538f3d9e43d87dca9e  SOBBMDR12A8C13253B             2\n",
              "2  b80344d063b5ccb3212f76538f3d9e43d87dca9e  SOBXHDL12A81C204C0             1\n",
              "3  b80344d063b5ccb3212f76538f3d9e43d87dca9e  SOBYHAJ12A6701BF1D             1\n",
              "4  b80344d063b5ccb3212f76538f3d9e43d87dca9e  SODACBL12A8C13C273             1"
            ]
          },
          "metadata": {
            "tags": []
          },
          "execution_count": 4
        }
      ]
    },
    {
      "cell_type": "code",
      "metadata": {
        "id": "qGWSVQCVRO-c",
        "colab_type": "code",
        "colab": {}
      },
      "source": [
        "\n",
        "song_df_2 =  pd.read_csv(songs_metadata_file)\n",
        "\n",
        "song_df = pd.merge(song_df_1, song_df_2.drop_duplicates(['song_id']), on=\"song_id\", how=\"left\")"
      ],
      "execution_count": 0,
      "outputs": []
    },
    {
      "cell_type": "code",
      "metadata": {
        "id": "NKELZWbkRbGq",
        "colab_type": "code",
        "outputId": "977cb78c-c010-470e-a5d0-4448eb138f4e",
        "colab": {
          "base_uri": "https://localhost:8080/",
          "height": 204
        }
      },
      "source": [
        "song_df.head()"
      ],
      "execution_count": 6,
      "outputs": [
        {
          "output_type": "execute_result",
          "data": {
            "text/html": [
              "<div>\n",
              "<style scoped>\n",
              "    .dataframe tbody tr th:only-of-type {\n",
              "        vertical-align: middle;\n",
              "    }\n",
              "\n",
              "    .dataframe tbody tr th {\n",
              "        vertical-align: top;\n",
              "    }\n",
              "\n",
              "    .dataframe thead th {\n",
              "        text-align: right;\n",
              "    }\n",
              "</style>\n",
              "<table border=\"1\" class=\"dataframe\">\n",
              "  <thead>\n",
              "    <tr style=\"text-align: right;\">\n",
              "      <th></th>\n",
              "      <th>user_id</th>\n",
              "      <th>song_id</th>\n",
              "      <th>listen_count</th>\n",
              "      <th>title</th>\n",
              "      <th>release</th>\n",
              "      <th>artist_name</th>\n",
              "      <th>year</th>\n",
              "    </tr>\n",
              "  </thead>\n",
              "  <tbody>\n",
              "    <tr>\n",
              "      <th>0</th>\n",
              "      <td>b80344d063b5ccb3212f76538f3d9e43d87dca9e</td>\n",
              "      <td>SOAKIMP12A8C130995</td>\n",
              "      <td>1</td>\n",
              "      <td>The Cove</td>\n",
              "      <td>Thicker Than Water</td>\n",
              "      <td>Jack Johnson</td>\n",
              "      <td>0</td>\n",
              "    </tr>\n",
              "    <tr>\n",
              "      <th>1</th>\n",
              "      <td>b80344d063b5ccb3212f76538f3d9e43d87dca9e</td>\n",
              "      <td>SOBBMDR12A8C13253B</td>\n",
              "      <td>2</td>\n",
              "      <td>Entre Dos Aguas</td>\n",
              "      <td>Flamenco Para Niños</td>\n",
              "      <td>Paco De Lucia</td>\n",
              "      <td>1976</td>\n",
              "    </tr>\n",
              "    <tr>\n",
              "      <th>2</th>\n",
              "      <td>b80344d063b5ccb3212f76538f3d9e43d87dca9e</td>\n",
              "      <td>SOBXHDL12A81C204C0</td>\n",
              "      <td>1</td>\n",
              "      <td>Stronger</td>\n",
              "      <td>Graduation</td>\n",
              "      <td>Kanye West</td>\n",
              "      <td>2007</td>\n",
              "    </tr>\n",
              "    <tr>\n",
              "      <th>3</th>\n",
              "      <td>b80344d063b5ccb3212f76538f3d9e43d87dca9e</td>\n",
              "      <td>SOBYHAJ12A6701BF1D</td>\n",
              "      <td>1</td>\n",
              "      <td>Constellations</td>\n",
              "      <td>In Between Dreams</td>\n",
              "      <td>Jack Johnson</td>\n",
              "      <td>2005</td>\n",
              "    </tr>\n",
              "    <tr>\n",
              "      <th>4</th>\n",
              "      <td>b80344d063b5ccb3212f76538f3d9e43d87dca9e</td>\n",
              "      <td>SODACBL12A8C13C273</td>\n",
              "      <td>1</td>\n",
              "      <td>Learn To Fly</td>\n",
              "      <td>There Is Nothing Left To Lose</td>\n",
              "      <td>Foo Fighters</td>\n",
              "      <td>1999</td>\n",
              "    </tr>\n",
              "  </tbody>\n",
              "</table>\n",
              "</div>"
            ],
            "text/plain": [
              "                                    user_id  ...  year\n",
              "0  b80344d063b5ccb3212f76538f3d9e43d87dca9e  ...     0\n",
              "1  b80344d063b5ccb3212f76538f3d9e43d87dca9e  ...  1976\n",
              "2  b80344d063b5ccb3212f76538f3d9e43d87dca9e  ...  2007\n",
              "3  b80344d063b5ccb3212f76538f3d9e43d87dca9e  ...  2005\n",
              "4  b80344d063b5ccb3212f76538f3d9e43d87dca9e  ...  1999\n",
              "\n",
              "[5 rows x 7 columns]"
            ]
          },
          "metadata": {
            "tags": []
          },
          "execution_count": 6
        }
      ]
    },
    {
      "cell_type": "code",
      "metadata": {
        "id": "h1tmyJCnRiwp",
        "colab_type": "code",
        "outputId": "93c666fb-964d-435b-adc1-a3234b6340f0",
        "colab": {
          "base_uri": "https://localhost:8080/",
          "height": 34
        }
      },
      "source": [
        "print(song_df.shape)"
      ],
      "execution_count": 7,
      "outputs": [
        {
          "output_type": "stream",
          "text": [
            "(2000000, 7)\n"
          ],
          "name": "stdout"
        }
      ]
    },
    {
      "cell_type": "markdown",
      "metadata": {
        "id": "U8ztSDieOAdd",
        "colab_type": "text"
      },
      "source": [
        "selecting a subset of main data"
      ]
    },
    {
      "cell_type": "code",
      "metadata": {
        "id": "3Zjvhrd-Rs-u",
        "colab_type": "code",
        "outputId": "d67a5949-c811-4ce3-8bf5-b071043aa46d",
        "colab": {
          "base_uri": "https://localhost:8080/",
          "height": 34
        }
      },
      "source": [
        "songs_data = song_df.iloc[:100000,:3]\n",
        "#songs_data.head()\n",
        "songs_data.shape"
      ],
      "execution_count": 32,
      "outputs": [
        {
          "output_type": "execute_result",
          "data": {
            "text/plain": [
              "(100000, 3)"
            ]
          },
          "metadata": {
            "tags": []
          },
          "execution_count": 32
        }
      ]
    },
    {
      "cell_type": "markdown",
      "metadata": {
        "id": "qmFxe8T_OGvm",
        "colab_type": "text"
      },
      "source": [
        "#spliting the data"
      ]
    },
    {
      "cell_type": "code",
      "metadata": {
        "id": "Mwur8yaSN-yr",
        "colab_type": "code",
        "colab": {}
      },
      "source": [
        "#songs_data_train, songs_data_test, _, _ = train_test_split(songs_data,songs_data[:,0],test_size =0.20, random_state = 1)"
      ],
      "execution_count": 0,
      "outputs": []
    },
    {
      "cell_type": "code",
      "metadata": {
        "id": "CwFFXnF6Rqin",
        "colab_type": "code",
        "colab": {}
      },
      "source": [
        "#songs_data_test.head()\n",
        "#print(songs_data_test.size,songs_data_train.size)"
      ],
      "execution_count": 0,
      "outputs": []
    },
    {
      "cell_type": "code",
      "metadata": {
        "id": "8H-oR5lXR-3M",
        "colab_type": "code",
        "colab": {}
      },
      "source": [
        "grouped_songs = songs_data.groupby('user_id')"
      ],
      "execution_count": 0,
      "outputs": []
    },
    {
      "cell_type": "code",
      "metadata": {
        "id": "PbbMQuGODxd_",
        "colab_type": "code",
        "colab": {}
      },
      "source": [
        "no_users=0\n",
        "users = []\n",
        "for key,data in grouped_songs:\n",
        "  #print(\"Key \",key)\n",
        "  #print(\"\\nData \",data)\n",
        "  no_users+=1\n",
        "  users.append(key)"
      ],
      "execution_count": 0,
      "outputs": []
    },
    {
      "cell_type": "code",
      "metadata": {
        "id": "2MIdRoj0SXvU",
        "colab_type": "code",
        "outputId": "aa255c79-3f26-4017-f67a-799c705a89da",
        "colab": {
          "base_uri": "https://localhost:8080/",
          "height": 54
        }
      },
      "source": [
        "print(no_users,users)"
      ],
      "execution_count": 37,
      "outputs": [
        {
          "output_type": "stream",
          "text": [
            "3863 ['0007c0e74728ca9ef0fe4eb7f75732e8026a278b', '000ebc858861aca26bac9b49f650ed424cf882fc', '00342a0cdf56a45465f09a39040a5bc25b7d0046', '0039bd8483d578997718cdc0bf6c7c88b679f488', '00498f4bab2bfeb17680113c7d9525ad5b0ad401', '006edf2afa5cba7e65ccc97892021a129d7012dd', '0085231435fa2ec76642d0ad79070239fa023347', '009fab78deabfd28481ce0123f5a9894c094d971', '00a443baf550f4bbdd974ba73720abf2759166f3', '00ab8753e09a9a0badbeb44a2433f28a4d305812', '00d818febdf653ba58391a780316057e59458ba1', '00e69873b5051f2212e6c52c213a1e1475e63041', '00ed3067d23bf3417800a2135748d91887848dd9', '00f09427308b2cfe93499bc96f6d2f2f7c65bbf7', '00f1665d61b32adb09495c2d0ab3e2de4cb424fb', '00f51c1ca1385bbfd80de6fe313936e69cde7f41', '00f8dc30794f9a22a041e8acf89b6ee1d3fdfc6e', '01388705af361a3ded407ef2aa51fde175a73f64', '013b05f19d72d665b37026b8e5ff6d19a4b9d0b9', '013f01fd2eefeb83e54581a7ea05b0eb951ac799', '0152fcbd02b172a874c75a57a913f0f0109ba272', '01655ae6bc52e29c9cd100a7dde4e9eeae5e4031', '0178637696e00cbf86d7d8b5fd9dc4a34774737f', '019d0d1c7a01f8736ba59a124160e5fc70666db7', '01aeea35fcb65eeb5fc7b7b78a4c1f360ed06193', '01c389aafef6ef442ec18d52790695490a2b9f23', '02039a5e50267fef4bd05fbc9f23c8e3e48928b6', '020b99a7f3db20f7046862ae7ded0c1a801a8d7c', '02192554db8fe6d17b6309aabb2b7526a2e58534', '02345ace5239d6fecdbae3e255bbdad213d8c8aa', '023dfaa280ee33acfe53b45d8e16ac44b832837c', '026c4c08056547b23f23264209bf4d4291435eb9', '02823eff1f5a57b39b32393123b185aa1265a38b', '028f0d0379419fc4bf939b77a954c1b22c329ab6', '028f3eb5f8b4b48b91abf560500636273bced0e3', '02a3cd5161b9175d57f5033f18ab91d7b3e1f69b', '02b2c70d83a5eeb136c518d99860c4baebec5e17', '02be4882a38beeb4259f3d2dfe9020b09f1a12cf', '02c108924f3e212c72eb48a57d07f755a22ee47b', '02c2dbc1119bca9513259f1b1903432538037d10', '02cd198c502763939921a6ca46d8cb4a1b5b0b62', '02d7a8b9573efbf4fb624ad56b31fd5a6ab5970a', '02fac622e53efaf8088c88debf51dcd204354de8', '03041e39e6f7994779855c780d04ff5f0afe1e1c', '0326e611b315006ede3b22017d211d2c1d00dfc0', '03533d33ccb0319f1d87e1c7c32feb6cc09a3f53', '0360876cbc3dfe6bc99b4d38b03c175710018aba', '037167e01a2b265b8ee59694db943f9556876be2', '03970eaa3aea931abeca5320f750383ecf723cbf', '03a5f244bd381121f3ca1923fd4d4361707987c1', '03c3383cf5e6c7eceb030d822a8d933821c80903', '03c90bfd09151973863c4cadd5a749cd7982abc0', '03ccd6969d796607ca4e04cb120e56fceb823445', '03f36e2646ff86adf7de2177bf1453d920e49812', '03f643f1413eddde08f89b15821a2f5a882d10ad', '04012eff4ce1c2950566a22947f9176ac9161e03', '0412de0dad711b155709796cba2d90c50a5b333a', '041b7d20f25aaf9a8099fa3f1b27f808865e6741', '04389dc9fa945d521584d20fb9d12a5635fa3887', '04396079bfe2a35ee92522dfadf2056ef899c456', '043d81932e75d5749ed5758d6420506e7bc457a5', '04551dfbee64d50615a88ed378b23c2ddca7a594', '0471ca2641936cd534e1f40b8b73e1e386a3762a', '04ebdc955ebba31ff7fb58f467741ed37df2ef6a', '04ec326432bd1faf07e05e33928fbebf9e5a02c2', '04fae5717df95d1e84cff5d3bdc79463f561af05', '0503cee1c57439f08781d56e71194bfd87c2de8a', '050b132921f5bc4465a0b0d96cbd4e5bb7ba5781', '050d88f241149a155b020592eb13efb643874953', '0513bf2c17c4ef3afdafcbde3d7005f1f04dbb05', '05202662576916aa5a7042bb60d6c0708873d8d0', '053bbdc32d4622480e0719345014505fe5098681', '05464d25016d2909d18bfc4705e7f86618eacf73', '055d52d3c1ded9de19214f108dd69d9fd2ccac5f', '0560337e6a33be7149c9568b5fde5788294fe101', '05657510bbddf2253c0cb326b521d2808dc7e59d', '05669f962fab6f8cb558faf97cc2793aa8050781', '058d5a7bd128d74cb03caaf9962caaf11519a13b', '058dfa536e28efc9dd0318beaeebd98b5190cced', '0590c53d1dfa6fd630945637e0ea86b4453881b5', '059b3cf6d6e261ba0badac054ea9fd058cdc6c16', '059bc675cd8104aa8aa6d9b19d40c78925387c85', '05ac75293decb5e1442dcf670556d099baf6639a', '05b19ff31617139e82a675d7f40ff91fe6d7d85a', '05b37e7f5796f93e93e4db84d5e1c0366806417b', '05b7a3d136eb171daa6bfe544c3ed9637db956d1', '05c2b11d9e77eb2aa7beef0d772fb4452349963c', '06148e2ff59b89633405833693174a7f6dd62b02', '063ef0cd02c950d0fe5799257907d85c0d341470', '064579e6f4272b2017c9e24a10570b84c5bff737', '0649664c876c1a1db92c84df1ac5e54e119769fd', '0651bdb5fe8c7a273cebbaf17238f906b9853d57', '0659229d409ede40887c2a4bc44e8b264a7b8b40', '067059add747af474f8b13c8e77ea2310eba39dd', '067c438629665094e07d043fd2e90266e282595d', '067e30bd32deea82901912dbe190039f2adc2ab0', '0695cb32e3f1b57465d524fa64d66bbb3f20d740', '069d21de2c5cceb6316acad86cdad5964d398e2f', '06b31818386e598017a475f8e349b3ca31ba3178', '06b57ae674fe035f38727ec2f305a9e770d9bb42', '06bb28374d6fedc772a242b7922798c7b33d91e3', '06d14f01b1d51acb598c505acbb5c4fb9b22970e', '06d4cfa87ae67850aea3b3e58fd7cb95fb82c5ab', '06f6fe893a71eb9936bcdf81591ef9cfa792d126', '0718479fee8b27bdf305967354b96132721120f1', '071dce637992c8a1e4732b44aff86368a622f81b', '07247df6373cc15f5e7dc40a75a0ce9196bb715f', '072843c8c10ccbc6dbac93618bfbcd655e2c520e', '073f8393be739d9d24cf360baf16bf7b92d61b0a', '0752faf858265a1daf5da0e50e41bce6187d0a47', '0760374a002d10252f593504f1274dfbe3749d7b', '0788954bd342e649c5a9fdce7f1754a24eccc8b9', '078bb0965eb5c6469410b740aee27d643f5e83c3', '079255bdeae163a2a66f9b9e33dc6e3f0e4e6dd7', '07a7eba0b8c59da006629b4e5e16a325a297fba5', '07c0250aab3f2375f602530cd6f37a39606e6475', '07caa920795cd4f20bfeeb0e192a5ddd9566ecdd', '07cfcd118b1b4d2d1e81b77401cd679c512c9312', '08316a1df5ab5f3581e3dce7a67c13e96410770a', '08368834de0aa0a58094eb94419ada791405369c', '087b949b3fde63ddab83d61d4ba82a6f162bd50c', '088b4feaa95d73bee79a30dce63022ce6aacfbd5', '08a54cc70a7332754ae5ef381814531aa4680ee8', '08c129083a44492415e40b70d8f90755e15f4a91', '08d31ac4452516e702815fef13b2059aa8210034', '09199ea22abfeb4ca0c1481809684a66e591bd1e', '091c1da19c160b7beb81fac9a4af3236a6a87879', '09214a301dd8e9f13533ca1cceb51329bbf8b350', '092c487226f9f035688aa4e28b6b00acb4bb617c', '0935f4ba514c8447ef59ac9b1c7e252bf6554ea7', '09565743e7fa3c05c46a993fb527866ae5a12081', '096c928ed2aa7503408b604e8b38f65c360c5c6a', '0982d67afe9011fb21f7c064063450daba1d7fd6', '0998e0b7c8a1b4d8129055fde623eff7224b590f', '099ddc2d7b68480a7b6cc9298dc5c7f5fe5c5940', '09a1088c7189e85c1088d43749247fdc84881567', '09a254cdf7b6abff2facc85aeae9536810304317', '09aa560703dff8a927955ac96b947577380807f8', '0a00498b9d607844a8826184ae7278097d1c008a', '0a004c08b700e4edb74b44c2dbceca4280760a9a', '0a2764f3c5aa78eee110f548c9ac1722cd2c1f0a', '0a452fab76371dc44e0d8ad6f012b2ee346617e5', '0a6dbd0622d123f8081647604ea4d386d3856ca6', '0a7cbe6e58f79bd35d980d107503b0dfd7e16cbf', '0a8df85dc15c368c4b7cdb573305e238c1d83d14', '0a962cadccb3e82a03d328b8850cb65335cb9f25', '0a9abfa62117d21f2b5f0157b886d3decd6fb864', '0a9c55c00784749615e69a51161f39271dfe5714', '0aae3885afd9ec62df38635031d1e00cf7c091db', '0ab50fa8bb934531c0b7ec7bcce7f57c74c9efa1', '0abab34c46d6b9242720bf55e50e325a911d9d3a', '0ad5347348e04ff0da03c98ded1c8d8b90c303a4', '0af19f4e658bf6bac25ca79eecb3dbb2e571dbec', '0afaa5d9d04bf85af720fe8cc566a41ca3e41c97', '0afcc0e9095c8efaa6efc60db63e5f3b7a5a5000', '0b03286244d1cb0662fefddade241f56a1bae573', '0b29bb18d67dae8aa357f97dceb09c872d182760', '0b4d9cec25faa43ea79efe59d2137fc9de8374a3', '0b51fa097a98d062774d8b4ef3210e86fb67d1b8', '0b67fa956c4e9a090b53b394dd9e4c1dbca6c8cf', '0b7912c2ae5f32abc5cee5ebda414963fe22efc7', '0b88cde7da254a6d5663f8f58b8a9358900f6e77', '0b9a6a7975b818259222ae7434a1095834d25b92', '0be265b7357d00acc37c00d89b88b5c180469769', '0c08a6af51b36477156ea4be5fa9e14b9b4890b1', '0c1a6a1fc9b0e6df616c5bddace2559a7952ebe5', '0c306ce1440dec3b5b07b425880e43b4fb66fe93', '0c5570a3fbcf44b2d859d33b2e23c0fac230f82d', '0c795a3ab3345f9986986c4c0cbcb9ac31e8e5bc', '0c79e2d11cc184029bf91b4039623a31b13ccc79', '0c7d9b8dfec2fe55387e4918f433dd30f57ee27d', '0c876b6745da5d31bc51c7e86939aa9416556ee3', '0ca53c6b46f30110383483228327d02d4ed9efc6', '0cba0259dddf5f2da56c26fe04f3feb70433d5e3', '0cba42133582514ac30d03ced146af4772ef0f37', '0cbf94d3a3f54e5bbd779dd389c1155418b3aa56', '0cc1e1cf9147293498edb6a88eb63ec30c7d64c4', '0cf2bebd71cf6afef6453c5448add6070274255f', '0cf932202b916da69e38c065a4e45ad228c506d3', '0d0dc361136730a8d39a29a8224db6f873227085', '0d0f80a34807aab31a3521424d456d30bf2c93d9', '0d176eb95537800a1e67ed5fe82eab3d2caafca9', '0d1e1d4239f948d9f3291889502bcf536027204b', '0d54fdbfbc00157fbd7fcd4b0b6c1996d88f8e68', '0d57ff51abcc2c382302316c4c5630e04f6a1f16', '0d6304101372474565647c7528ec705dafffcb44', '0d69e00392ce1b30944698e61e98837d6194a2f1', '0d72e97a6304e9af6f78ed38e526686a0323904f', '0d976d9ea7a02e845b43194d4e27bc49919b9459', '0da390e938dd8e48c11d49df166d39d66bfd7660', '0dd93f61fe69f292ac336715ef607214efb3dbaa', '0dfebfde9116a92fbf46cc52f0fd37d03db09bb4', '0e0e54d2b30b2b300ccd5b95649209d22389c529', '0e2a5a5a473805d1a65ef7b9dc167942de56abab', '0e2d5c640a7469b68476afebe9962adbb7b82905', '0e2f6624a9205bbfec266299bdfcf01c1fbef6d9', '0e36a24e6e75334a58856920191aa7271480808d', '0e378c7b40c5f35f18e75e740fbc7eced60c9391', '0e3d2861a744c9af7cbf17f9a31ba7d93d4e533f', '0e6200cba365632505bae3bb60fe3e4976963ea0', '0e633d79cb261b14af2cc64efcf780d4c7c9a2f2', '0e68e0821495382c78fbb91758c250c8edf0cfbb', '0e695c8614e9d76a157f39d4b30e7b076d3f3147', '0e7203676cf2c2f6b362ec201871829dc5aa0243', '0e741cfe121bb619177be8d8a135a2d3692d9c90', '0e97f83bfa20005cf32b56381b190480b7d540de', '0e98ee94e6752c0017f514e39ad35eacd2b0419e', '0ea01ee04eefc19317c27ae97e06b4ff85422ac6', '0ea9b74583c7d16c3e30758ba1d4506ae5586c20', '0eab531925b49fa836dcfd398e502b7885464b38', '0ec2fa785885b062f3aeb1f4be0104a6678090e2', '0ec9cc33028dff6209aa49bf645ef64bdcbe00fc', '0ecb1f480ebb237dc7821c898c94219cdfe38789', '0eda271c8bf8b846c1c0320f6b7656ca73b80992', '0eea6263430bcd9dee2d08d3acfe57a62735de3b', '0eeeeb2a6586507246434a3bb0d46b01254fc950', '0ef42a19efb74d0a05c308d00636c8d8d41bec0c', '0ef5b8296a33861f0d80777fb1679cabb2544933', '0f43c743143e3e4bf317b02748ef807ca03bc403', '0f6b8ea5ba6f7df04932cee775b4fc2eb9281dbb', '0f78b75616a51fc40ff0ac27589c6901bc0637e8', '0f7ba73c2939bbc3914c98d71b577c24369b4078', '0f7d7d02867e87f47701c70ceb6b994c11b4db85', '0f93cabd5a2b0cedd8fb21a9b5d58e673a5371c7', '0f968e1c7ae4824f546b8313a9547cb8895b7085', '0fa40519d4e6f85c9eaddcdf107e8f6d431942b5', '0fc18c70129a86383495ea3d6e3acab6fbd2ab71', '0fc22d4c05443a9e6b73b3cc9315ab48a9d65f08', '0fc272faffb2c76b6d906c4cb63470e28e10c0d8', '0fc3df6d44579777034d4b0f16063b207d094b7f', '1004d9cc563ef90745bc2973b599c472bccec641', '1012ecfd277b96487ed8357d02fa8326b13696a5', '10214654e18dcef9801c72c4f901b72aef24fc26', '102afe2f3297be7ed9fd13cf869e17b3458b9d8d', '1039dae804ff0a96f689b2c2961d390aa13914cf', '103a439d41748ecc78ad5510d2a3c9042281ed4f', '104276cb82c4f33d8ccbdf7ac06e5aeb03dd8bd4', '1055b1b090734d16fdad0ba3fcb00e1fc947a4a1', '106ed35854f64d480a3a7717fa494dd73d606f88', '10811c1d93db5703b41fa65c8641b816f0dcce7e', '1084a0bcdd0cb7ec41136d2cd2ce3d0980a98aad', '10a3892e98246158d7a650d87c3666ca973eef37', '10c0104ca3e1eae08d99b16e44bbd5e7ec2d4807', '10e1c96eeaf82f3076fe31bed9a67bb733ef9ff5', '10f5f42d4ceeaf87d8a98916179b01d145f6a595', '11139dac10ad56f3ba0fa89551167e0d899df3fe', '111c0a67c0d66acb09c90d20c75697f26f652533', '111f515622629859e7aff2a06fa3d146becf5027', '113dbf9e30bc2acd50518c1e74b1920b5b3dbbec', '11475d0126537135149b327e9f619854ccf648cc', '116a4c95d63623a967edf2f3456c90ebbf964e6f', '11aca643d18baab9cbfa3b68793403fdf0a70d87', '11afd3a2c8a511a3ef2da00d846a1b1dfe1cbb77', '11c367ad16dd5b081e5b6053b96942638072d0fe', '11c3e121bce1bc0281ea04b75b1630c9fb8d693d', '120f028f8f94886c0aa401b4d2c72f7695c67531', '12232d6563b8ca85c498459464fc090da74647ea', '122e1b1b01d54545df6c56ed88bc1f6ee98dcc1f', '123933c6db09c90df23198075854bd8a011e4380', '12497e138741a0b94bb36a14bef32c9d0ee20fec', '12768858f6a825452e412deb1df36d2d1d9c6791', '127f6e2bbb86d878464ed08131b4103a2fcef1e6', '12993e59b442b6e1ceaf2c81d6d667cdf77d8019', '12a337b3b48612e3f65acb324f6e12edef4bab7d', '12a4a991c8b53cd6906995caed8b1f2bd3b6436a', '12bc86005bc626f6963f620d5d49ed52ac8e3831', '12ce12dbe40acfbb04afea05d881196ca987dc75', '12eb0c2fff333a1b301174501cf95d45d70d5de3', '12f68ecce6f8fae30d651fe48fc3f70afcf2503d', '1308a501ceac8d48b544e134367c4cac114feb26', '130e5c1007c9b7abe988ec9fd12790cf4d58bdf2', '131416abd07e875dbfc272eaf813dd1561548507', '131f19c0861bd89337e84481e2ed2b14096ba895', '132df8068f5d9802a4f22fea9fdce4bd178f83b9', '132e0ba4cab32daa020d7dd7f1d75c2da9e91bc0', '133183f8118c5f5e5ae673ec8c8fec16a11c20e3', '134f64ac7c45b7b2808574df0cef33f96cf54b73', '135ae184f8552252dcdec7f82ff6f647fa76e9ec', '1367b0c8013d1e210afa55572050c914cbb4b35b', '136882a8cccc623b5481307d1c84dbbeb7ac23af', '1387058e5da19c6de78c84253f7092016c0fa470', '1387fa354f537d53a8124f21c74ff6d7ff524feb', '1389c5070e1d10b10c43b4252b01744e0c888231', '13b2f228975636fceeaa47bdf06e35f644899ccd', '13b7babffcd29b83378c3b673712c4073b3460bc', '13c44d776b293dba97c75e73c3403e2c6e59222f', '13ce57b3a25ef63fa614335fd838e8024c42ec17', '13dc8e9709e615d1de2c729b9850024e27231570', '13ed9ea45bb081014ac1aaa7595a882c553c1559', '13fb9e1602966f8174923479947bc2eb429b29a0', '141e87b2ac1490acd0360dc53168c110bca6af8c', '1435dca01d4deae5eeba7841bbcd4798e92cec42', '1445af3d9ace05e309b96d340a3038571a97290d', '14525da5b07393d58a37db78e2054f7ed940971a', '145baf308f0fd034089d178f52e189ca8174d97a', '145cf47c196da572ba039d399a69b11d69a9608c', '147e9d8667ded57234016637c66ecdaf79c71887', '14903f6491e335f4c5f9c42573d700e7ade59c5e', '14a2164d869d1fb9562edb1a8e2bba195d17c184', '14a5a16455c63fd3f92e384237aaa5c341f190eb', '14b46a393796e537e15eb2a6a2544a8f86e2e5cc', '14dbc77d46282a82f51865e31bc7fa1700c63279', '14e03ac5cd6b4e1b2c05c83e997a97b60d1f083e', '1502714990575f7ea1b0ba252dd38b697e05125e', '15029f57ba5513c3cdd2db2182b9401fa1babe52', '1507d846202842e1d4ebe3e5396ac6c7a0b02494', '152eace2ad3e0a83b4e34f1d1942fa8d9dc9848d', '153880fe6d710e5153b1bc9870613d686d1f0edf', '15415fa2745b344bce958967c346f2a89f792f63', '1590f683bd0094e78cb9b97546328cbf7452caa7', '15b64f7a097c90b540b492e360a643d45234cfd9', '15c3875b184fd85b848743923732df25ae91102e', '15cc706a7f24975ca831aaaf297bf0392746b3fe', '15d45e75a705119856ca66f0b5497490fb5a8100', '15d9d05b65d0a9d8aabe0636190cc0faf0d15082', '15e8ec7374ae1737721a8337b9b733b04f3defea', '15ebca6f56d2dbbb94b5fb72f4b481ae9481f6af', '15ffdcc4da6e07c58f58b3c3f91fa704cafdd3c3', '1615dd8542d0fe48534ab824924ab51c8889f0d3', '162707f306224e61b19dd6152df756fa64a7b82d', '163480943b48726ff9a8b18e06eafb8bb29df09c', '1645b689f873529ab85e3b72742be44813e82bd3', '1662d4bc1f5e65082ddba6af1e4aef9089a66698', '168236d9d99788cd6b0f67b6768e02ea2f629588', '169af2bf946145529c1786f28465626569827ee4', '169f9f4c68b62d1887c7c0ac99d10a79cfca5daf', '16bb30cbf54e6644f4f311f6a03283e7908d39b1', '16cd9a19b5a433919b3cf86073670369e8d2e4f8', '16d80debf70592c40ef9cd4be13fac9c0ed6891b', '16dab75f5f6fc69b078757a4c814185e6bc3bf8a', '16e1b535ff8fb1737ce908210825d3763ce7d1bc', '16eab09d09292def0639cbae7453120039256520', '16f3607ae705a9318b763a2b2c569796b9fc61a4', '16f5dc37b96c153c462bf306ceef36112d36346e', '16fe0924b195cf456e1084a02622afdd0e82d6e1', '170a030b8b5c26e8577a742642bf292608756cf4', '170ffb4f85e589a472225ea4e51144c70a29036c', '172c299be01ed6a7686772d6df517604d0042f44', '17501ae58f82e21271ab403c56889027844a0cbc', '175fb4d4bf89b82021524e9485fffd47c3ab1aaf', '1764b2ebb09e2a40e11ed82f9c37a53a706cc4e1', '176b5e98c1f01dba146ce8c6e15cf6fc344485ec', '176e3f8a0eb8bb540a0e731230fdea7147c357da', '17719722038d3027f31006b7101de305a210b180', '1774d9180bdaf049d58d9bc88c91961a917adec3', '178e43d9c4e6cfccf3a371aed3532bc0ef030f11', '179b2286bb4eea7193bcfa0c36fcfa4eade2b34d', '17a1a17c613a535d05ee848be5f99f0b4b05920b', '17a9f10f660ef4183522be1c5a64f3d4be62f122', '17aa9f6dbdf753831da8f38c71b66b64373de613', '17ab37e19269a3d1e0ef60892b7d06461774c148', '17ac9905f03a5d2908ac64667fb156bf63ccae66', '17bde89f349a2f60768dbcb8ce43b20a42f68aa8', '17cda2adced0c3165fd817d1fb17b8541af1347f', '17da4dc0d77c5ad8199ec94347aa911cdedc220c', '17dd68cae299c1f76a94cea03dad1e06aeab3f8a', '17e12daf23b289266ed88c31b6bbe011f6560548', '1818efa095f5ad6a879ad6f138e571e5d7b72e98', '182787573067032de039c37e6d3490f56b9f236c', '184cabc80ff5eb8fc3872962cecf4a6709f7218f', '185e43fc48a2b9b9b8abaff1f8f7020db71cc69c', '18624c56833b6a444eebcd145ff7d5dd2cc70229', '18bb5b0762063e6d2a5efc933b907a64ec926f32', '18d10884be0659e8595572d9e023f929b01da726', '18d4b740d7154598cce28544412d4c5d869b7e3f', '18d55d9867865d5fe0a8098003a1ee876da9ff0e', '18dc95f354220b343e98ebbb7c8564291284ed9f', '18f348fe717d83c9a8afd7d9b479e81e8ad5d579', '192434b3f67c207974f35ecab63a1030d06befae', '193aad221222888e70ba55bf15b3750b72fb01c4', '1979a40aedd2b38828c885f8232992d49044abb6', '1986f5657d2e87dff2c09be1eb705fed1866b399', '19a0bcaab9ecfd33d07810ae076d57eb41a4538b', '19a9b9c8f0178e1311c929816dfd4e68f2b2602a', '19d6ebd8c8a622d1b0115c63bee06523792215b5', '1a0ce538dfdb66bc665964473297990b17b4f710', '1a1582f1990600caa9505db21871472818a9bd52', '1a39cf33853fd23d2242cf7b13cc8eb445befdd7', '1a3b94369ca41bc7a8b2a0fa607c9f5f0004e570', '1a4f2d9fdfd834e1a8b0ecc3559e67971d6e78f1', '1a520d7a5690a3d589a9db820db0dc9e3d34a0d9', '1a638366f4596110fd4cd616b36f142fa1e4fc97', '1a640060dad45f7cb120578b24533f36907ad1b2', '1a65ddc4242cbb41a7a9da702137c69cf1b9151a', '1a849df9dabb15845eb932d46d81e2fd77176786', '1a8e983b0ddd773a07fae472963fab951e1e6307', '1a9d4d4fecc40e0fe6f16e36781fa5304fd5e23b', '1abea31fad78a903a27e4e1b8e1afa45cc726976', '1ad790a30c2832d3dfcadc97fa23c58d67c09b35', '1add6dbfd951c3d1f26f1f91ad2a39bfcc9c0fd8', '1add86f5fef9b4e2af76c087b40bd7e16767fc54', '1ae87ee3f4cd5cff7ba443da3d41836182c08245', '1aef0cb5b39844be4ef3684edb292f48b9bf8954', '1af9fd519eb696cd5ce3e42c26e8fb62c6a256ec', '1afc7c31148cad07085434ba808ca5ad4c6e14a0', '1b00fc5a510fd249d4d2f94e7f21f1e2eeb21cff', '1b1f57c34659b2e9da33c477850ddcd8b85bd326', '1b2950361c6dc9301d7ff0cb5c5e109911adb9ed', '1b29776229cb0bff4ab5035124826a6744cd5578', '1b488ea3bf98fb43c89fa1ebba360a077a0c30a9', '1b48bed16aa90027ff9a5bd518038fd29fb2681a', '1b704d4cddabea8258bd93497fcb73eab32fa592', '1b724b66314d54ad60efae79a106482072108afc', '1b72aca404b47e8e3f329734a2572e3875c74e9f', '1b9670260caf9a78cc66b9c2108b66e3689fa94d', '1b96dd04ce96aa7995e0f817e762ca44a24aab24', '1ba1b78407df68d441bd604cfa0a162fed5dad09', '1bb873e159ddf970f277149181b849bb39e953a1', '1bdf12b7ed9b9dbe2822970c7ed0bc669e558c3f', '1bff33ac3edf3cce821d1af7089159dd95cda65f', '1c10d9a357cebc5757df67e50aade79456126756', '1c325f520e1a3a6defa46d124b96eb6a316dc27c', '1c8fdd5b64ec43e498dec66662ef994e3e045678', '1c923dcab3d9a822328e169930f313178be819a0', '1c939344d153d4ab74ed9ccedc844b4e458c8fff', '1c9bd07f4df99e062292787088a3c9595a060905', '1cb20476da3a7ea6aea776dafa506220bbe2a2c7', '1cce44e80daa107494c2624c5f4829491a220943', '1ceb5b69909fc226527ec9a3c83258569e3bedaf', '1cf7c5c4705b8c7f282367cd391ad5888e294fc4', '1cf865d709c60318fb007f5752dfad5d7317c319', '1d0e2d525b7f35e333288e3d0095286baca23cd3', '1d3ecbd9ff0c4efa33e5e77a9166ba5be1749ac2', '1d437c9cc9fedb5750280df83633cacece0564ac', '1d7ad124eb74cbdc95e0a2452934db7b2f4925db', '1d8a06c0e7fac52920e6b0ba160d781d10756676', '1dbfe3d49c838f7e9e8a108f6afa037bed391910', '1dc0b27138685317425ff57338e49e3d383022f9', '1dd224098646eaf8711db5cacfb02169d9652678', '1dd59879465d0f063f522f4d755f94d99ae20d08', '1debcdce1fc6c1cd34912665f8134dcff229ce9d', '1df33b965ac9afb508f1d36be3df999c2f0e5138', '1e0c3de356d0eb2103bed3539e1ca95a7ed9ff63', '1e1fe3f788e190b7ba7b52b9395214e85ebb072a', '1e29a630789f366d6382ef220dacd13845a5b28e', '1e2a4ac5f5fdbf40a82e934e7e222b73ae2ec8c9', '1e38891a3f2ea5820c58c445a53abc35bbf97822', '1e4274982ed35aca847cd9305a4622f0851feccf', '1e44feffe23c9f0fdbb6f140a484d750f8bdfa1f', '1e499600cdd715e2680691afb49004311f3386f5', '1e93f5a3f85d41b482228d9e970f3d7dcde086a5', '1e9b95b396832dafacf5a667f70cc0ae3a081b91', '1ee591a388274035a4fd8a4ae40a9589d320bb9d', '1f0972af960073c529dcab8ee1fc573ab2313ed9', '1f12fee705927310c615a2d7ee58d78b3eb1bead', '1f2d0f82aae27c374b5c09ab5ef122f6e39fbad2', '1f437657b3a79487a38ebebc2fd4181a7a54c300', '1f4665eb72bd69e545f7ee77ed9ad4364e9cfd6f', '1f486ba3b87b974ab12303bf80328b6914310786', '1f49727e3bfc0611b3e593f9b1b2b8b19ec6c994', '1f49e6b46bc7ebef45dc96576395f1cceaccbc28', '1f4e0217b71f6f3ebab56baafd4ab2a675e4b621', '1f516c86606f814fff730f5050ff55d95d5fe676', '1f66493766a4c36f1ff435893896719adf13eb96', '1f718d92405f198e52173cdcc0708e22a050878d', '1f72e0a29ff446cc5e016bc043044785fc9322c2', '1fa831c507eccbbaedc706d0a3a7965cbee967bf', '1fbac1b18246a6dcb94418e83ccb0e1eb8562f51', '1fdbeb79aed08f4c87f505ff3f2b6b2495c50ea9', '1fdf267d8e81db0bb69093460fdab8254e69a2de', '1fdf78360d1114ceae56b7abff2dc94f9246c53a', '20054de2ec952b5f3a8872374e26d7ee4aaa8128', '2031f6cfdc0ad1504316ee6969f19ab5c9f76133', '2039d48dd80b060f3d1d45a43d220d465e0cdcb5', '208aceaf6e6c8040fc0ff5d4f48b0986044807d6', '2091a91cb091b4174738dfa64bf7422605bc66a7', '2092dc43e144c8bc70720ccbb4306ab8d371a4ac', '20ae0172a2532bfc2ab9de8db3a01bde6c3710af', '20d0638c7ada27ac12346b0ed5ab99b39524291d', '20e5c2c0bac740148ab44830d6a42a45bbd1380a', '20ec3d8d84e0697a77b62756391582f9cce4fb54', '21144cc4a43b09432c04c3947964045a89135345', '21307abf56b86f0ae630dbc308252bee852b5288', '21388cacaa69d860fa639dc90ebc29cfa9614922', '2150e01fcc01a267b9f3b54bf2061bb127d96cc8', '2151970107e08d58919003899f952b64af0ee0ec', '21758cb8c8bdfdb0d36cc72377d8a56972f1410c', '21ce0ae39b202d5ab5a2994a1a764c046dbffd7b', '21f4ac98aa1665bd42027ba12184a939ff435f59', '21f7718ad37c5cc8f495d4abc7c3dcb692dc6987', '2213684bd758c36fdcf048e9cd145f4fc1aa2c30', '22264df0cf834cf3066af44104659d90fa87931f', '2226ea91e56066a39557acf738905ca6f0d6d550', '2230c30c4457a8c457f96730160dff9432c7b6ae', '223355c0ffd9042610c8aeeaf9b5e54d3cebd831', '22345941136f885f4a4403442304241f9f38842e', '2237b4a89e41b2993cf8a1007d16d950727d0341', '224293713ad1bd2a8f431726e61e295a7ca9db29', '225197189a0ad81289af453a93b75ebeb7b3c828', '22820abc07d28e9a735ecaef2ba80ec31462f8ee', '228303e8838e44d0c3ca86521417235c1b9dea4a', '22b6baffe7de156c64060ebee5b3618f2aaf8c89', '22b92b05796ec7dae3f755cb551a4dc1470cad3d', '22baf6b7578fa2670b686368ca0013dcc8f4de62', '22d4a3e76b88dbc5332cf21c790d8662612a581e', '22d652f8891ba2186a4ce3ee8de7c192148108ef', '22e8008c8eebd31a0d26fee7222a0a5802f5959a', '23018f22809ad6525efcfd50feb04cb83c6a5463', '230a15dcb189ff389bc907c52cf1bba6f6e9cd06', '2341121b6d6d2020303f02053dad60586e41034d', '23509d105fca47c20f23f3bca2cfb345e9e8717f', '235ccd8f290fa3dc20bb3391e4d23ababc776e67', '23bb7c370452a62d28cfa0def420c34e7c2716ba', '23c0595f6253cd2b6b95d7976c0df7e3f5ebae4b', '23ec00a36e6f7ac641013218fe0136e39465b691', '23f2cd6af091892634d852ca218f23d39ceb7206', '23fd43c7dce6e899792fd41036eb3069baab43e8', '240305740c89f3a5bf54f6868cd21564bb99e313', '2403da5c6f7864d51806a5318d112d4f4c27d9f3', '2418d6837aada8911991cc748bc70a9a479f0cb4', '241a0ca09456933ca537bd3f77c629edec6cecb9', '242092177c9619463d012226302368e307a9ed46', '244ed234ac5e74cded97eca84bd371f7ca3802b7', '2452477f6e19036d281371d10bc0f265a21b3da9', '246c2530fad058afbd7598a9a37fdddd380105c8', '2475b003df9c084c1488b2e63666e8cc87112180', '247a6e8d8f965e2a154037587fab821a3f77feb3', '2492f7d999620e90ccb33fda61280a5549d1b19f', '249e86c60ec6fce5c8588d51fd94e85dd47ecff7', '24add0b309fc9bbb777c9ab2a7ed762554d3f3e0', '24b2620223ee6443aa3d06f64129df892687ca43', '24b6ad02ad50b33789f8a1a81fe02013f6e485ee', '24b8357ca97ffe4868bbb7cf0c7027730821bff0', '24c55f26374c3c19ecd1687e0c98e10b2b25a841', '24c57456a1641e5d844ad2c699940d94c384a7d8', '24d95e9a6239e4b45c508d5360aca591dfec3dc0', '2502df6209b7477422ffdb62cb78ed139b9afcbd', '250c0fa2a77bc6695046e7c47882ecd85c42d748', '25155888f6aa022cc4ab172124384acb81cd7cfb', '25432ebebcb969548379bf34c2d374527635b60d', '2563ea1456b4f0075c7cc2e6bfe54fd41f8dedf5', '25687276e97a26a583b39c6e28eb968fa267bd06', '2568aff0ee8deecab033c40a8198efd39bfd2b38', '25918b59c1b7ff80dff2e7ca5fd88912193b0503', '259ed24ab6cf18ceb666f222e24df9c4f8db702b', '25aa0ec046aa788bf5366d7b7bf81c17fa022e46', '25adba8837eed3e50815eef6fd9a66fe93f4ad39', '25c685bf46dc020a5a18219a76b911e27b02dc0c', '25c6bc04a88cda0dfcbb71d8f9d1f30b8fd641c8', '25c9dc346bebe6f08507095bae1fd20dd4c1b4b4', '25da9884a493c207a14e841f79d211382ec8219d', '25db1e8944df4cfd75d3f61414bb7401502f778b', '25efc1a1de018968ff409914a1781ecc42c396d9', '25fc0200450bbf726c8511fabe31ecfdb81732eb', '260178bb5663947cd7e6e91d0c59bc2d2e5a512e', '2601d1dd83dc4b440a2c3ac1d4dc8621c3580933', '260237f364fc4a2d4e428153a5a3e747b9b643f2', '260c7adab9c3a441b922d9466872d1b1f6710eff', '2662c2cdf7aa269d68539ecede3f98b80cccc330', '266d46487ca301fada02c74baa381569be1418d6', '26708ef5a47001ff6e18226c851a85179a842e63', '268249aadb07d8dc32aefa119f49417e2679bfa4', '269bede10e3f59637ee6b5af46934d927964aa98', '26b43d742fc00f243a12f2e51011357f39d02579', '26b9adfec9fd0653d382266c0c77d6e793811a0f', '26ca58a86de54e5dd9f58c27ca780794e90be5ec', '26ddf56bc0e5be555acd326b3f6a369141e8d2c2', '26deb64891c3034fd51c69478a8ec79e9ed04285', '270dffee86b3e7bfb81892f5ae2c60c1d2f15839', '2711233494961615f572ae62504edf9cc20b96a7', '2717c3efa5da1f0932043c04b0ad7d7aa152f2a6', '2723be494eea8bc85275404ac9743d59d000e30a', '2724a8f04b2d16ed7d41f065fa76a6ed0dbd0b36', '2725fa9d7ddae299ae4ac067e18e8465c8afdcb1', '272aa0707cb9392c051cffd0ef7b86e00b934ff5', '27552e85f7de53bda2b0b4587b0f46b9120b9a65', '275ac6f64f94e00dc79605dc558afe366d87bf35', '2766f750d9ec62ab4d39fc520c4820c43f2c2111', '276aff7e222be66e5e69298f631c726907afa1cf', '27fa038f4665db4133188dc0f54cc1b736d132d9', '2825909906dd00062aaeddaf9187b70f0dca9b75', '282add3168f225622c21bdc8f0caca630411f373', '283260cedb01a88c5822d1e3c8ed2a575daf8e3f', '2833a7f7cce0c7e87a55cb283200e3f1c0b39dbf', '283ddc2c3cbf4c5229336570ab6dc86cb556bf37', '28989bb0b163197e08b2aa74118d67dcf09af9aa', '28a13c030a3f5abbf7ed66ef8d214d3c3cf933db', '28b232e7ecb32c47c05b795a017786d4be96ef7e', '28b419f3d04cc79932982b2737e843ead38ab9b1', '28c54c63f540efae6b11facbf67dcd719c44e16c', '28d146f636c529e2becb72c6565be603b1fec869', '28e7388a08d9443c23524e4942ccfc1e9437b790', '28f1ba5577444f1ebdddcc0c615eacae7f700413', '294e414d2d663a93691461909e6e1ba8d1fca2d8', '294fd558f5789ea7b095485ce48eb536f446503f', '295773c4193b190d3527c6fcc228e879809fee1a', '295bc143d8881b85f564bc16c6c3011bf01346b7', '2966043d4473e7540f8272049bed83c09ddc4160', '297688e0f531ac69d22ede161611eac53491a304', '298046102e1a580f22be28ca99ffd1c6c35db1bb', '2985f5774898ea0fadc05bd4c10253dcfd48d28c', '299d42c1e4ed0e7b2068588e3648fc8923b33e11', '29b40bc13a61c3c7fddfdfb070f384daf4f47847', '29c398b7868b5020356cf06538a8d6b92177703e', '29e030a1eea04c06837b466a5328bf55133c84ae', '2a0bfd858b2ed706d390d5b6562b8fafe26092ba', '2a13fadeadf72823ea67956906c4f19284fca546', '2a294bd589db99006b60495697de1f4c3666e1a5', '2a32c479648c33b642c4d8a89488ab8362d7c18b', '2a4f77664159ab2061cac88c748b38bb64fc9548', '2a50e1d4fbf5c62caf77a11572465674ee378ee6', '2a6be5409222c7e928da39601f866e3d672437d0', '2a898861a2b11ec20c9e796fb55b2776664d9a51', '2a8a8f48fd4eb5ca4b64874162df4fdf584d89c4', '2aa3b8c9f60070025940183cdd44602086d7b535', '2aa991d816553f172338ba4834193aba92abb4c3', '2ab1b127b7c769f8125f0b27889ddaff8faea2b0', '2ac00477d4dec0276154475cc55c566d4613598b', '2acfab65ad8fd9bbb3612ef2a595bb290823e381', '2ad19ca57ee43b4a9a416bbb917f092f4b915dd6', '2ad73f7405af6cfd61a4e755c21bdaad56d53286', '2ad89c4e894611969183cf274cfc442f203573e8', '2ad9810a1cce606674b4b97237eca49dc05202d8', '2b05b8168397ff62eaae7f4acab25d9feaaa07bd', '2b084732036bef112d34620eeae4699db6b05122', '2b1287e7cdd062baeb72ef39b549eea3ace15bee', '2b376140ae7999e63054866074895dcf82f60fee', '2b3863dc6a789c22334dc5d0a64bf65a46fbf952', '2b3cab16ac04ea96b08bf14d252f2aa531cd7cca', '2b55f7b00ca51d3f5bc084d925ea260a6981717f', '2b66e17ffedc35f13b8b0aa50e4bf010508f4d70', '2b6c2f33bc0e887ea7c4411f58106805a1923280', '2b79720a207086d32f6f89b493f4674640cbf96c', '2b79b0776bb0a23e1685e18be12bb54a47cdf6cd', '2b84ce9e578840486e939aa7a9a38d382e0c278c', '2b9c57233d899a375d83dc1adfe3d4cecfc87f50', '2bb3bfe08577ba972d8e1a18dcb8c8b736118733', '2bb4d6149095ab486b66cca925be03f6d03bffa8', '2bcc4080e066f4980a079cf83a9593c543ee5b00', '2bcef2a30bd8913405971761a0e6c292d771c086', '2bd5d10e3f48cc0d645da16d18a9e672035bc476', '2c12e9b742fa0b18ab56fc489122aa75a1bd6b01', '2c218a60b3d777e9e12d56c2e065a9644b5e5f41', '2c42e6551311710ca5a839d62058820a42ead493', '2c4c75973ea3c0f2f2443ad03f0b89b3af922274', '2c52643742274d5302ce5ac755e68db2e02db541', '2c6366e6e30c5adce49e1f905315190bdf9b00da', '2c684fee5e727f29b7e8b24cd8996de337b7301d', '2c8ab09d80801cabdfc48c0cb613ba66db5c1de7', '2ca6a209f84032063894bb1d7d8e0dbb02b1d411', '2caa17673705d54e08c57c04df64b41ea3048c98', '2cb3c671c84248d11a50c1b12a3a41cfc0701094', '2cd2739793429e69dd90c54492e736f64588fe82', '2ce7987ad69023b3f3c8e9b1d0dce73f3bb46005', '2d13f85a0541908aae3bf124d959eed4cb5ed3b8', '2d355e65bcaae0defe13003aef9d21f1e71cfd56', '2d40a826e9b1fba468c3058fc81dd78014617780', '2d4df82baf7a0c2f39706a40c25f96fa0c61ef19', '2d5bc73dfb8ad46b0473951425bb31537de628bb', '2d8801483c29f98fc0796c9294cc9886008d468c', '2dae5fcf510b95c20ea9ce2ebb7fde8e27768cbf', '2db20d301139332597120617d8dc07b6b3e9fe0a', '2dfac08e4cfe91cfba704c4c536d6f47aa124894', '2e00a82cbf31b6a87a2a71a4d55608492d84ec61', '2e020cb0777ab09e39f8e0ee53b91669124cdd96', '2e09da97e13d95073ecded7f4b46897527f6ff3c', '2e29ec5639e3bf72b3897bc0b665f0d0fdb163cd', '2e2dffbc31b14b94d1ddadeadac8dc913a71624c', '2e37aa820994c7e8465721a6a6ee78f48fc4df7a', '2e50a0c0e1352c60f451a334b2d2f41b89bd4e56', '2e50df40d464b1d86a6777c830a1df92175f06e1', '2e51a7fc9a84a6834fb4e232947134bdde694904', '2e600fd4c849c23865222385d8c8eb0f6f7a25b0', '2e6170e8967297737988ad743ddec05bc72138c6', '2e6d06eca1bfb31a916dd1d39a080b0fcfd3e12e', '2e8b7e5f113de4cd1a0f68e8a376802b8b809249', '2e902337446c3979d0f0f02ececc6535a59a2575', '2e928781d1466b7d3279e01b8e3f15e5aa547df2', '2e9d0027ffacde0c33060f4bc214664215804e9c', '2eb11ce83cc40966c9883cb7a8007cb6f354584b', '2ecb1e0b9acbb2070fe7cde895824c3922dc783b', '2ef2c892458768a987404cb9bcc979c5c1432d54', '2f03ae415b7efb7c015cdc79fa6166dcf1ddef32', '2f05297f683c61f92ba4dd2810f4e950f467a2a0', '2f2716afdceaabde75a170c06f82226cfe4d1cc3', '2f27bb3405561e8c5cd2a0f10a35c639e06c38f2', '2f343c8bd0502c4cf851a6970e47d296a4b76d5b', '2f42b29e8bbf0b42d7eb97ad514d1dc41960bc78', '2f616048b1c31209bb0111be3c7b12bad5cbaa27', '2f7a1feedac4cabeb1cdd024b4aaba78080ad8de', '2f7edbb94a39ad15435b4ffc4b22885cee4343d1', '2f8e8b9c828b98962fe39e08df20608b56fde4bf', '2facb00377dfa9e3256e750f466dc2730822287c', '2fb511b8b55d191b9434115d9fda32cefdb58811', '2fc2c759926404d7257b5f5285eaea014c17d69a', '2fc83fcd47b38dde9c3ba7afd712c81527d11e7a', '2fe34a75c4265168a911a0d0eb5693ce93f6e152', '2fe744e9547020699b75d109452e6b64a68655e8', '2feca41191dba71532d308e2a27914f727868232', '3003be5a5398fa021b3490607e6c8ccc00f39bf6', '3014051d351c3bf8a9b74ac58a88b99c97223c83', '302e33578fea09629c180ef26ce43e6c7d04718d', '3038e679bbeb38f92fa0a669523a64a79973f05e', '305542a0364c6ca4c70f9d57fc1ff75d4f18fb6e', '305c3347a80b3557fea92ba127df37d6a85cbaa5', '30626f761ab5f65deb7b61deda811d174e407273', '306bc067451de165f224d934f42882da31b1ee90', '30915b536863e48e8c51b47ecaa5d2afe94ad8fc', '309e0c91d88858969d386b44c026dc8413f16c7d', '30ce432a3e3fbce3ffe8173b3766a0a7d4f98c4b', '310f0757364c584819c9e7730fea92576730ba4c', '312366958fcb107062517567dbb68f423941554b', '31287c5e87a06251f2f4b96eac1bcd58e9301ed3', '31327febfdd0e46715c43323ae9ed4abb96af3f8', '313dc8146eba75429141cf96b4e1de449f7b4d78', '31482625605d7ad4b1b904448fde939400352465', '3187e658fd71be99d68d96f3a61a436c8a607365', '31897482e3e42923f011085ab9efb12a9d2539ce', '319449a4e990fd7eb3ae34dc09fe09759dc3c6e2', '31946902a53fcb933615228e6a31f2e1a2b2aa35', '319e7ef4be6f8fcdb21b40a4f4b22679d4c59e33', '319f886d201cdfabed7915dd04b9430d29c9ad4e', '31c44e3a00437755069631cc25f94b4511771933', '31d255308df7b4346e37acb8b38311a072422a62', '31efb34ec0e4b0190fa5a9a527ea63c6f2a97a7d', '3200247a4d36a9bfc929e2753194f58551ea49e7', '320d3353f0f5ac63cc93de3885f93fa3aa14d471', '320dccf45fb1b15fa16258f6ec4383213283ec39', '3212cb0d9a30831c0b150d2c60e7e1c611c02b26', '32167f03b1e10790449430392650dd8935864761', '321d3cd21fa2255d86db46c8143b05f28c27b3e7', '323f74035d47e9620f1fee25afc779129f341168', '3247312ca6bd54ad18005bd4a55de513e179a40d', '324aa659905a67546f4a459eac5e3098e7d897f3', '326dfffcfd9b8210d71626d91592cd03ba493b50', '3294ef9047ac6bf73c8c6fb14a3096ca05a67cb6', '32a1bd7324023784eee71617b679e338fc78b5e7', '32b65af332e7a7e9395f6fbd66ee6de066e4327a', '32c27fa49d120b76d12b0972821d106e2c871d08', '32d1709946baaeb63b4be14d31ca59f7d06ee7f1', '32dad8d986e4d56101bf8244cd91a778318eeb1d', '32fe8a8c93847b8771d357411d3aa73413d72779', '3318bb8d08bb849a78486d86f17ad803a711df31', '33280fc74b168e2667a2da5c6ab4df4cc6edfb23', '3329dc10ee950c00b3b22455c989375a655c2120', '332a1a7dba0492c743a6407a00edd370f7b1f90c', '332c93f21c52721f11194135a900a33ec3e3cdef', '332de6dcfc5b597500a661ab51a84653705b492b', '334498b1c6a5f8fb1c963338caccdafac68d5dff', '33508461f289404daa6a65d5b678739c1d137fb8', '335eb986a0334106f4bc39b8a14209483b5603e4', '3369b18041557ade1f6c1762bdb59cafb253dec6', '336acabf90a9bb4af2a20455b5c6ade6e23cfdf1', '3371a639f331c54eda09855a4e0ba676b62c5b36', '3371d7a243da1c785f1b78d99a488eabbf094fd3', '33807e46640c7be38f02b6a61d7f1a4f31446b52', '33b16f05e516af6e97d03e2e03d8bab810faa20d', '33b5f7e366c7b08e353d1dae343031b6620187de', '33ba54dfbc0f9afcceef8fab1422284b32928dd1', '33be7617c53e2288f6aa96b0101426d07bcc27f2', '33c2207d85e1fc5594999ceccd184ac9f554bb3d', '33cf0e24b2d57afd277d59c880d9570dba10f1c1', '33dc1bec8ee699bd1ad4f1a5b238e2529a283794', '33dc8880c9cab07dfafdebd36abf97698410f4cf', '340859101b5970bf435a1ecb8c40652a428de8ee', '3408e3f08951a8993d28eba9e2520b0110fd177c', '342a695d1413f42ba63da84a95e617a570ec2ef1', '343fc3fb987ca12c3c5df154c2b4721ca111f696', '3445b26f6451ef523887dca688700feba567bb12', '344af62cf08ea5c4ea1eb554366d221c1431f4d3', '347a67a41c778adc8470cc09bf300af8b9c4f3a4', '34818e8a330f03bec959ab7fbd583814cc5fe69b', '348359b071d2c8855695c479672074548b43a4b0', '348a6724fcbc5faafefc27db940fce5fb50a4f6a', '348e742bd90942cff36c5f9c31f1f0a3b7591753', '34977c6c0eab8eb50dfba43b891bf3c81ef44c9a', '34bc6a02bfb7b12eb31d91d30ff867d3287189a6', '34c327464b7c8eaf912e6ba37cadcb64514b5900', '34d3eaf0e15e2e60599eca2cf789b2d936506814', '34e98850451665aad24d8c4474d4565686d9d2a3', '34f29b87d8cf318380d3ef543f1a9ca7e5508409', '34f3a5fadc10ed52d9d5fdd312929b004e93a6cb', '351147cf3d9e96c8bb360036781d535238d5fe7f', '351150c0ef4b2c8832534949b878d549aee04fed', '351548d0f4b405cc255d88c559634e4006ce23fc', '354040c2ecd4279c676475a6fbe91ae1b252baa6', '354cfdb566f543bb5b810a4d8959d974a30797fd', '355429a240c40b288d8b9c48e2849c5f67303dab', '357185ed9dd4b385853f6f15e3c256dc9ae3f3dd', '35752a9e4d917c8fc5da88e90c25adc6b52220b6', '35b40e70116729f0bc6ab03dfba5cf38fbf88e1e', '35b51b0905092f6923e7af5792189d4119c9dc3a', '35d354f4afef6a6b464862d132a60c5ae970ee21', '35d938cc0a561ff8b7d83951702b44d5774c9501', '35dc9b1be6930cc04113e3c17c0e38e42658ef25', '35e76797145e91dcc00c92408a4fde13b8cdc305', '35ed283ca7c23d7c55acca818f6e295934a04d4a', '35fc6ef651882f6755bb0f3b912e8713fb114946', '3600b1c31c4b777027ce8e2661936896e9a8fde3', '363f3a329095b49eb73b688ec6023fd2a236f0fd', '364c0b4ed53406a7697ad2dc2b7f6e1b64a3f8fb', '365d57e276ac82ffcd8373c5bf4cbf18832e634a', '36695973b39f51f0e548ea868012475f3c8aa3c6', '36751d44579bd38d49749d1eb45f275393e60c7e', '36885419d8380902f7f3cc3821d8ed282e6e1600', '369ce33cf9215cad4b76cfd60c95ff332414ed32', '369f7eda3eec0b835995ce75d0959340d82a96e8', '36c2856d06977ca806b5778b063e7b3ca829b07a', '36c4d97ee375bfde314e938d31f7b32e7e195fd5', '36dd1b27fd6633920d795ccfad4e3fd65ab6bd4d', '36e04d6a0c58663891893e525811a3a0bbb6d5c9', '36ee240f72368a68fe8bbe74c72330f4550032c7', '36fe76089ca3f5cd471191305f159571b8e8bc64', '370190e231e1d4a9353d50038f59a0a33f7168f0', '37029a65b9925fb3c1964774fcab695b82955f76', '371e9aff6b9f644e7598dbc4dd5640b1544b97f3', '3738233d924240bbf3824f2fe85f45183558e7b0', '374353f850cfc58d3f6266f7a9821d987e5e14be', '3743e521843c02d717627321761e987d93422e3e', '376baa3ff50f9b2a85ac27c5e6f41db7072e4a60', '3774b59598966a46075507afa5c24f191128de93', '3787873b732d1d1d96d3ac1c7c07bdc83d59365e', '379f13193f0e3760d6fc1d1753c347b72ccd15d0', '37a026259d7bad97bb8ec17b541c6acdd4be1806', '37a8e0d8e4fc8cc03be56671e063af20237d6019', '37ada2f607fb515a347e2b67d9ef8e72a75c93c6', '37b30308b306e37b7a3ee22fce4e7dabcd1fa110', '37c9c3c41472d1b8e9b02d8595217b303eee7322', '37d37cc4e4d46a5d31fb4310d68d1be2b4e499cd', '37d840d6574b2c270396c021d0d92963505b1190', '37de1b345ce1af2bee847872da4b886e0bfc8362', '37eb0cca7f778e4a7d1159b1121d342bd99449ea', '37edc24d8538cef191d779ab4556c6dcfaa90177', '37fe3891fd04cf10c2265351c11656e7d280bd8a', '3800316358cefa31ef7047a14134b5729654a761', '3808a1067d8cfac3692f3375fd45e70a4a86a1e7', '380ace956087e21f01a6cd8b91c0543578ed999e', '380d8eb7f2242bbe49096b9f374ab07b3c1ee05b', '38101377960ae50c563e4c7e9e719dd2d4b4991e', '38178562f8c24154c6c7413358e84cfadbb8d259', '38278b0a769e6efe01c9a462ef31412b9c18cfce', '382923fa6a0a93f79823e183372738600d5a3a11', '383dda54830272536dea96c4852e09723674e1fe', '383fea5bdcd02eee18613da5812302ef3eaa2aec', '3849632301e842d0b4c21596156e3d3d1e8de1e6', '3851d01aa9d1b2505fa361b63940e8cdc9a3e754', '386a3098d389b63d1a3b7ae4fbb6fde8fcd00995', '3887c145fb91a26b3ce9c80903231539411c601e', '388be7768eae1a948df7f42ce1369dbd1ed7cd01', '389e52f87493f33b1c6d116e26255e31a5a48dbb', '38a1560d0ece4947221e053c0df68406c6782c3e', '38b0e88c446f0ec1df82bc77090108dd04aadbf0', '38b3d1771dfbd0d8e2391ad3749f0bd93643210b', '38b8f12bdd7983dd9dc0bb3d04adf1e6d06b2278', '38be6437ab1fdfe8da5f109305b602723834fe4b', '38c11af0c42bb21cf5b9ffb535f76c7967241b52', '38c2287c43afcda5c91607828d44a04b6feb6055', '38c8a08a6b432df513a11207f3043533d6f46eca', '38ca5353455b3cce80a54796ce655d37fab16bd5', '38d0e8b1fb8fd58a92a0eae6480a00a02d51eb65', '38db697de143ca55dcf259f99275624710e233c1', '38e14a812d745cf3c5e09918b31b6a4b7fe0227d', '38f8b6f0abab153083b15a0512b18f617df571bf', '3904d0f6f6dfd99be0f163f0e8a172317060b6b7', '390c2e81bc9cf885608a0891c0a7eb13f1fd3336', '392db7c3af04983719499353e9af07761267c0b1', '39487c462586d9ef18cacf220eb59c4d0bdfff39', '3959cf85a018c9dd3d0fdd4466fa2bbe2608418d', '396394268091b7a6f2397f73f01fe3e412a3a3e3', '399793ee5842e6f5b0b7f04fa5ec402454e2fe34', '39ad37a45f393f61d73200f76a68632718da079a', '39cff9717577f6965d76275b9ee58a45619a50ce', '39d8e855582959996c0e62b5590e7617c1b26910', '39eb6b6dc155f96203daa8bc9cd7ea55dc25a7fd', '39fd586490842af5cf739613daecef8fc1a6c1aa', '3a1148968bac3d3ec90fb3be0e4d376c0155a986', '3a1447547f1374bf95f56726876ebfdc9273e6cc', '3a2d14d806542495b8c522dc2e67c8f42e770589', '3a58bf281f27600f5c2f842ad7478d4dd14a7472', '3a5d603a2f97a9c5af4d05fce82bff041559348a', '3a610cf96beab182653dbf7c174fb4da14a351f1', '3a6b893f5616e95213f61e87e3022a3d665afa7c', '3a6f3d2e6c4491d95bd22c6075c744dbeedb4cef', '3a7111f4cdf3c5a85fd4053e3cc2333562e1e0cb', '3a72b6d09d2459ae12dca9f10f5906319b1cf28e', '3a7fb6e4bfea79b762a8da9c0d290e86c3c738ee', '3a8177ef79c11bcade12d3228791a88d1465e658', '3ab85d2c51a41d7bd0e5d2b926e3a2be777d5ab8', '3add0a86d3bfa183ac2845359c3a95039a461f29', '3ae31cf5cb00e28e7a60af7fc75950120d835a1d', '3ae4bbc2b3f93e4d789f46a1a0d9c30a33063340', '3b17ec726f180e35a1af178de070ac6dce651706', '3b1a4bdfa1bbafa7d12aa3c5826aceb11a2f3af2', '3b30c23e37f87ec150d50548b7a91b179f69e533', '3b3c1e29095a98ae07e2427522244f10daa69340', '3b3d431a0838ab0b86176c500c3fb09e40d32f9b', '3b5e66f5e09880e057c1d082302e415e6776eb2d', '3b717444a62a248cfcc06fe5cc84f8bc92da4302', '3ba3e50d6adecf296b904a1516a77cb5a64dfc2a', '3bca4d1f5ea13b2f7a9fb88b9cb3c239bf3a3dae', '3bd42c39df324c33509a40ca917343553ef38da9', '3c156969c4f084212be186cdd7408b4640698859', '3c23f2403078a15271c1f9e2d3145a31de5bfff7', '3c44c70986398195403d5a19ed83751d98b05376', '3c548cc89cb91b527b17057de07265f900401ac6', '3c57ce98d816f5b332120f2ed7093a3c7830c9d4', '3c5892dbd3772a8656850e751c4b2ed514f0ce98', '3c7220cb16180b74ea106fa7ca6d6e804301f533', '3c72bafd3c3112f29e99273b5c44de2e76c65861', '3c8cd3ed6aed1534b6d16634a930277d96f134dd', '3ccbfa3a981ef5b91f4fa38aad9134868584bb70', '3ce022cea7833f3878efa6ea223c2ecec8289c80', '3ce7067b513365723918990494043ba6ad12fbc8', '3cfcd2391faa1b947e316e8f9b23aef50a398d61', '3cffdcdc03294b3712ad65df7d9701a655b4b735', '3d0962f4b636cfbc32c1bb55f37913b23a50aed9', '3d35a87576e7e8bacd04c97a5502404e141e9233', '3d454025dc16f8686c84fe090fdbd8fa33425a7e', '3d67e22c827c8822d4cea05c18f41ddf952192d8', '3d69d90b1a57f7e7dd6dd0396a5a2b02a0692b99', '3d7634c76e11d9818bdf298489aa876a341c767c', '3d78e1820552fd3d8d92dcafa49b1475e87bfd2b', '3d7d0bfd9f8e1d177e2f87914c4a807228272a9b', '3d8785af75c5efb12d193749b32e0457022b8adc', '3d922caa4ba9b9e7e5d87bda2a0f0d532ada81ed', '3d99047909d9c47f123eac09bc78ed8af367f011', '3d9dcc786143ec6624fbe131fdda4c16d07f3c81', '3d9eb571ee6d19879b98d0dbb09ec25b4a0367ef', '3db2e643e0c6c74308c7e03d0011635210f46b49', '3dc2a8ed93622ef0e0e9f9637e6b9ce4f652cc20', '3dc764bb21c28f37369d3055a6469e33e9d304cb', '3dd5f55c9716354f0e65c804debad68171fb367d', '3e21a7957ec06331b6e525f093f8f63ad4302b3a', '3e2cb33147fd8b89b5e1b1da8654aec6106ec943', '3e2e592a2edd44a4ae0b7bfee6de32aa15c18b4d', '3e3385e9c6bbfdfd0d974a5661dfa9a1cfe83d92', '3e5c47864d03ab9f2896be9b6814958954f0abb9', '3e630d0b53ee97670ff1463c45f979af52cc1c58', '3e6ef2a572d1f6f06df71bf28190eae9e1934a61', '3e707f65c3a9d8bbf0c2ff8e469ae375df677526', '3e85485842091c62ad86fa31f1e35799df1cf0c4', '3e92fc2ea806b5cd3581b1a7175f7a9048b3b13e', '3e95e1684a269b26f9be6deceed7e348281fe219', '3ec385979640ba70fbaee456e9867fa62c789540', '3ee140d5ca432f2a5b04f456976f7a019600de97', '3f0315a53b195c8e2c953a41344eccb7db2802ed', '3f152d355d53865a2ca27ac5ceeffb7ebaea0a26', '3f15c869f19099ed854d005357126718c05cfcbc', '3f17f0415db2d05a4d183e832a8f541788f665d3', '3f2906bb29671760690a73595336a539d88e2a95', '3f2eb74f52607c5bab3caa535dc9d91b1f32e097', '3f34a22fb2d5c56b36de0084d86ec139624e3f0a', '3f3b1a24aaa8ff773e4eb56b620d70374d68eea3', '3f4fabc62b1015355ca8a83445c3d7a5c937d992', '3f73f44560e822344b0fb7c6b463869743eb9860', '3f866c513f886ca06a138db2c04e11603be1ec60', '3f88fa8b570d960698be735b07dd6abe4b4bb4a2', '3f9a8180776f260cd5bd933e6c49085c687856a2', '3f9ed694a79835c921ef6d94acd28f876c1d901e', '3fb04def8a4b4bb2ad4a86d023d91f1ff8422c02', '3fc75e2cad205e9c77d1b8ca9648d06d0498e0db', '3fc803c12264ab6599ee9e379c565be2bb3b0903', '3fd3acaa8dfeb94b0602a33085b44ebe80545dd2', '3fd984f83fb5ec54a44cfe60f49eab377599b6a3', '3fe43a74dc131f76d4de4a28db7e842bb5440dbd', '3fef4e71c70ae99ef8a4da00e431f9cdb2b1b729', '3ff7a31452eeabd7a4e07f0d243c674e3d0adf46', '4001e33ad824e5d161234114258f95021a64912a', '4012a2b15ea8881a252a0cb5dbb6bfd7de926034', '401c2c49a7c19456212222302a958d715fbcc3ba', '403b3b867fc71dfdcc12652f30e88bdc7ccd9aa4', '405d29f1c07646a27a3216a69d286fa080aab8e6', '405d396ea64d75b5eaefaaf8ac836f45fa56af4d', '406499fb024e4316dbac0de0c0dd52c6859e947c', '406f1471fc83cd48eb8ef30fe602683c22af3449', '40795bf4dae1631a678de28c1a61b3d2ebbad7a2', '408b02307ae1d31b656c57bf63171158069a77ab', '4097ee17a0db32cd87356f988ecc49ef9e144bb8', '40a793d5873f541ee78d4c478144ea6b99835dfd', '40c2f2e9f76571b80410ab11e8e4d8f7e02cb7fa', '40e1c7170f652bc5b29dac49137bc7dab7396758', '40e30471ffecfd7b5731df8ad4ed4b7c62fb3b42', '40e9ae728eaf4a167244b29fbf1fc5e2f5c284e8', '40f424bd847a9a228d03a56375f48e607a7a6aa8', '412c4636b3b1537b5767cf5e13d66de483df4ab9', '412e37e4b53f860553339497945f168c468862a7', '41515f4992a41138516a5b0f47e1eb4762dcf3ee', '4178c3921e5a426dc1e84f1c76ec34b6bb6bc268', '417c73dd95669d1919c869ef20fd2d0f7a31403d', '41875fd4c9c276950590a1f39898cb90da5e1488', '418ea8051d2673cd5ee28014affe9ccdcc7240b1', '4192e443e37ffa08f1cc02b10b42b4a178a09004', '41b250d8a7ff21c732e53235afad0bf6cc8a0ba9', '41c12ce05f18b757d9257e5ad4f8303b4b8a8758', '41c5b7e99173ee92361de263dfc0c5481e902c16', '41cb6a860f8d084a7e931a9682f0b5e2f67f6e52', '41ef7daf3d368922c9676d3f90c8fe931cac1d35', '4208d4ac45e7caab7167a4ea6d34e759a6b9a1fc', '4220226f95c176a2aa57be136d3251598c324230', '4220a877b968293c2210bd883472c87f1e7b8ac2', '422b12d6f6a460f5723c51ac5d5d323d9a22ea92', '42379d6e06e035a89224249edbe8b9f1dd311e15', '424670b07ea60bdaafdba3a7aba1a4eefc5a7b51', '425555311afc454a7054bb968aa94a3fb09d522c', '4273611413c7199a53ee116edc8d7b0ba56482d5', '427aa82e1ff2258bdddf55d289f4fe6f40c1bd24', '428c41bf571b31ac1a56683128b37a3a901c774e', '428ea394ef30c6e955391ad10c6d8af4dd1aebba', '42c9fba813dd9ca8ca3673277a0f923b6845a7a6', '42e494738e50e5daa1e1242d4f30f72671b9ed32', '42f15e5d3398c9d1e6b25eb5e178b88b408ab1ee', '42fb07aaed4ccf666fa8a81dc38ff13ec106f896', '431ebf968302f8594e881a6747b8fa0af3ed6b08', '43683da3c6c5a93c7938ff550faf0d039a9a639a', '43903a3a4cd3e5a27856541d733f816c06891417', '439c1ce3b12a6bc07a7d895eb8363b544325b1e1', '43a26f554db13c6852489d2edf2614a74e9010c8', '43c04d0903c9ef7c970ffc42071ea37be70978dc', '43c6db7ff4608324722a10cc95bd1c5c69ab7952', '43e7d807d3e0213f8dfa4d4d156845a3d71976df', '43ee17a4ee5d49ce99789608d3c21510a026c4d9', '441268dcaff90e7e8398e475989d80de14431d50', '441c38e7acf1de6dc27ecdf47837b1b25cfeee83', '44485c3800698f6ab61d79d5e41f316864ec93e9', '4449f7ea241ceb4a2d1e2298c4aead417b26899a', '444ed11197a6eb2ad90ff8567ee0d1ebb0fd313a', '445ab6e52d0719d28ff2721cd0bf763be99ca997', '446a9fcf3dfd3397b1d3e2d9fe8940fd7dd3da8c', '447f7cbe6f1d1876078382eaf21f565eb2552ff5', '4489c1b87617ccada12e8eb071dce19c615d6f83', '44b9a44fd3b4c3cea461b3a0bf187708116b869c', '44c68ac59e44bb4f5418989730c6ac89d6871edf', '44d98c3f6e057a9e76e61dd0b376c3103baec556', '4500c60a01455508c0cc7fe982ec60b032408e5e', '45319c6272926a168da25ee18c6d68c73462fe99', '4538e420871815c5dd4c3da9db11732a08e09643', '453b8c452ef73afd327e7522490be3a464db2ba1', '4552d8e421ec84992d349ea82a2ac6b58f28ac0f', '45544491ccfcdc0b0803c34f201a6287ed4e30f8', '455eb6f9f6ebb2f812245782362ba8ef91a604c9', '4593fedf555ab586946f413fafd4003541f24d09', '45b0e5817730eba27a4ad31911bacee633823e97', '45b737db5de64379f86d359b001f5dd1ea01cb29', '45d2c8acaf69a1b019ca1cc9f7a951e607666451', '45db066e24f20969f4df4510818378f57253b01f', '4600442e761b6f636a08134b10b9b6c38cef6ba4', '4611eb307f22311595e1a6a4e8b3c28e08c0c3d5', '4629e4eb7e86f37f978f9e8f4666df2436f40880', '4632b0b63f82a27d2262d3f664bee4556ccaaf97', '463d9d2dc3e1cb2ab86dba983134e279886070e5', '467a4f49d627eed03d57ede137133bc690998a28', '467f3e7dc744ed90c2f4e4d51d9630828b8dba57', '4691b4c353503da2c108e372ff056a9ac847c4d1', '46a566a3bca9cbf03cbec36247a3e6ad5e00acf2', '46b313786ef1076ab37370c0f90ebb2e52c9d5da', '46b49ba048a0e3cac35fbfb4baf1a053759da8a3', '46ed213b6429d92ceb35e8a5553007c8f0b5bfc3', '46ef20eaea929eb08509e92cea6b97edbb0bcea6', '470184b98c83834491fcb05268b718a27da5b997', '4708655251cfa901547c02bf54e2cdeed18ff38c', '470c65144c49b122c4be2ea008cba342b7af2a9d', '47125efc36905146337dadb7132994dab5e7fd8e', '4725bdc1d869433da25862c6a3ceeb3c0eb7064d', '47381eaa107e87cb74172230caa9bdba03b53fbb', '475eed79de067fb8971e66d843d71ad16788f283', '476081b0f3867e7f08f9a5ba2945848f8ddb3712', '476da022a45935112f9e43b1d203ebb22f69bfd8', '4773bb29a101c444c4209ba649af278e0f2ff5e3', '4775c59e08cec72b91a0e8dfbb869631fbfa5102', '477a89909a0b7f91f033b0090a51e57b4c0d70cb', '4782b9bb73322bf80329ce5989128a67bc538747', '478f0edeaefd2f91fe6575b60c19c081fa8b7463', '479f8d1b3697a95c26b0ab407a160f96fbf6a2b3', '47ad8b48f916e73250a2f7f5b37fa2ae89853917', '47cdb865650adf1e789b8cf2649d73e17dfe27b7', '47e8cd8c9e9eedefb953f0b17a1d579c5c9463bb', '47f33e1eca640dcd34c5d9507623eda4d3cd25f3', '480a08cc4b0ed5da63a5690279b8e90e045c54b2', '481e07fb5f5047877a2fc7c3bc7fda38b26d816a', '483523979aa07c4b6401da8c99afb7b347197b74', '4842204fd20198f3695f940df44932711011714c', '484b69dd013df1ec0cfd504886d4f647cb32b08f', '4860a1ae1133150dc5025687890e01585493f193', '4862a26d989a8218ad4a5577aef0ae160015e56c', '486fe100e8a8b3029c02c32366a880056dc9458c', '487f860d8444b6611d16307e89c4a80a07d61e7a', '4882332454fa56a9f514361fdcf08a55c7518c14', '48901d4b55615deb4231a07965a762e605343dd3', '489d99bcdf359b723fc245b2e8233afd4ca307a7', '48bfce9497f69b7e5223f05b511c81881644529b', '48ca094967e27dc94b28aa1b4739818d37b4f4a6', '48d1ddf3d9cdc9648b9915759ac380c52532894b', '49004e0f0819dc349c9aba9d233a6c1a0d88c590', '4926960fa1f2aa9f6c46bf591e83bb4e3d7f6a6f', '4928df8393ad41b0fb951bfc0243be38e8399681', '49350a414acbe0f276fd45dbe21ad16835d8eec2', '494a43c3b6cfb6c6f1503fb72e8a59da2a92a70c', '497f5a58ffeaa953d619e95ca5b8736e74b99127', '497ffdf0a6449d24f063a65ff894914433233a64', '4980bf687d925ea65a101e38014fd0ae375a60b3', '498479b43245566bc99bcf5473cc873bdeb940cf', '49917cc2a92adfa6e6637bcd9e7f6756bbe51be1', '499e78e607feed299196cfc56903bdeb30c850ac', '49af82075bf3a444487a70587298fd93fb8bbe1e', '49d20b2ebf80b6b2ee7fcfe93210833daa894c82', '49f149f35edabf51085a339226534c67401e999c', '49f67dc1664eb37f07bf576b616f95e300ec21f9', '4a041585cdb5789d8e7157f059454ca9dc7c8512', '4a0f04baa94b6537e6803a8c482385a4d41e0756', '4a105703c5f3e5145382e59eebb950a9c20fe95e', '4a6bf06cffacc38b51d598940c06dc35f0685c01', '4a7bb644168663ba72cd3ac91e7af183ae0ccf5e', '4a8f65e2df732c4b0988e0fb5617eec4aedaedae', '4a9560f31c7adcf4af1fb827505d1dd6dc7d2b58', '4aaa6038242f092a33b49558f59a94f0f47b6c5c', '4ad8037982f52ce3e38d7ae7f6897401630141ad', '4ae8c867c2aded35f6d4def45a56280ea08a1985', '4af3839455acccd403dc43faa59ab51de7ecb5f7', '4b0a57bb082cf6036b44b0ee185fe7f4030f2c2c', '4b0fac394ae709c2ebd30306121e81d4fa6a44c4', '4b280f93252f8587ce42abc19fd7e8eb0370b3f6', '4b337ead253ff27ded7dee3f315b25a845ecf004', '4b43e0843c64938023ecf919c34b993d5a67eba7', '4b65fe3f5e0caff1cd870637d0f05be160a721c4', '4b6e75a6c416c47e28617974a06c251f997cd0a4', '4b73abafd2a8309c29695ce368bbf17ab32f3d3a', '4b77c1f796e82d3327ff61e51ea55b85b502afc2', '4b9082edf91cacf656c58f02151b6fb21b2d4b3f', '4bbaaf451f51a4d62e3691f79cc82aa0c2d0e663', '4bc4ae71635b18628f4b0fde4ecb0a40d6d68bf5', '4bca8c8e60fd39249e0dbfbe80afa22f5fa05673', '4bd88bfb25263a75bbdd467e74018f4ae570e5df', '4bd925e2dc2205d8b885bca02a88852fd9c49af5', '4bdf8b7d3df814a380e7269c566dd9b93ade25e8', '4be043aa7733008e3f7894b7113db10e5a0237a7', '4c041b12923251c777ef9f06be041bdb6e3eec70', '4c1aef5d8b2f0718aec106e1b5f281e70d394242', '4c24ea20fc8e5afb998d87ab5426c2582b6357c9', '4c5bbfababc9e93891d297fc9673a2131d92715b', '4c65c9477f5dcbd78d03071f0f90454244d7723c', '4c6e2b39891084e55a670676aecc582a7ad5eee4', '4c6ec11bf897c14a44f56a9616f0942764d28227', '4c6f27e2117c8df6d908edfa81585b2ee26db643', '4c84359a164b161496d05282707cecbd50adbfc4', '4c8ca2d4d1fc6df6c3e0f67ab272476b8acb1596', '4c925683c0dca4e5729286bc12ee810d4121d835', '4c96b97b22e0b53c270adc6165eaf64a2a48588b', '4c9a50201029213143dc96e0d0f1b24e7d2e2c4b', '4c9bf9737a4539dd6596188f934f082026edf670', '4ca1ea6e502c3900bb29bcb3e077b7fb2b65bb60', '4ca7949de9e8aa2132db2f42799c9b7852b0fc51', '4cc1a1d648428805d4f310a92d65c284ba9635b2', '4cccbe0d5ccab0e1f9273d31e37edb5ca487a55e', '4ccd8c954827238fb97bcedf005ef6b3602370dd', '4cdd4a2c40f457779484122b4cb7013be8d5104c', '4cf3bafc53b9639e35967320d5a5e17188a24c19', '4d03c8ece064a369c8555af777b1524c458825a9', '4d1e6c21a798784ce91c96e7179b20787c38c572', '4d36eb39daa6f852b911cbb2fda4b69380180a5c', '4d3b5c3bd41132f428a7d78498cf28ab13b6b5ea', '4d4356bd7c59c456dfa689a66665c7d8aa46e230', '4d4abafb7dd7a30206747398c9225f3e06942b3f', '4d6890ae7a38cabf3d938420148073d72a9602cf', '4d8014f71ac81811ede984330be78b1717a1c46c', '4d996c8f99e52d6d20bb992631886dcd12651c65', '4da05abc98852ee127ae317571a32a3090aef350', '4db66fcd9c9513a6ed5709cf743ea45077d5793f', '4e0662d76b1b7ffdc66242398dd07ac382b58343', '4e11f45d732f4861772b2906f81a7d384552ad12', '4e1c1eb7661ec53b9e01b30b80ad5feec261e360', '4e2c0a19470fa8f37e0490c328ed17d99b2979ec', '4e2c2fe58286421ad669e688d6cab62d3333d744', '4e2e58dd3e4655184858653ceaa7ac80de7a01e9', '4e32e7efbea85d6f73a1cad6abb9a0863973d433', '4e41939a11fa321443ab7fb584dab6e55be7d4bb', '4e5dc51d5f4fef5bb9a9a636cbe96327b043747a', '4e7c9c148ab29ae7fa5cd31eb4302762f18399cd', '4e8a2e741cbd0f0c8e7e434e7c157a64eb00f3b2', '4e9a1601325257b2291f96517377ea4f9ff3c267', '4eba4d9f3bc2164da3caf9b3c112833a0951c859', '4ec31850589c0cec377fe6c5e693a54301aad650', '4ec767712349220570ac2346c66a2a02c730eb2e', '4eeb2b3849621d81e72010cf6b01147d86220ac7', '4eee4dc480ba1ae3cc04822788d8ad9d59383c29', '4ef23caa33658d1daac6491bdb1a0c1ad7246930', '4f06eea7b692965d3a571090c7c0b05a851881c8', '4f0ddb2be2780b5841f966a1c25210d89b8a8e85', '4f18554aeb06f8d8612037549100d6d8d4afd021', '4f2aef3a3ee535408913b76960a1ee9ed856316b', '4f309d0f1b26555fedfd8bf6d34bbd51b20286b5', '4f48464cf1feb87d89208ea0ffdcbda50fa56406', '4f5d11f7908858ed0100ebee1fa7f3eae8b00c31', '4f652d9efa50f9d94cd40ff128a117ba7fef1324', '4f8069af6e4de72d619bda3801c0d44f8cc82719', '4f8529d7bc6ae437d084630894286a680d810426', '4f85abfc7c0ed5c7ee84b02650aa640ed4479255', '4f8e2e1706afed3074bd52bfe672fcc4364d26a5', '4fb47aa3ed1bd7e3a51300852312d527608e8122', '4fea5a036fbc80d903bc532b1b7ff3e5261d048d', '502fa5124a7c00895c286606a50df942dc43387f', '504aca6424f13c8af965b6d435540e98e2aa53a9', '50792a8c121a0d82f1821f3b92db16ddb01ce79d', '5086e11a2b5495ba0737636a8f0732e845103770', '50bc58e0e0d3766996ba6a5a5d08e099e83ff795', '50c39de4224902396941f7515c8414d4e3c48449', '50cf2e045f5d129d8afc7e24b4261ca371eed681', '50e258b974c5b68d866cb5c15cbfc1735df401c5', '50e8b82d39627c1aef0df5ad97b4a66a629c8edc', '50efaae391fab842a865a4a3bf013b6963349a6b', '50fbf687c5eb1df4375671893c1394474822c87e', '51021104f92c3d127b18a720bef86a0c2cb9571a', '5112af9166224bf6c34fa6e57d0b4e6443bc2809', '511326d0808dd95949911cf07cb1d01ec51e4305', '51182330ee3e55d808df31a951032692c5cefe8a', '511bafaa57e9a2595c66c66b2ed4368bcb6e10b8', '513e40bdd11f28ba57b33637268f845ba215d9e5', '515c6d7023ad31411c1f6b11e0b2f56810348bee', '51619708f3756682f23431f371123078daf634b3', '51714fb541bafd8271bf8c6489d73e6ed09d1e4b', '518d11dd2b417e81c246c5635167866f2da9be74', '519c7e62ec4956215044a3c253f1c0e156c795f5', '51bb4e13b0d2410da3d779af90092eee9b159e4a', '51db74b99d02cad941af121049e511ccb772ad46', '521419f3899be3b05da9b0c662432b1d1759847a', '522bae50a646f5a90f7b9abc3e310c950dc9ca00', '5230748f8c48b0fd32ea0e508983fb115b2e70d6', '52315a224a24a4a4a7fd476721271b2c1972c8a7', '5235516080c0ad60972e4f4ce72238697e4bbceb', '523a8a39456d5a96ae8f4d5e8b8b60f3bfb31528', '523c9221873b3ccbd72a006bf7dd822bc848c075', '523dbe38910336a4d523f58a408d43f3576bd7e9', '5240f591c50c852df192a63fa2dc509ef3c4bf30', '5244eb3258e97f91b0d446215fa51717107e0d87', '5254f040c074ce794277fff47d8489ad2f23bce8', '529b42cdbc379ad2e765aec6d3bad8a192038741', '529ca9834d856957c66115b7c403721df56ff131', '52a7c84c13080ae6db90b566d62eec47f1c9025a', '52a984827b989f840847d608c714a2b566e065a7', '52ab33fbb2fa3aeb2a261734603061e288a2b253', '52b35554b2e955c5f1441332e7f77e02cfe9f841', '52c3de39090b3919a30ed05f2576a35d80b4f2f6', '52ca0917c5e444e0a4e63d42377ae5eddf3c33be', '52d3e7a909ab6cb9a02668d4ef5027db5fc6bfca', '52df18b9b1235ac56507cb4119fc5b3f6f010dcd', '52ef6ca76d5fcdf4a06a43d1a5245bf1fe6e94a5', '530b94ecae74ff525738bfd053f1bbee2a505078', '530d2b9883106d185d2ce0e2069b89a90a63c55f', '5332cb3bc773dda2d7ef47d564d9b865de14b1dd', '53373d0fbffd19000ff9ae7400b76d7cde61fd92', '5347bdeb6e19f80e4bb033a552d5f662771b4fc9', '53659e6ae51d163d5de5709c53707df87a669cfb', '537340ff896dea11328910013cfe759413e1eeb3', '53764d30b36edea48feaacd698583889d2b4b6c0', '537c1632b871b99a6a7ada2cc816236cb2a849c3', '53ba380d234fd6022818340983570354ee207f6b', '53c217759083bd91b6fc592746f36e4b74bdb378', '53cf9e65b8418b64669351ab24324e1a31e02b08', '53fc663a07c83b5b1c6ad969c4fab39268c00c3e', '54028f08e511355e130c47236a7496091005b9f7', '54132d361211549a8b4edfff7b0281452ca5949f', '5424fc827e23610ac5378b63b33a1fc1156bc40c', '542c64dadadbeb9b55be1585dcd944f9208b78f6', '543381759cb61c77964a60f2c7addcca900b4ba1', '54426669c969eed0ef5c0e69dde29715a0b077de', '5462b5897ac839f2e0a9b0a8e824c30dc7f30cd5', '549f1efa898897a2fa99a5f8b7770a23c00251f8', '54aaedb12694dc08a91845a1dd6c3e3a1e28d3d4', '54b5ac028ee5c3f290bb2cc510566b3bb05aba66', '54b96c7e5f266326271fac0f01b2e1dfba1fc876', '54f413aa9c41d1028cd5d9b2c12843594fc8318e', '54f71502eca501e23380cbb9934f451694f1e20e', '54fd49183f76b2cfeb599eb1cbcb6f68ee33c8c8', '5509cb33496db81c861128ffadecec61eaa282c4', '551918ad69a336eb5c21713b00d70502faa187cb', '55356b96b2fe2b8f36430ecfcf3da07801e4f422', '554301bb0af753febcfed2d6ea697e0d52fd613d', '5555d1bc4488a310753a9d7b4c4d0b92c2d5d674', '556557a7bf50b6d4105e3bba1ecb8daaff7969cc', '556d6850f1fc958b8e5dfb8fc5931f1fb2363c1a', '556f497c582bef15f32be8876560b3cda2df0837', '5579b3be6755139f026959034f5b5c44879d6d26', '558366e5146eed39ba7b2ac9ef0302fe5f22e064', '5591dd9176e8bcde535fd5ed996c676abec6375b', '5592e42222430e8a9c2b466f3a5fb302f88a30d6', '55a3a32814d167aa6e8e6941b6fc995124ad43d0', '55cd45a7ead2629d79ca8c8e3b84e7bbc5e1a119', '55dfa45eab3391b7c85166af47fb001be8b61bf3', '55e29789181da8b9c8e9d5f3b624a029492d7616', '55f0c8d5e645c1f20a7a4d146339838cdb2a9016', '5606bd14acf9d4adf52240946232f27b7ace4508', '560e8228b4f6bcc28f5178417308139bd22232a8', '561b1566f6d3829e54cd7809d4ea731b35829473', '5645f9eab73d1046d0698ea9aa5134887ee21d52', '565b9ac08e2381634647f1e4ed27311f12ae8926', '566f4a3ef7f67a0638c114daf7208c45762a708f', '56761a8994c50ff4269fef0052dc075e1bf2688a', '56885b7b3d33dcd4468d1b8c4828820c5ba90a33', '5696bf760215a24ba6f381b8e466828131ddf13b', '569c6ec6756f57b3953e4388ed1f5b8695abe62e', '56b0a86f8093f90d1c9ab1762467c44808ceb672', '56b3a650641049a267e38e76c1c85ff813c4fc60', '56b6469ac703c8f1aca0b0df8db384fd10d3a6ed', '56f8b61d962f57d4621c585a1756b607be5b95fa', '571ffe1f4db6470c44109268fb715cddd6e36c81', '572da9d6331782b8c48924968f0778a331170c20', '5733e74e9200a729955fdc2d8160c3d92aa0ab6f', '5751ba9a6d16e4cc60df0d3abde9e69c544bf8d4', '5754f85d21738eef9974685227d6243e3ed617fe', '575f6d2edc0aaf1570894f3590a528abd4f4e5a4', '576ca446812a29c0177d0f350c3b220c05129385', '577099a5352259c9b10ce239b6a84d0e4d5e1af4', '57855a1bce7a7132929a46aa4d3b15508cf38b6e', '5797ab8a4c6b374ba71dd64d314171e830c6f201', '57a9158b6b8306ae96682a63bc56c58391182dc8', '57b4b9921b3eab5f8bcb76efece1accccffa1004', '57bfad86d580ac12fd6b3607ac6098623ec40002', '57c669d8fb295bed1692479b4c92e5a78e835f18', '57e32b0cf88d1e3344dab420971ba46d08dd34bd', '58106d465bf8e7706ecab7eedbe4e6da5d6e99c7', '58161e13d2ebda2411eacbc49189c851973aea05', '581d7afe5a36f20d00d5a1ec2e7bb36a0135ce4e', '5837b373d51ad03b2be53ae3ad19e9ace8a494e5', '58395567fe9b4f1dbab38bbb0878dd2bc4329567', '5839657f8f8404c6260c1d3d481160c179dd294f', '583e9e1cdfd7f0844e202de3cc10872470950599', '583efe870ef1ef083ee804e1eb47d89ff662a0ec', '5860ee9518b29f9c18429c6c19c5298705ebc43d', '5887be41e404e8930589ec504b4f8b3b60c33e9d', '5889f5966e875d5f30df6c639e547c559b05a040', '589d9f98cb25b83da2450733437fb9a79dda116d', '58e98a448ccd1cc5fa76f390a0a16d0bc1d0efb1', '58f2d6ed090ba4626486e6ad205eb09365adfbf3', '5913a8d6488ca6a32bfc946c4554fcf2e548b322', '5942ea16965c68f772667b2b3a87527a9ffa923f', '5951f54518d376b44201b543be89f975b3946a92', '5952ec8dc5f80a48e7e4487692bc7bbe7f418690', '5968a59e582f434a223b3786cd51c9f4690b38d4', '59749835909476b19635a096467ad21b3f91bab9', '5999f8b53d0ddc137f549c30614cea3e6df1e8e2', '59a5cce1fd6bfe2f6633316066399b4c893f3ba8', '59b19674c260dc8094a1fdc5ad04e552a01291b7', '59bad0aea569a12d785e401d185f8814d128333e', '59c9d3f1e0b162d2959d13cfa92160f53d0cd32e', '59e348bdcc741246733bf89eea37e18e59974590', '59e614d961716a659db128d287babd7eb1bb5b2b', '59f5b7c3fa305aa14216d0286b06d236e7fb4330', '5a0bd3661b0af5c2bfb0736260e7b8c2121a33c4', '5a1c14bed571901d45b60d6808c3d0672775cf7c', '5a25bef972806024442ba3935d6a8f7b517de605', '5a5b43b07d02806a41e91e457c572e869bc739cc', '5a60fbe99993a5d49fe89dfcd36a39b7180316cc', '5a7d7741f07a3f3fcdf9aff03d01c12f3d6b2d47', '5a8cf3fdb326ec8badf9f5aec7ae299ad6ac5eb6', '5a905f000fc1ff3df7ca807d57edb608863db05d', '5aa89364746d7f350d35a403da8f397bd9d32b41', '5aac308420284e488ac0f4ee41af13ab46b4bbac', '5ab56ead71b71022f7043fef70a178b7035629b6', '5ac8d54957fb91d5c4d30e6c8cd66905143a9c5f', '5acc8dd502037281786f2d9d325687f2769e7a56', '5ad5e990ee28f6e2d540a80fa669e89d117cc1c6', '5ae0540c5968b963caf8904f896f5cd16e67dd96', '5ae124e3315c3a05935e14e12c6846fd9e213ea2', '5ae266e0e9ce600814aaa77f8194d4d16166a169', '5af2ad39244988d189a8d51805a6584480198287', '5b178bf8aec462d677686b5e78f3cfddc5c3c82b', '5b1c50a36a346a4ceddb407494fb4afdbfb50ff8', '5b1e34d2c3c56c3a83cad5252995225564881426', '5b1f41769b970a3630e9155f686f4124ff2e5f57', '5b27a99169fd85d31b9c46c6ebe16b42a40e9911', '5b4ec780b956c2062247703f310427d45ba699da', '5b5690c9871dceb10b73ff1af41d8b3d2a4b789d', '5b7ff9af1d60484e8e378da50265779e7052a4e6', '5bb1ace5dff2aa7f33a9f25079b70f9a143e1ed1', '5bbdf0419ed1b0f865890189ef1764152461a3fa', '5bfe864e220c1e4304a879c71a910ed3b5217427', '5c091c837d023b2a897b4348265a38ff3e55f0cb', '5c1138a4769d120199c556fca259644d218f00dc', '5c14451bff8aab81b6dca04c1b790ca7b737717b', '5c21252b714f6a68fe5e8f54e60676dfbccb9a58', '5c2510560078bc7d66ac6ca27d4c58aa11dab1d4', '5c2ae08878f57e0e395eb2387abc9b162320428d', '5c597664c9e728cd776d8d4b9bc9823ea15abf6e', '5c675062e1d65762ecb069251efeb72959b6b32d', '5c6980019b3c09c8d6cd871e02f5b9aeed3a403a', '5c71021da7c225924f5e5a0f457072370b0ad8c7', '5c7e42372f268b67753997f8f0eda34bdcc737f2', '5c855c96196f23de17179bf5ff3a46bbbe4ed45f', '5c9ab15da2ea697663a15d9d432187ea103236d9', '5cb259785726f4baf845fcca09c1af6a1632fbd2', '5cee26f8f0f6dd372408cbe7e625763c8e6ee6f5', '5d1b42be8bf7454dadb6f0c9f137e9cbf2f42c73', '5d223250ae20e7e7b13ae847ecc9d791668c5d88', '5d2461c3cf588e77a70e75453b6c9c9443f57546', '5d298f47576edfcaf76ed62d734367dea6505599', '5d2dbc92e41fff63c12e8fb1871afe63fba73944', '5d430e925662032ccc3245e88aca95ff6f49cd0d', '5d5292006ba24728132385c17927c3ac00225498', '5d5693743f78ad9a785a4081ea61bd012348f1ee', '5d579eba844597fd498217472f07a83c26d71e57', '5d5e0142e54c3bb7b69f548c2ee55066c90700eb', '5d755c9edc3a0a0dac5b6eff8067864efe5a2917', '5d832b02f05125e303bbe1d1f82a08a647db1140', '5d998f6f2520421a4c1d53bf03cb492f30e33a12', '5da1733165ec293a994dcaf2246565443f714039', '5db96afeb6a4d7c3731531ade2b94e26f4fc1634', '5dbeb9b404c72a477866202c82a23b989010a61c', '5dc6f873edae4959d5aef6f3cbd980d1dc4ab7a3', '5ddd641ff934316d84abd36809c78b17dab9a68d', '5de52bebdee3b1830fee19d19b4a6a3057cef307', '5e027ba16c26491bfed90dd4fe2204790b7c78f5', '5e161b9e14f303a0cef2d3f44d07dd946549f89f', '5e2ba12ad8f80f03471efdab6ac7d4b1734773ae', '5e3d8c9728270d6557453f0c738e7f443feef13e', '5e47421e4f42b4944be42f3d4a24bb71692e77e4', '5e53383f4b4be3d4ea87cc34bf5d4880187da337', '5e54e09845fec0f75d5d1ad7f19057156546b2e5', '5e6d145756bd99d8ec13cf1bdcb08c9433727e02', '5e71f9e35686f9c442cb0eb78dca902228f8df12', '5e880cecc6cf9ce8fee752950fc8ac0e463e584b', '5ea226d8e453f68b948074f24f2666bd7fd74a30', '5ec0bb3d49e1117136b6e2054664d22c7e76ebbc', '5ed82ac9fa1a019c80bcad339084dcd9a28cca05', '5ee470fde1fc6c064bd0d6d412c2f30a9b42a235', '5ef724392fe0795369ffdaf407eb245c748ba5e0', '5ef8b534b7b753d5ceee68debd3cde6854cd8478', '5efd897333a7e665f2d5c328c9c05dd46e63c177', '5f07309f801582fc0fce1c176718d065fa6ea079', '5f247c5cbf4b374dbd1efeb9d5ff4f785c8de145', '5f2c1398028d1ac6c3e633e10198ac337374d3e4', '5f34a0a2de71928dc29a1769e2d1828166558e49', '5f43b1116a743909d9c0786a8baf947c8baf882f', '5f46880e5a1705826c140c4bfccbd97cec08a5e7', '5f4b49c166c503ee5312d17296d214f2c17b89b1', '5f5431b58debdb7532233aed021faf75f88bfa26', '5f5ded2aad1ecec53816fe37e529ab984a5bd789', '5f858132ac5603a8c83c0f825ca5c84368467897', '5fad34f4f0f56d82cd5d09bf0d1cd1dd9d9d7123', '5fb98b4ee4e1b0ac909736f485051834b99c265f', '5fcbb10940cdeaa852122c886b6d2b6f91a2af4b', '5fcf53abcff2865b62abea416fb3006e442844b0', '5fd790368b6f551d1d5c92f42870dd863c24764f', '5ff71117823faab5d0310b4406603582a496b49d', '6003689a6bc76904f986af8972a4d7f0244a1173', '6004b45b22da910be98f878a71f6bee6b1d68481', '603f8e91b6144c9b8b4eca138c99302376dc9124', '604562e84c5d3048f9e135619d34710ccf1d4f63', '604df8442b6afecf84372640f97135713ed28d40', '605df5554f4feb157041e98a82f0244c665d37b1', '6069f89928e36ac0efa520a28cc01a4f57833ea4', '6074b5d509d4cfd1dd093051f77ab89371b84168', '6098d4c85c586f4e9647f6df71fe83a661d1d131', '60d7add727078e08f07031d51d5264cc9df4ac13', '61078cfd93665c9a4a74bdd956befb0b81cf61e7', '610b9b5b3d29e5b63892b0f768f414a198788317', '610eaa449a4793ea791ff12252845f6002794c2a', '611d87ab66736addaa21ff8fb23bf475f9fa6945', '6131d7debff5555eb8e4a4e6e19b2c26cbc79205', '615df06e70b57adf0e8c7cb70551cbbe75499688', '6160e030523485a8cb0b81d2c21f0641bf3c065b', '61a48f347a6b9218cdc98458c7da13ba8fbd86f6', '61a75478132dd11f4d4a324129afc97901331bb5', '61aa39a354ae31e6f638dd79dcb50110cd9f3f31', '61b52bcfd681fe184f0baf14723a779b98c50158', '61b5c914308cf06f29ecdf036e05aade87d48d47', '61b788b0e0cdba59710b4a08129d0efc647fbe25', '61e4b4c3450ea2b8314c7831aa9362f91e8b4958', '61ed4a8504694cb381fd13ab8266aaf63c571a25', '6213b3b1c13154b0c75bc8b1e78a6564276b2b98', '622ccc16f8221a3782fe623667f0f8d785a7290b', '623ac6b147f4d4d25f8240fbcfad5c826e331e1d', '624afcac7402fc01ba3c93c05cc44f99afc09fab', '624d58f26c2e5691ed21bd560f8b3d30f932e9f7', '6251be155cbf0728f2528bb02951e0bc6c11acb2', '6256c731435979a467e5475b7e521c6d4d059263', '625e67123675dab388b41b74594f9f9210c0dfa8', '626209e32b0d7a616536e8063b6a23c9a106349e', '62678bfe20cf370bee5138d6784d41c16ca3d8f1', '6279734d7e01ab803a6c5d1a49c9b902d2c554f1', '62a500847eee0f37cfd052573d6f657e8c27f759', '62c39ebced70b7a604682b8311215af24bf72ede', '62c9cb65f8221a68b50fc60650fdcebc5904063f', '62e74a4b5d64071f1181592ece60281c8b27b48a', '62efc0853731359fdd21f8c6d66289be86d5d8f4', '62f2f9b881dc320d745a90c0c10528d18e10deb1', '62f928f8979571b683eb56852b9072caa8595069', '630d841e1b12c17cc666dd4c0d2190be484dea4a', '63173e8d2219bf56b8102382fabef5f4bdfa41ed', '63336e6e694361f57b6cae9f67bf5d793f86e1fb', '63357e602c4266fd4da638ca190090e24504ba18', '6349cbb6f2b60495d0443bd4212f6b0015823668', '634fc7f9863ee19b0d817f8a30860e28a8635029', '635d32c0ac6c36e03949e04c009b9775abe647df', '637108bd1c1f52ae3699682f4d05db3573d1c984', '6386d3ccb5d611599a9351bedb379dc4928922dc', '63a423ec12f261453903e81b63dce12442fedf6b', '63d13215ea1721fd55bd30e487ac27770a124603', '63ec43e72af4b7342eba6757dc5d94d5cb18675e', '640ce32f473e577a2f9faecc7747cb818656512d', '6413729ecdf70921b01b2fd52489a064e47ddb65', '641397f0a4b8991eddf68c7e0a2fe364f4f23b65', '6418d6b300201ed9b068624d66e426cbe701a2d9', '6426f665b1b9c42caef28b19374cc0fb45cefe1b', '6427472ad76634402c0ec53efa2935ab6673b3aa', '64280d895bc1edacb396af4612e336f8c6c5f756', '642ddc720d4a793b6827c5eb6c5adce2cbe6e26c', '6439cee508cb05600c71c20a30bf7f984db93b39', '644b6a7d16a62f2470a36256b84af253203502f5', '644f4a874dad8aead067ba0d6afe34bac0d28c9d', '645a5b400d31ce69611137da3ebd35d11d4dda4a', '6488510fc5a0f5e5e2259bc38a832ac78ea7fe21', '649baf0c92c21aa19c4923a452ab6728f2c9517e', '64baed94c98f42a19b76405ddee3f12357214e95', '64efc551c236019554e5c86476b1df4aadd02e65', '65014d7a44af245dc85801c64bbeecbbcdefa701', '650318b44d86e9e48af5571dc5bfa88de5c67fe8', '650361420290ff9ba71cd3cce213782100846763', '651470cd4ef0fe6e2f430d166580405146f1d44f', '65149963f738d3f547f0cd35c2d16594cda138c7', '6523bfcf51658ea82550a69ea1393a44a7f68622', '65308e88b88e1f3fcc48603118226408a3aec150', '6539bef677635402f32bd25d0ac46dfddc90a509', '6554feacc32675e8c6e79c6102305d3eca25df7f', '65902eade2058ead80aa83d176dc434311e0f3cb', '65e04a1288acbdaf6e494acc5397f0a5a5448330', '65e55c73b52f14ee5dfe02c30d383f4d88def90e', '66166f4f57bb897f1f8e2aae6f53f776088f43d8', '6624f36095298f863d55de088abd1872e265756c', '662ed94a515eb72957a80c1d7887e01c992ba4ac', '668b4bacac2797f9814c2c68f9c49791e2d8f685', '6693d001df06cdacb7dcd6f5d9fb30973fbaf23f', '66a0167a7c636b06efc39953aca127667beea260', '66b85e6c323f09c72eedc7acdaa382752c9390ae', '66d4805c14fd3f0f96c0c79a115a43ffd5a5e0fd', '66da9a2bd5b588e150e08ff9510b59fe30a4abcd', '670acb3ea922adca1be3811d9226c6b1afa0588b', '671535e41cf20fc48311fccc5256aa1e18aca115', '6721294e3d775b66c785ea0a3eecc8f0b499333a', '672a1973a091e8ed8f4d46e3a740621f5fa4176c', '673feb37c071ed59526fced20349db440a86866c', '67446edc9595daf14540b606c6048ae35458ec54', '6747a27d3cda86ff7b366df87aa29b25b42f34e1', '674bfd4b04d9c3447c34b9ce0ee7171d89ee33dd', '675590b49b65ae0f5beb6c09d9d73ea7a517379d', '6758171b965b48a75407c4051dba3a5d7c46c006', '677de43946f01ebbb6428fbea7148fe73b3cbd5c', '678ef45814603e36cd0bd87672804ccc47d66174', '67ff76a76c4f78ac766e794b8e16cf61be0886bb', '68052d50a2f58e6502a746642d83cb7fa1dfce1e', '6809c657bd216f15642a0e2d3170999382e42e3e', '680a36bb7a701351c33db817a3dcf2b25359a2d7', '68155015599ef535e5ffc92cf55e3544c8f51d90', '6817c6a8e0298a5e8fae560905456ef5a428cf9f', '681f1c40ec8538eb4d5d3c95b4aff1697bf6cda5', '68238e23f78df5e5e891c89f1ea1cfc9c85d9fe5', '6829d130732b4d2f377f578acaf093def637e1d4', '6838b1e4d80ce4d2ca918bd4c912e71570bae0d0', '6842e15eab291e6eec09fcb2570d010f621b6edf', '6851161817224d028c3f98f20fef949c5a14eddb', '685480702e45a90a3b38b543941d8ebb422aeef3', '685f1af3c8f5f37c0b2af7620f1fcb51ab26b9e7', '68742091ca1eba620687505cb062ec1cd08ebe9a', '687a4a38fc579094688862a7ffaa86d370d26b80', '68969379cb3dc4a20ae6c03580093fc0a2e2c2cf', '68a6115c99279c5fc14b2d4e2350c8b8e1560b6e', '68a937a3fed1905c6da3a372ef5719ef8d0da27b', '68c08b200edaccd6e6758b8a1c9236322a4a776d', '68f0359a2f1cedb0d15c98d88017281db79f9bc6', '6966459493e9f0c05962ed8c75f81dbdf3ba0274', '6968c412ccd247eb383129803054ba185fde91a3', '696aefb8a075b5f470c72eca3661d088d3304893', '698b8ec50e17c3661193426680ed7c679679fbec', '69a0a0eab4b88949a8782ea1df8d3776df12433d', '69b28425745d4f9584aeb8c7710704ae75008e08', '69b7cacb67e4ab7aa9773b1e5010cc0fd98cc08f', '69d3e06af12ef364fedd9cfd88a5742e315224cf', '69d9f3d8a295d1507b710a04499a2239cf81bbde', '69da38ce86b378947cc196e530e555821c3ce2f7', '6a09b495d8992665186f08b8c249ed35d117196c', '6a3dcc268684dc7df0a3bd6c61f4a963aeac33fa', '6a3f5fa41bcbf248e154c285eb501855a48ceff4', '6a4424678ae575822d6a368e2a51d61d9c79e3a4', '6a52ad49e6f9c0ce1e061aa227c1f19590974572', '6a61784d2c088f04bafb3b6359b0905c14eeb951', '6a7096d67b6b0461854248ebeca4d313e2c84211', '6a77297cd491f2915ec8054489dadc87b38fd146', '6a92e22c2538f895532457bc531be9c6d92e66e6', '6ac22ffba9347a324794a345c4a5c3a84a89e50a', '6ac64072cb8f308f36c64cc4aafb6021fef70476', '6acf219a0960c47981e315744d539571f6e7bd56', '6ae9fca2e290c3102a906411ed5de2569ce0c3e3', '6af6f297392d75844e09ed95424d49a4a1f179aa', '6b015fe063d77e86c3b995fe1c18a2fdce9b8946', '6b17cbe0d5e4f47fde2ff94454df4a64136e9448', '6b1da36e40e7f3dfe602058309a96089e3bc0d14', '6b20c695038b400808b5e13413170dc93b753b43', '6b24f0204120666bfee16f154b9d072705b98c82', '6b269842b44aaaa27eb0c04d3d07a47bb7d2f163', '6b43ce6fe46d98d1b53db22a8f1cd5421baedfbf', '6b4a6787eccf435e4f76abda8bf41ef1bc2faf4f', '6b4f8f77b3be6ec1b2f11b5830f517f06f59bf5f', '6b550319f04c55652e88d0a263ef5fc7b838c4cd', '6b58f81e2f3e2d7eacea2cbd68c3b3ed566bfd7a', '6b69305fb33be2a0e38e3717aa557bd5460f089a', '6b72bb3671b838d92413635008e5d41bdb454e2f', '6b752337a5a687a5f3beed1c9e4830851dd2adaa', '6b7862f6730f52fae0b26a1e01bcadf2e608887e', '6b7a5895d266599bc414b9eb8fbad59c95b9a99d', '6b866d204b205d110670f359f6bd17c9ee00171f', '6b8cc6968237d56aaaa71ebc8e32fd2e1638a0de', '6b97221365128d65bf283246a66f521e2801490a', '6bbbc2b518d3d9879e7b688209f783ec93b3e202', '6bbe2fe100032825d5e746d5ff829b683c376680', '6bd4de8585aa98885733cd18c46be60c86240c5b', '6be0703051cc02bd8e5319d25fcefd43a0b8bf16', '6beb4699102775dab57aa406c5ea1217c4ff4869', '6bf42fc646d46df1dd4b7a38de4805845d762501', '6c09a46eb7c5fe75e59d9b31d498e016fdda6bcb', '6c0bfae044f154a5f90b444f4d77dc2d4eab57e7', '6c1e0c17b8962d468b5f0e535e766636603645b1', '6c2b180c39ea083e751bc501ec71b70f8a27c3cf', '6c6565d9b42950fb6fee389ef8740a17880a310c', '6c7b6db44d60700283b02a4192b7d64092820390', '6c7e6eb74d739931bb9b27ca50f27f58911cc715', '6c8cb7d7924a76edaf6e494f59277624087d40bb', '6ca029055534c2531529e796747a5087bb6fbd72', '6cacce83c69d23dc9244cc68adb189406ba8364d', '6cb4cf5afaa044c5bcf9db1ae8421167aa7a8f02', '6cd829e399d7e534f98f8928109b4e39943cc76d', '6cff8acee4083d86938966017c550969493ce405', '6d1318b7167273144f34bc1741f8466525c74662', '6d296b4ded0a8ea8ca189962bd8bfcd4bf84da0f', '6d42271420d205b04652b28ed0e404e42591ad59', '6d4698e5c77b56e54c5e4ced67da7b99fb6dfdf6', '6d50e6ffc091a51d1cec5a91c2fe78d1939ed980', '6d889cc158fd521ad00f93cb777477f5318ca757', '6dad54108b793066d02068d1ef8aa38028e9b987', '6ded7c6444dc038061319f872de268bc4d08b74c', '6df4f5b910ef83ee016e0b210d8630719445c700', '6df748807f979d27c638229f6dd1d39a9a0b7f61', '6e240eea9c3992fc27373129c30a1ccb05810497', '6e338ca4fedf410b1025489db4076036e7cdca26', '6e431141b00c8b8708bda73d658b7ef6ef156e5e', '6e4a6b99b43254a51fec242d76ab8153f18b9518', '6e5fb193ea8f41b22366d365f70fa9effe1053dc', '6e7b56fbf6d776f3793c2f69343ed9eabc6e11cc', '6e90c8066ef7a7271b0b0365ffd705caa4e904ea', '6ea03299fe0e15c7dbce1a69fc1be81758c319cb', '6ebd0e701753b9573d479bd53811a8788dba09d9', '6ece843ee05cbc82edb20a0259b9988e026d8899', '6ecf40b62008fdc6aab46c247ffd9bfeef35b1f6', '6ed1fad21f702c0419f0534bd21ae6f0d5c69412', '6ed25b70b8523472c39ec20c289266d0fef2e411', '6ef1edac63fe836776a511ba46b8b07a994f9ec6', '6f054be3c476cc0d315715ec87588e0c72d69d55', '6f1074058dba5589e16220cdc363b605c3b53090', '6f1747ab6cf18a2260055691583d24631289f3d6', '6f1cc8df35dbca39127dc4caad8d72bf2cfc982e', '6f35c774aacb31ec77dd4d658e05b582a3986c25', '6f491449d83fd1d5eb3e7a9e6f3def9dc65e218f', '6f62f1c30b0f4b87db28c101ddcab89b4f5d7298', '6f8453b0d9d2199f98c1992995a8445ad6837fd8', '6fae6e72f3079b6ca69e56f51bc597364470fbee', '6fb894646b41b929d8164bf9d1b41a2f510dec14', '6fc74f6a614f1a1e56ed379404fa3042322c45b6', '6fdf27954530ec03740a003b1d226a1341254d75', '6ff002fa5c96a44558e77c15aff3abce03e8967d', '6ff5f3621d592b8c8f0b56bddd900a66a44909ad', '70004b7a8ab80d4100676e17a8d27d220d2c9294', '70067c78afadb4960783baed9e326cf4e3154aee', '700c3f0cdd497ed53b3f0244ab11fb548615835a', '7012218281501a7500d921aabcf7a798dc7fdf38', '70161ddbb03f14a972c47bcbcd883475b84a81a1', '7049b343278b3f7f64cb11992d975bf8ab403bf5', '705b141e1e5b7b65cfc55b59a21c364abdd80715', '7089c0420978f383787945173cb6842c7185db8a', '7089e9ddfd3c2c69f28cb73ff4cd99335aa5a48e', '7093682074310eb390d0c92ef3271aed822fd341', '7097f97f0dc770088df9fd235e8b6b62cd235e2d', '709804f7378dcb8b17e92fa8d063cb4ee8bffcce', '709922c94f2d919ffe8a08a6983ed70c9aad0e27', '70cdd10334a370a8e0e74ceaa6121ec3c2b4c3f3', '70dddb10a5fd4197bd8d60ea8667c9f3fa91e066', '710005ca301e7fd911b405beb333cbd1b25cb4da', '710473798deaf3547e45d1ba1eb41c41e1b0c555', '714b16280a6cb02dd286a22d14f9b804bf9c5616', '71529175853fae7db71412b73f5b52331ed21533', '71655f6a0db605651edafabd42445e9bb7dc319b', '716821eb0a86cc125afbc378701faa0409f04721', '717bf1e1544a67c704e3876e8e9a21ec61df1467', '719dab58a2008429774bcd693e711db718f2b215', '719e0f56a1c53db06e92637c54c33826f698aa55', '71adcead7547d8c4c0d4ab616ef10c6c64a78b34', '71b132410e4a56a2169b68ac2f241c71a2e25bc8', '71c17371dff96abe86663a7dc83e4334f3e4a67f', '71c1e74cec63f582da9ff77bf0dcdc06819a9740', '71c5f51e225ceaca4fa1823f0cce080624bea9e3', '71c9486ee9d70912587d493c49dce2282a21508e', '720ad0fe4e20b4eeb40d0cbd59a45d7edb409141', '722c655827e72ed114ce44cf7ff26d218afea072', '7250322eeca83bf11e105511e5be4f60736b42eb', '7270853150884d7a94cf8eb0c9d80b3b372053b0', '727158b8a06ab966f56db73a1f2b271ffd43e74a', '729162979d4c66c8d9b93652b30b8d9414ca06a7', '72f9aab646538d3678dc292ba05219a241e51034', '72faccda324c80af5a943b617e5558088d5e9156', '7318464244463d6b0da9c847725826657d07ead7', '7321eacd7dacb47f92f8a364b50df9946cd6e230', '732f88be38fae217f8ab7e24c20dd072436e3e40', '7331afdc8217d89ae1c1879adb3fed7b6291d520', '7340ba40953742a19e2efe3826640a18612cce2f', '7343acb40284a4ef24c7c58063ca5d81daf016ca', '7350eb3f7baa8ce466deb072b1cec8ce158991f5', '7351b27fa4555ef2fc4cd0dd13e74e4dfceb75c3', '73646f3c2f92b14bb6170180ea317d199b7ec60b', '73c3ca3eb795705018c5bded9cd6a5559cf62933', '73c8a5e8aea56c525c0110be48f617c3c7547a0d', '73cfbbfc36ec6f6d2fccb9dcc8fc28e2604e3a18', '73d0a0c725c9b2c541635672bb0572bfcb7eb2b4', '73e9e981d5fc2a6453cdfb5025e2fa0a144a4142', '7406149b608348fe7df90068dd2f632b36b4f3af', '74174112ddb176f6e3dbf8879d49678308d47ec8', '7418a0d451168de0fdec6185eca8f9f9f2cd4ff0', '74198c75f7a678ef40f5ad8545ebd2307cb0f0e4', '741ebd7e156f34f4b2ec577175f14d9b19e0b0b1', '743346fe5e7b58e57dc1d5c13c59eb6f24f8ec6c', '745a99e98642e160d2af67e33b2b228d713e27e1', '745cf1e37e3f3bd8aaa5af509b566ff643aad4ff', '74625cb68192f0f065bc926cfa1fd2016857afa8', '746cfaa4658874919a3be9cd7f5eaf71ac4c0da2', '746df2e99526b4e00a45fca7c27edf6f07d95059', '74b8ddd941efb8fbdecac7a514e959728e477092', '74bdd7f160c79f696995569bceb09a5e0d2ae8d6', '74bf50ca7c10e05be0a0eb8dc4e658e63388d82e', '74c2c25061da3c829c7ce63629fabd45ffc01894', '74d0c24a0bb5bde014ffbf57fc5c51b9b5b799a0', '74d418a8eb9fd198c56db2d9672aad68d9828581', '74d4c0b617cb1343dcfe77d4761c0558cdf4ea5b', '74d7d04645401860bca09aca1ff523d8d5d50005', '74d82f2c1f841c7fa430eedf28141b24445eacaa', '74d965061c841c6271fdc7d025055816f68bb257', '74eab457052b4a6e1deaef27546d9612e55897e6', '750c8a5cc7006e98ee6ae0e16ccb0aad965c541a', '75192fa3afef3df84584f93d69572972d8a8dab6', '751d4245454f7d7600ddbb355e6e5212af2f1ddd', '752a753ead73c7efd9523325ac9ab7c2eeded937', '756a10a35bc3381cbddbe2b124c51d671ab6ec7c', '75aa8c9ea83105a03a0c899c87619277ddb44b4f', '75bbfe263485d2053446da18bf6300e51006964e', '75be24a82525a5b466e4f518c95d72f20ef76ca0', '75e17ec8ed330736a22221f0c36c06ad1624e962', '75f43e9c7eeff631e8b3ff969bc393ec03e994e1', '7602b1490de8e5ce87ac674643a99d8a569d79f0', '760c7c7e3ee997506328e21e8bbdadd65374775d', '760f906df2048f7ad578c896c92cea67a311c045', '76135969eb5ce1195e6dc5eb905e01e834ce0be4', '76235885b32c4e8c82760c340dc54f9b608d7d7e', '763407cbef6de61ce399b6f53f04e7cb8feec9ff', '763a8499984ed74dfcce8335ab5fcc98d681e400', '763bc5b74596f13274ea7b1adb5536dfb4359dbf', '763fd2b191396bd6343057f1d05e1649b1a6fbd6', '765b329f31421cb5ff118984dbcc1433f4d3ec2e', '7661038e3e655fd31961ad18aea13dded963eedf', '766dfed34999ba834828204735eebc83e9422d47', '76861f92c53dc7b785c9c4ed0dfcdf6e4d957a63', '76a30456a74c0d242c62719ef20a2a3029660691', '76a93df417be0b66f3b40981f78d677db16dbe16', '76b24d33cc0b5776e23296ecd373d90b7d38aa16', '76b8e5cfed5f0d18b09d1b7d1de53917eb37e0a2', '76bcebcaf7b1f20c857bb8a23d0030b086cf292f', '76c62f1c82d7ada3d9cc5fdb3dafe9436e1f29a5', '76db120e557843ec52a6832eed1cb3f860561c1e', '7701a7b264c5f73ef3895d6dab2660f265c6c0e2', '77031dd03ce64b026eb7b12adc6ebbe96224c941', '770fab8f411d933c82af59c03b43d4b1511cebc1', '7732799f9e6ce7e857a269459577846592494830', '77448d704c1b9acc37037d400302ce7f8a9496c7', '77514e806f7b973ed4aade5b54dd10de52b9edec', '775c2a4183f5e11a9f74582141cf5288260d500a', '779b5908593756abb6ff7586177c966022668b06', '77a0cbb41ac07938f9c7683339f1f4814d2821d9', '77b3565e21ae2e582611a4b28187144a2b39a1b6', '77b79969d9e9f473bacdffd19fc09cd09d3b0599', '77b93ad043bbe4c4802f26f67ab958d9b6fcbd11', '77bbef072fd7a3484e2197ff13e0677a815762c5', '77cac5c3389010b64d01b30f725c24de4a5bb626', '77dc9edb93c7f8c0410113b61f7c77b450c44686', '77fb340bba0fc8d8f6fe2dd54556200d33e889f6', '7809a00849e9de1d5131182c738e0d5bd9542046', '780e0b04d701492a18b9c2411a19e12edf15662a', '7811b2a297d4b549656913b4a2129bc832084793', '781d38e5e6029826707b207d7c2ef5c120fa36ed', '781e575ad35b0bcc5a43cf16705660a4ae6168a4', '7822f4f6c7b830abf9ba48c4b7dad7e9175d052d', '78512dfc48abf00539395658f4926bba76103d1d', '786bb34130bc9d99dbe81efced1132c196e21ff8', '787ac5b8c2d7c884f4f0c15e267d519fbf4b0f56', '788b4a6742e3591ee18533ff2193f7b3351e991e', '788d32254683efb581e130c228d568c2ba6eda55', '7892277118c00455e933d0cf8faa25f476a70989', '789dbbbdb9d152f84026b53a6b1976705ae03210', '78bc51c1f696622fb7135feb26a4e5992cc19ba9', '78de73f63ea8fece4e8faf986cafd8fa3b5e5f67', '78e0065cacc15d6329be91b77045f12ab18cbea5', '78fddca3430871acefde98a02bf94f618d7bd3e0', '79693f4e384f20f7aa2c24250828cff4865b122a', '797ce845c0ff7ad330bac68c0e18236e1055976d', '798161604e36fa330e359a61d1f0def3f10a2818', '799c4ae9eb3cf4cedcd618bfb2354fe2ebabfd04', '79a662f48ef6b5e093e604d4483007200609fc8e', '79eca33172405b2f7cc0a6c62d61b8593f0a0007', '79edb093977ecbfecd3b19a1096fc5f28f4b8874', '79f8ebdfb8ee78bef9b43251582dd329f0301e7a', '79f93851e840f9d1faeba586ee18b30fdb0008b6', '7a1383d40e2432d06dcbec3ac08dddec41555c9f', '7a1f3eed1066b3a565cab19e4b3a2268e1244bbc', '7a2bcdec49da2a83c238ab4f0d5d11b1ba66f520', '7a4b8e7d2905d13422418b4f48cc85100892e013', '7a525fc20862f219a22656a12d6ab89869362ce4', '7a6df360c22c2035dc72ff4e41b745bab50917f9', '7a75b7cff5dd7864fc7f97e38b055c9a3c671067', '7a9acbc8569de8e7ff141cb635ab3b049248a8e6', '7aa2aaaf1f9adc4e0a269d5ae6d2821973fc6a16', '7ad5579cc821604527d451902079242f33ee9ff9', '7aec2eb348ca2deace19d4829e4f4ddf48e3f912', '7af077ebdb187284b0f5c2d733038387a838fb66', '7afe5dd0c43e58c5164f4d094a87f25e4263f42b', '7b21eb6a6e3d5cec12ba52d5847ec93546360d7c', '7b34cf23acd0d9c6652c35036d41e56857963006', '7b46992eb6f287c2e5a975c9cbc9a4ff76bb320f', '7b4dcc25f741d2cf272d2fcfd04a032c68d38eec', '7b544bb0c02878033e4e4eea4df0a10466a71405', '7b61725f8b4b49e88b64c56df3dad4174ae08894', '7b6801d157c41dafd3871e2a88e6d1929a48a630', '7b9bce4c88f478500d4b5766acb1765f86983631', '7ba23de18e9574ea19fd9a4084bd729bff80b24e', '7bb164d2e42718fe6aca4c9c46a5284df489f72d', '7bb355831e231b54174545032458726f67f5df1b', '7bc616fef521821a38b4c01fa0362a629822af5a', '7bdc8c31fa0b96d480a11ad649665f6cca5d8509', '7be439230bebc2193fe80d33219313340819176a', '7becfda9814cdacbaa7706913d7ee3e79b14e397', '7bf6a31d17d388433a37d8bb8884271432fa1bdd', '7bfcbb93f39f09e9cff6bf6ce8ea5841087b7bd5', '7c1c6ffa8bca4219973ec493f519c467fc0ebe28', '7c215e1d94585e68612271be2bc6740415a983e0', '7c593e9db9a77a2dc8d3d975bb837422d1b0242a', '7c5ab90ba508502a888843a71eef80bf186c7b88', '7c6a70a07da4f26dcecc4b1d7e0828a74bda32ee', '7c6fd19c9d3793313fceeff3e975b4741c47aaed', '7c76073658c57eb4e80b7d6aa3f5ebdcdab8dc44', '7c8338a3cec437b18cd74e66d9e3c99f426f3d13', '7c86176941718984fed11b7c0674ff04c029b480', '7c879b97f5bba359d48d0b49b555e294ac689c18', '7ca1d6d28c87f8edb0b639c0a31cd14f7bc98fe7', '7caa9262304d62265ac0e02b526f5f480b17e43d', '7cac50b7f7f0e161bc4e5f1cd52f7eb1677a173a', '7cac592c959be502d35a805ea07b1a4b76c7bf8d', '7cd49a88c1fadc1dabaafc98071b3cbe3f48fd38', '7cea4b3a0b25a1fa828d7bfe86cb11ae13e544f3', '7cf3ccda0dec03430a056104122726eccc6772c0', '7d000d629b7baec55e340b6ba300c04b0395cf26', '7d010befa60c700bf90691921164113c80917a7d', '7d0317ddb859a960cb4836e7c7e9982a54fd64e2', '7d199915c0c3635f264030b708385ed09f8814e9', '7d5d655a3b7ed0b2ecfab081abcd82e243adf64a', '7d654764777d9947ecad5585ee910b7fc9bfe67f', '7d7cbc47d6a956967e593f62c9ec6549724e9b47', '7d851d606d354c79f81cc8eaa542cd54f7c4b888', '7d8d0bf9a23f2d0268bbc08513749b59c1a653cc', '7d986d8455443a940888ab420c2ea22d3655e3b0', '7d9b58502405c5bbbfff0c5683cb2dea71089908', '7d9d39d646e13c04e6bc8a89d0d05429d9b3fdf9', '7da13f5899d8634ca511658647b317731f2ca44f', '7da61f8ef076d56881f244daf7fc92e1f7872d56', '7dc4b298d45bc182f6a52ba1b999681e224945ab', '7dc4f3a902badacba62702ae25e5902b3b2694c9', '7dcde46ea98ee15d94b039345c84fa2287d64d95', '7dd192c8bd4f27f573cb15e8656442aadd7a9c01', '7dd5379ab6c841dda54eadf3c5646677d5541995', '7de979a8d4dafebfb125508215eed99991028900', '7dfd286c97ac9b30faaba2820601b7bb9f626ea1', '7e165b1904d02abb634d6a13b1784d3d8b0b03ca', '7e1d2765d1de08fdf17ea5eaa96f78dcd7886b36', '7e2b716907a9a295d92c2f35d7e260aeee2b32cf', '7e6f720662c86b253fa42b30720040ad645e42de', '7ea016e249d4851792aa36d98db1b58c9674e592', '7ec12bb04cc91eeb52f5bef8833aa7d51ee9310a', '7ecb2341673cca3c2eaaccadbc98a316342a9546', '7ee2550ad5867a0793a624eb1b3284e49639c45f', '7ee38be1ad06e49c684460a06f204a0682c57b57', '7ee9c3811b8b7d1701e244c3d69774c364f65b1a', '7ef2a3b074b34984f3f677bddde0f1813486cc10', '7f4c09f1e5b09f9f1f14a42708df71b44feb30e1', '7f7017ded64749adc5b5b606f794719306113747', '7f72e73af07115e299e8191b9380f497c978b3bf', '7f7aa9a2b5c418c5da328e7dc417138488f074a7', '7f980c8f92afb4132062bda5861121189cd4a9b2', '7f9a49ee5ee63bc2e97d0111b52991254d99b024', '7fca221e1d550e3e269f24d1a109106e58a919b1', '7fe7ae6aba9b80c93383dcb6a27a2cc527755ca9', '7fedd419cce7e9b1e54dde001164d6fb3b85112e', '7ff09036b3ba258b13621875d18d43511ed2e09c', '7ffdd4292d79620faa2e6f6b1c8a127e14e44f1d', '7fff0c8d7f27f3658f84981cbcf00351e9f3cc2b', '8003b3b7e36cb11ab1a3703926a2a723de16d753', '8027b80b0ec0a80cdbe065e384d1f37e805ce71e', '806a501eb505f90fc66b6592b20a4bf365cc094d', '806ccae96c8ecb1c198482aff785ccd6bbe17143', '8096f4ff1ac83d073577a1773c4a933613b2417c', '80a728059a893361ebb792e9de17da4877ffc03f', '80a7b44488016e67bf02d7b15477b668c92c004b', '80aa05e1251892949df7c7b1f61b6ce8ffa27aec', '80c2726212c1fa0dd5ee491b1f824700e73874e3', '80c64182aea519818391137e81df0712126002b5', '80cde150f98901dcf73a8b5f60e6caab0aaa4b5a', '80d0e18e5aae5bd6bc6b0cc917840dc9c63ed64d', '80e42027860584ce5f00fc6612e79f224e771899', '80e9cac45e95181b9ba8a52b24bf0e5d6fbeb5e9', '80f574f3cff31f2df22488fba2bf16e9e11356fa', '811fdc3bc3ffaa9ae5a77652e7f527c04581f6af', '812cf79ba35572a8c427953f8dbc2a499aa1235c', '8133b8146775e1875202b09a92a641b45cbf5557', '813673fae859d27d2f7946490df79cddec5833a7', '814cc7879d2f82cc8f57df44ead5414e0a60610b', '815d3d1464468c45ebc685e4d0b4909002add010', '81763991d1aedf8065cf5ee4d2948c7d706f536c', '8176760411671009ff348ead5c13f98b88fef9e7', '81793e58251c9ff9b5eca19a69e05f1428895678', '818543657c609222804d1e64d9186c73508b193f', '818d363c191b02180f51d8569eb65ee8f2bdf888', '819dbd55f31543783a3c0fe60ee1fa29c37b23c5', '819e9fd3ec44aae66119cc8998f7858817d2a838', '81af22100967839eb22b4f3effca6dbcec0c018d', '81b59c03701a4b56f26ae6fd163e9339513f5665', '81b9d315b822769fa3dbf4641a7a189e338bcc82', '81bde1c3a845c64f1677bd9d28f2da85dfefcf30', '81c108d6121b9a3ff26235557607707dab57a2e9', '81e96152d597999751de809074869d88722797d0', '81f893f39abbe79494fb43abe9f8dafba90562b6', '81fb7f3d2dde170e8d614a71f9a3ed3ea9e85e0b', '8207221df7894bb773bbe9814a4a8ef81b57acca', '821128b1b3d001a603fecca8d8a77f96ea490f44', '822901e2550999f2f557ea72ce544fd9585450c8', '822c58071bc8b6f77ac6c90ba551d883c4311254', '8244d38b6505d44c6f44a4b29ad7fa260578e419', '8247c08db9dba6cc18cff4381c7279e540c374cb', '826cb37d1226f97ccb3ba7c21a98c56fda02c120', '8270b334fed1be422a50b33623826637bb42890f', '82b1eb1aad494305db5900897cd668d1c45306ce', '82bad23a04fa877b734dabe52673bac02241578f', '82c8ed4fd0beaf77afb3293cfc60927043b8bea4', '831a55f674808f31aab537601c87ccdd5bc4b8bf', '833c530ecda3d99deb8395f70400aa3999783d91', '83428ee8ce64bfbf90b0bcdd7fa5c7c3d9b45262', '8345909a19bebf42e5f9aa1265a41499502b347f', '838108b69c82ebdf7cddd61ac2c0e1d2572e43b6', '83914bf32f9802ed1f226138e5f2f260c8069785', '83c0d4b7deb956f8c8068884d37539f2f4837b09', '83d749fe111a23344f4b347a25ee653d66396e64', '83da0789ceb5980f50d9eaa9a8a4e87fc1498f6f', '83e242f83974fe98101a478b487c8f98dc3cf517', '83ec242ad34f201b0cf9a29540e1d85af06cd560', '84146e634e8ca57aeb30fdfaa7c7292b2291f30c', '841f98bb6dbee8d229767839a989d88eda9f7757', '8465815105a293918b7f0f4b24837d93c894c89a', '84a592751296eacff7cca069b064cd1e792ead5b', '84b0592ce1c73dc14102efcf7f39b9c75881661e', '84bcdf33639eea4abe8a7597e6a9f51aad1311ee', '84bd2acb2984b6f1cbc45866b89e692cbc53fc44', '84e59d648d1c8fdb05d594558ea5bea96dfbb1a9', '84e5eaa5988bcfbb67ffbd6c759a8fa0eb72b64f', '84fe91720b53774ce6cfa912da01c461ce45ced0', '850cd2d9a1b33b8ad698c9a0f9631789a970ef17', '8544ddd0a2c723eb8263422e0816cfbb50915bde', '854c2f6006b851a8d0583d6947efefbeb7907199', '855df4e3ccf28db6888768da0cd588c5daa7cb7e', '8582e8959aa5e3b0da03967df4427c7707e3fc43', '85952991b8e3ca5803a08b0b2f9c6d71abf9bb5b', '85c1f87fea955d09b4bec2e36aee110927aedf9a', '85d0d381551960608e02df98956277e495b3cf6b', '85d93cf895ee1e2766c598f65eb35dbea58b0922', '85de112e63c6c3b4272ae71fa2ba2c5fd9e3032c', '85e3419d1c9a24b532943283432b8bc08d9ff882', '85ea7d8e53b17fb3549ac1387dd0945d4cfa1755', '85f4c7e38c720dc6dd9798bdbd7ad510c261c402', '85f92f3711693ff3e833d77e606ab028807ed82d', '86107d6b2b1f2750fda8d19844f653a21006e5a1', '8638c59c4025f2c7e2703482ebfff235cf011931', '864ab9051768b1d8a84e9a4fc4f1573b5f88f400', '864e2cbaed71336ce0c84de78f261fb61b60824b', '86643f1d9a38604ab696984c73082da6b4ceadd4', '867d0328105ef693b9b880b21c9c90fa04f34fa8', '8693845e275e06d6441a9b08c0cba9de99edacfb', '86bc105cb131af212f0764899558ae1d776f4ae2', '86c6adf12afcfba8863b13ceb9d3b3c93ebed55f', '86cfbc3e656e30fa56e5fc3ec23d8afcfc11a22f', '86d0a8774e5eacc50cea329c54abeb73555d2f75', '86e119ee2bc61010e71bde85d8226aceb90193e8', '86f2fcfee3ff365218f8811dbe0fcfd0d8848a37', '86f40af6645bc63521feddbbc85e38b01de9d5e6', '86fb9e8b68955b378d07bdc77ef0edb1304516ce', '8709d3cf50b651da32f8371939a91667c66170d3', '871071769c5b118f76e591679ffa861b28179541', '87158214af510fcc3d31b9f89195fa9184bcec3f', '87166fbc9723143a1003381f87f6f55e67b5fc02', '87258fa894f0bbd1636c77ec10a0646e3f731892', '873b58f342ef8871f9b78591a6709e41952d526e', '8752ae7c7f1021899b1e8b13c5d6a3eccf47034d', '878bdaeb36c5de29e4b9224332c93dde3e1c6e5d', '879065605da5f9b59e4038741619dd586d3a991d', '87af45cf63278db6777447889dd7965d5c902cae', '87b4621a8c5f95a13c809099f6767b52055bc81b', '87d43bbc33ac88f22c062b5ef85620d5c60914a7', '8812f165b89e7b66856c80341ecfaa9b63ffcbf3', '8814f5d1f1d7177aa2efb6de6454504f3bb7b7bc', '88196b0f0c0d76e819237dd2853024263e6e1631', '881f2e87fe2a45ae27d6e235c156c762ac3cb82a', '884209a41deb55df792f074bccf8af1c1c31768b', '884a5d498d843e793b7713837c6c6a130c459d1b', '88600e7f9f36d52e3c17bfc7067a7383c4c792cb', '888a965551f18e111fdbf17867ef64a0231fab9a', '889c415eed565d927c11cee844de911a75245c8f', '889c9d81c3a95172d2b3705a16299e990d48b387', '8900269ea4edf54ed60dce2623f01c5b71e206e5', '89104dd85ad671b5180c2e34b895c7e181d6f852', '8937134734f869debcab8f23d77465b4caaa85df', '8937e09c6c1e60973ddb0b0827e08f93519dd6e4', '893c87d1ecefccbc464560b23df3d54aedccf6c0', '894cf2d797bee59f3834418350ec7d932d8cef27', '896b3326a69e0b39762896c7499dc681da56ac67', '898f416a6f83bc44d9e70d3770e03fd50a3d1178', '89919801fa91d41ce5ff08aee64038dd63b97828', '899ad8c283d7ca9aadb84ad93a00d6cea50f1fd7', '89b5eb4d62536570cbcf1dfe621f5d59125568fb', '89bc5817b49ec68b6f2ccd677676c51da9139d6d', '89d0cce51308fd64c60d5b677013ae61b336f7ba', '89db2bececf02256e544fed4ee8e758ad37b9b6f', '89e883dbf437ec04039c56dfb042a9e5e2706462', '89e892dca92b8327b5010f5a3be1606cc1ab1683', '89f424b98a4caf3feee2cfd9b7c818cf582f1fdf', '8a091536e30e634c6d7269cc393991365c29b593', '8a0ab88d3eba6f427b3ef080dd012a6e97885536', '8a16cd940169743b7dde66eac572103179fcb95c', '8a3e2dcb1cc8dbc57a0ee2fabbcb6e9ccb44ccc2', '8a9c1639c427fccfc7854475f21d789b0ac7ecd3', '8ab6bb862beef6b11ebc529f0b9a923d016c5506', '8abe15559b188dad16a35c6a77ae53a194ff8a8c', '8ac27b6c37512df7af782de90dd716bb2b298872', '8afbc8aa87f9965a835b60fb4754c19667955c5f', '8b0578e3b7ee700785e4c9d9726bba44b3472bad', '8b122b556972e79af016e14c403d71f31ce288a6', '8b2b0d0fffae282df34601338e3073842f22d5ec', '8b3cbd8851d6404cea8bf3a6696582962902f733', '8b41abf7c7aadbab643c38d9f7491427c62b5c59', '8b5fe07fc882a8f77e06a4dd61d3b199db2be6c1', '8b779e61b802fe067c0599284973ca1334f55eac', '8b7922769a938fbad9686fcbe7846859e558bce6', '8b85519a101b28804ecd587783c5fcdffdf3bcfb', '8b95cdd61e26069f99bfef9e73b07253a89581df', '8b9eea76fe35021df098ad50938fa5748665c86c', '8ba2bd0e3d9a958ead0d38c73f5268a4a7535ccd', '8bb5c96e6d80a90180f9779bd30ea3e37d6a6664', '8bc2733e75989c8de36cf1bb596dabfd72734e86', '8bde0ae3eda6b6f26c8a91eb5750d416acb3d508', '8bf7575aff781e10f7a9cca01d1e6e34b8ef45c6', '8c03e10659447613720b64e959cebdde4dad3b9d', '8c0a675214831879573af98d632bf2684273e0d9', '8c10c2a6f6c7bf4041e04d854ac06afec2bbef3f', '8c25b634cf381c1d47f9301c7222a371ca0f4ef1', '8c4a88d04a71cafedeffa47b46d3ad44f523c0f4', '8c4b38c5bf932dd115a8d9b322361de20f44b7c3', '8c57f161cb23accf26a52857e6c96f516228e78a', '8c5fc0cc113ec77862b904cc6c622b092dc72a9d', '8c6544722d4f465079fac10a2f4c1aa07ec32122', '8c6b362c618004ee0f268ea140a5a45a79a31897', '8c988121b42b7ea022387235373d874902025020', '8cae2920bada8a3a986ca03de1520b87a1cc7e02', '8caf9a87e266a22298bd977a63489d008af241c5', '8cb03cc38a96e1165cac411d1e899b30cd06deb2', '8cbb5066924ec788e3fea9a4aae59586f46f38fa', '8cbdb5bfc5dfeb6b04ce6a94186e0d293c5d57ea', '8cc3c6c8bc8ddbc22d23ec4e5660365ed24af8f9', '8ccc997db1199577f43ea88170900bb67dfd1c2a', '8cd833df7787e8c1c5699a323ce9efa59a2abbd7', '8cdc3bc8933b5cd3a8f82aaa0103580251b9e1ae', '8ce5dde3941dfc039a6384de713cc287f645412a', '8ce7547126de1553b15abe45704ace66ae3b2db3', '8cfa0873b32200811472f348ceb761a992f1aaf7', '8cff9a9ef7b65df0dc02157a6a50aa7b6580e645', '8d002b471d4cb4076e878890f01dd9091a853e7c', '8d0bd6922dc3d0379444207a5ae3c02943dd5fc6', '8d0eeb69d8c2aa8438565fb1620057669c593f1c', '8d11c46a7c926f38b505eec8e6c4ebdafd255398', '8d18797f308065b3c6eb437bf19ffcb3772fd1b0', '8d2325456afbd48ca712c97b169d03e6be2ead71', '8d386c6fdf82c2c42205738a10c8c743ed39027a', '8d40594952ebb519c649ec66cb2dd041c73cc984', '8d46ed9858a2c20a0cb1c23f3708c5a0be547359', '8d740f773a08e53ced1ad1f9b8ef73298d6e997d', '8d7a377e07cbfbd379697674fd335b9234bd5b96', '8d7a5819033dbcbb89d27117f4c1b01fc59bd29a', '8d848133f73f9a386d0831f133e3d1385959be9d', '8d96142dd2785e6a2580e395fae1696f1784432b', '8d9ea6d0eb50aee6d80020db99e17fd121225f9d', '8dada1c15a33b73d68b68dd3d53a4129262130a9', '8db352ce87e75fbb17f9d83b205b3a20f728a2a5', '8db5f290147996f190a9c94485a0f37ba8f81c99', '8dbd25b7184ea5fd8992d41e8f38f389815af4b5', '8dc9a8debf5ea1d7033842364aa45ba97ddd12c3', '8dcb524ff75e0ad0f0a80aaccadf7bbaa3b89a41', '8dd400dd8c24e0f6f0fee6f18b4de68a2d65cbc4', '8dd78226e13c68eb349bd8d82f94518decb32252', '8dd9bfad55791fcf310a908c93438f9fa24831ae', '8de1b58094180ce58341789143af8fd3775e7853', '8de48d472d9f4f8c588e21e8ab774e5048ab2506', '8deca80c3da6024a1456e123308eb94fee1b439f', '8df03f1f39b99c9ded7a636fff3f840484d02ab1', '8dfbcd1458bbf5fb2b1c293ffa72abd3df89f967', '8e022d4141e2850e1a45dc5f5adabdadb6f9f1ac', '8e082f4aaf3a0df46b5e8556cf379b9c5363a399', '8e22328c6393385d89cfee0393a89b859044e325', '8e4b03a449c9685b73b329219c2ed8614fe5d079', '8e62bd92df8077380f0aa59d800b32ae930698e5', '8e65447fd2ac3acbdaa89a0573248aa2a9162262', '8e6fa469dbf95e42c69b6620519f3cea35ba83f4', '8e8b32a1621d2950fe9a6384d8fb594fd25525df', '8e99d4a8951cc29d9e9453d0923f57273bc81197', '8ec6f32bca7f6e667f98637fe96a15c663a70b7e', '8ed04296b2d7d886c16645dc647c125f73379f9f', '8ed77f2c5fa5d3d86aa92a98556cd409361b9c89', '8ee6e14c86c3bf30a1140167e543358efacb3f1a', '8ee8e0202acb92e0a64bac73b7cb7657a79ad4a8', '8ee90038724c4957eb4df16f3e9c6ed2b570a3ec', '8f01d61e7ffe38e0367709a43e107626148bad95', '8f04b8502ae8ac14edf5a94d518d03f87fb6bb79', '8f079cac63fbc3c32d25f72b69d8d2f893fa8a4c', '8f0c83abd6d8c6a8e36bd9cc4c9b391530feef09', '8f0e25d95d6e30f0993b9f57fca6c431d78f5a2d', '8f241c98c6cc95ab4a8260ff9b510c2e445a33d7', '8f3bb6ca077e550cef483949647f4b61e79e37fd', '8f5285ef586aef4eb15db6060c42b9e0ea5096e3', '8f53fe289bd80cb1fee543613b282eaa9c483755', '8f55c04a5437a5042031969b965428d111fa109d', '8f56d41e0a35eea87f6c8ecef1ab232a5f6ea8c9', '8f58a3e6f4be8483a5ba21d69e3d7ca652e7bc8f', '8f5d48634ebccbcb6f5f8ee28f5687eb1583b953', '8fa12cdf352823218ad7cc899e86837d2acbda25', '8fa25e588aeedaa539674babb75729ac9f31f15e', '8fa3de46dd3c5519d5b54d08e747dfed6adc0594', '8fbef36e67c14f050810d9052a5d428702487e24', '8fcb402afc599ba3a3a43e98c52693684d590213', '8fcbe0c749da0559932d34697bbe20bacc70e869', '8fce200f3912e9608e3b1463cdb9c3529aab5c08', '8fec7b4521eef5e46218415b06a340a686ac6d21', '8ff4dfdb7a4c8a52bc0674579d5bf6207e937e0e', '9012fdca7eee0b946329367498a578adb5271ed8', '9017902eb6c2a6bcf5b49562af1a68aa7592b9d8', '901fa748fd02b1ebd4f58378198398eb84362d19', '90230af7220291890e934c346cfdd5dee468e4fd', '9049511187a393b802a39ada9b4c89ad6b4e7138', '905644895dcae66be78db7859006354bb61f326b', '905e0bb88e1f84e1e59a597218ab626ceb9c9f3e', '907b65da4c9db6cfec8e469203f88d2e10343a57', '907c4a0923ebe1c13d94860340f99775e6b49d92', '90869545dedae56f33e3bb3d5120e7ed0e8a21d9', '908d133f745bcab047d97dd0ecd1da3f53ee53d4', '909428a6a81ceae0b9667aaa656cc6fda241729b', '90aecfe49a5a337b29bca4000d90d8cd502d3052', '90b01a5c11e329b53917963e3b3f95043ee6ed54', '90d2951cd918fa4630a4121ebe64ae069060983d', '90db4b3fcbc37dd23c4701635a9027326acf8b5c', '90dbbbb47979f46ccdbc413d6b6e31cdb55aa58f', '90fe48d81aa360ce19bf885bf6fdbf5c70bddef0', '9108c38b00bf722bfc5f614f31d48c40deff75ae', '9120552c3307880f2eb1bf2aefc61ca65560c6f2', '91374d83e6d470c9bed4f4414c8e8e905f76eabb', '913a3c8a10f309f7c5d26e708453dea3dcb46bff', '9152d3f8fbd50663db1b9a4804921a83f6cf15d1', '91964f2b264a1068806b48b3d6902a9e0f833fe4', '919d6f093291eeaf62be19b017e9fe766f22288e', '91a2237a0d9a3bb50ed3a9085c4677b2165ae17e', '91bad3c1679ff1b1409e50842d2a8fea8954a640', '91c51f3c118179f26a7de201a81d12dd2e6d699d', '91da6bc137a4bfa98b5a6e444c0a48ec804fed02', '920f175c03934274a3116eb231a3778a9c66e37a', '9236fe7fcb3905ea0daf49408f15a3c8b085b094', '924aee632d58b1dd81c94cf71624dbaad40a2dac', '92cb22288cddbdd6e34d014d8158494af91df52e', '92d32cfeba7b3bf4b5fc8f020b42282b6fb61816', '92e82b516166f435ef2aef38560a1d6ee63781ef', '92f7c2e7ee43ba94596d7ba659347b00cbb1519a', '92fe5d69e81d0e1eeaaa34f1fb078c6d0c5b51ca', '930d2be6c85315d72cab9823ec0f7bfe7e477794', '93235f9469ab99ee196f320d1336c4fb21ae8d59', '93343771b28f20c8cad2e1ae18cbd77235b1aef6', '9336b8b1737e38dbf0c295da63254adacacc9265', '9347ec91f6703a0b3ae5e2e5e9c43d55fb95d9f5', '934d2b1395dfa325b87ae586080fbaeed7d282e0', '935f77aab8ccaa7c781891646855b153f91a262b', '9361f8355e53f8d96f54409e400c38bf30c28294', '936e7e4a2d635cb4f9436642979a8910c2bcf34c', '9374fc9c62c02838b7b20e59f13aba7b01aaa7ed', '93767e283e5e0f451c4f0dd1c9c913d83bce90ec', '9388097dc5a51b146939d9fe307629da92dcbfb4', '93be123d0c43801c84056c2f2643e590064addcf', '93c0acaa64321fe03bbc4da4ee66723f76a9c7c8', '93c0ef9ebfa8109b98c5e0800efc97397e06856f', '93c94a6c9b6c993881b473ed91fae4ac6703d181', '93daed66184da1bf172e853c537f72ec93294fab', '93e4c342bc05f215b77a225054c403f6ea5a9fab', '93fa4d478220364f99da5e8648b661b24df7bb12', '940334569a2e789056cf206864cededc4f5b0735', '941955c9b2530c99e77648e6eadc1628e5db4a0f', '942dffcd3aa7b7a98b405b1c0b3cbaab24c5fa4a', '9433b4ab7cf75dbbf33a6be39ec69a3f1cace7e4', '943f2c938f0cf971b603d0f2c72b2947a427db9d', '9441688321c05d7336e19edbe0aebcfbd0c08afd', '9441c39fc556bbdcaefd00182265fb8ac294c1e9', '944ee7750fb6b3f33bd86a387dfb98ff313f25f6', '94699a65a08f165125166b7879564ba7c985c67f', '94752d31b4efa2882e65204468f9f09ce8ed12e2', '947de32e4e0fc73dc97dc09fa89537f5ab7bc020', '94a10db59e194073e9ee5f4a2bb550299a169f58', '94cc291f6455241c0c1de9db5c0f1d70a20146a3', '94d5bdc37683950e90c56c9b32721edb5d347600', '94f1aa677069c65df6336e52d3b1109f40df7355', '95026378d5a96fa32a6cee32a51f316b59dee3c0', '951945330eb5df161ac4f97729647514001cd102', '953e29aff8d1cef9fb601f79aa2141e27e617b1d', '954fbf1d5b9055cb9b60320f387e9e1bba4303f3', '9555ae9692b53eb5acb6f08f908eb1eab1b6ef4a', '956044d724390e40c8511b49e5bf6bc28071de3a', '956999576244ad42d6d41faac8505fbef0a4ccc1', '95773b3725a96464c85a5121d00f2566e6e8b69b', '958938d6ccd52f461ef457346ac09196be069016', '95915dc7cb0fe5175db65ccb8b598d638f7dc0c1', '9592c67043466fecb2ad072a823f9c98f7dfecca', '95942345306393998eb3a051ae5fa3c4d5afbaa4', '959795bed6a43310b1f65c862171f2ed1c840bcf', '95ab6070173dd359ec9e154d84a18291153fb796', '95af29aac5eecd32ae2a540d3e390faf915564cb', '95b065a210253a9becdceac6585042a146ae7239', '95b2ebf54cd69d732fa433ee8994be5818793efb', '95ccc6047d7d6c2e3e707e84828b7dac8b8ea117', '95d4099228d8cee22a02272572711b46d6745523', '95d69a702b900aeddac46bea18a5ab75db809319', '95ecf4a7d023aa30538b092bbff836b7a6ec9fb4', '960e5447ea46bcb505be478ffa4afe55559ba83f', '9635598b15599e60f4d00329d6dd04dd8e892c77', '9642b099d56e3b2002a42320afbf83606bb06f2d', '96474b673afac3e02c39cab2c4e6b765c4a73e86', '96503da83b277ee40f79ddab7915a4ec40dd28cc', '968b4b8dc0a2ceb4a0b9d6ebad45d42f0f969933', '968f1baebc490d3c6999ee6c85c5cab8b726b347', '969cc6fb74e076a68e36a04409cb9d3765757508', '96d9ae51862c43ff635b064fcf2f28bb51519456', '96dcdfee7b6764238ac67e1148b3936635c5a177', '96de646dade100899a06e48d7df20846652b888f', '96e38bff902b1b79498ac6c32fa0703f1a02ebbe', '96e53526ad7193b2bdb5a4fe2c14596c46082a72', '96e72774fb758108c78d91c110e78133c9ded266', '96f5c900f7d7c298512fc70568f406d7cf753306', '96f74a68ade6614051747786295561cdc3b90622', '96f76c7f586ed6b169d520718164bffd61f54d81', '97108314fbfe395b2897fa0b403df8e7e818842c', '973d2475aae52a859b16c3e9760bcb4f025c17f2', '9756eb22e18dd0339be9af22df75777a25d1bf39', '976b1462fad15c1883fafe3f62d35d39f6909727', '976d79c6c78d0d0ac2db779d04cf042444c53995', '97771c749a2aece416db6f42d522f6994c18440f', '977be4bea2d2616e9fa4687e152edacbd541d7a9', '9792d04129332d23112c129b6481ea4c728e5c7e', '97992d5b8be79d67c0ac6013b0fdd41edd77d69e', '97ac3ac953452f626c8b50340a5ec80d6d36092f', '97cd6b9403a63af8b37839f959e1758a3923539f', '97cef9e72f7e5327b1f32b1b22d04c9ba73116b9', '97e48f0f188e04dcdb0f8e20a29dacb881d80c9e', '97f20f565d807cea14839c9f9789670293a7da3d', '97fb845d1f68a5d9e026a16c62d1dd1b1d772950', '98007536b2f33748637af0590d6c43a4ef50180a', '98138a020048aeeee0c6a25cea7ee96bdb879db4', '981ba12f85145f89cf13897b5a73f4d8bd89591c', '983e7ce412a7c65fae92e8baa1d32e3fe42af97e', '98403bb989442671e14054a9a4638338dcb67576', '984b6ffcae7df1f62ec22085b26343bc3446fe9e', '984d00d1c9bbf833732bcaa1d2596a256854d314', '986c6602ef2f51dda9007bb91420862f5032f020', '988727c32c3a140bcc6e46c253b1a0ad9b194d63', '988ff44f11795183526613d66627c28b4c849531', '98926a0506e34e823b73fe205b0a0ecb6c58e460', '98a3984c3ad9797a9e98983f0713dfe4ff2c9965', '98ae4cdcda7b9bbec82cd8648189ec556023857b', '98bc7de2e2702372559ba3f2d17dc8fee9b824db', '98d26abfdd2018025f135e04cce84d6b1bc65b22', '98eb90d1828bfbee45f224f2a6abfabb76b08767', '98f6ec3ec16c5bcb3f37a6dc01ebb1110fb42f97', '9903bb3f85696dce976a76425dd440b8a964b61a', '994a12b00f2927b5dc25952f1afc31a21ef964cc', '998840636ae1cfe78188473a9a9e88b3ec397841', '998ce7f6b2fc7634d0bf8980896edffda7e5d5a8', '999902c7302ca251b23f5c0d643debce084076d3', '99b171623b11523b964705320a08737517559217', '99b5f915dd56a0150eb91605e1f6109e1e80c9de', '99bde2f4b325444d315e45e11888d37c95f8eaa2', '99c8f28e3349b5e1e719995a008912b108126f3c', '99d0b09b9f892369c2e825acd1b1052d910de4b2', '99d57b8925d3c30c534d2e651cc029fcaaa86cce', '99dcfbaa391848ad071a3862fe70ccd15999b38b', '99dd788445b253f1632ad448be5661567af9f733', '99e6bd77b01dce5be92ee223b429f9e987beb173', '99e78ae39dd3ad5c7ba5dd94b5a50668bc4f1377', '99fbec38b5d8dd7f3aac6606633347c782e5acfe', '9a0215ffab0f8322aeb36fa6636444b050462a51', '9a0ecbac4ac088daa1d32186f1e75f3a47ba6510', '9a3725b77b18fc21599c3d71853a14e63b065d9c', '9a4025da8152ad9e6ceb5b04143d9ba50b970f0b', '9a44a1d9f57661849e7fdadd388a94f63df35551', '9a7bd7299b8f017f94e86a3c0b091aa69cea4b14', '9a8081758d9f9b3526d59d5c3daecc8a80e7e9a3', '9ab370ba3791485278fb02e7ead4f72b5df57321', '9ae23008dc462f59a7e5ac74d9fb03cb106096dc', '9b062637743b7c3d91365b86026a4dcd02a57e43', '9b13c28444f0b8ea452bb3e1cc4a4542d9ff7431', '9b16fb9ee482a700b0c1e38a513cfb4cb844e2f4', '9b1a2cbd5d5c40fa18ca5c38fc6d5b6dc2921dc4', '9b285d0b497bd45d11865b854091613395eb3197', '9b392166d01817895c03dc190f4eff58153a25e3', '9b400e47e6c4303a95a4853cf71809603768071e', '9b417dda603eee8e66d3c9e84c1330459ac7d034', '9b51a95afc171f1c44245ace88fa930c0e63beaa', '9b551e62768a0e5cb8a1e51c7496e50422435d21', '9b633384fe2be667725bedc568d50a96532deca1', '9b6440915ca3250a333012566f5b5bc98c912268', '9b65ccef5301b0ea4172e142ca542f9dcd5c67ff', '9b887e10a4711486085c4fae2d2599fc0d2c484d', '9baf1dfd16a48823b8967bd428d461a6ee8801ff', '9bb607154fd3684a731100c293eac5ec55b7c27a', '9bb911319fbc04f01755814cb5edb21df3d1a336', '9bd1a5fae9bc868397e311c68e5854e8374befb7', '9bd9ad716c81193918dda5e452eb7abb3af7c148', '9bf2de7776ce953b5c87d79c60430b98fd287d7e', '9c08ae642cda7f69dfa3f00c4593c848409bbfff', '9c1407ca8a925c4443bd797164619ebc17a86572', '9c2032efba612bccec98435a3928b67d69350bed', '9c2db4cc52b7e1786d11fbd5757093dc9cd1da06', '9c356e64280de44ee032e812c6ef4f598d2adc29', '9c3677f91c5292856535ce0c88cca439c18c73f8', '9c4a200d3e3f871016d59921a5fe1988c118a4a5', '9c4e14bbd043846b632d3737f08104dcaeb88142', '9c54a1f9a7d9789f86cfb232446ce6394f588c10', '9c636cd99fd19cd0c026959e796b55647e9e2b38', '9c6e70eb3e2da8f31275afbb4c70b135d53dd8fb', '9c75a7134b4cb7fedadf2ec3934aa75fe51ff1a7', '9c77441414c7814cb430d272576e8cee2db0cdf3', '9c7b749b925db1134ea8f5def078a936c0a65f16', '9c8bdd66608468fe0779a978765aa8760572c99f', '9c92d79246a2e45929c1e7574a690e5c25ed1e45', '9ccf8db010ef84bc5904d04e410da3bf1f70eb6b', '9cd957cd09d1bd85b48c9d00d6248c5f0f24e40a', '9d100b4175fed9da71b76800b921c4a40d0208b5', '9d156b5557d0f6ca483d45c51000e13a0b4606a4', '9d1e3f1956e1ea8f19bcc34b06e38c4c846dc6f4', '9d214a765d1d0c4a807d7ba2beca9a633b59b10b', '9d2b17ad0a00bce80a4df766e5d868ed27f0dcf9', '9d332c1944d50d7e4653722db5ba5e55daea2bfd', '9d3b0a91c20d8d2759b069251964dde1f99b2763', '9d6c3951998a24541860369682e766c0f1c23387', '9d6d95e8fea3602dfc8a3dfaff56383e441d140a', '9d6f0ead607ac2a6c2460e4d14fb439a146b7dec', '9d7559a94537b9ede0cbe55901de4521b4a391af', '9d77fe2109ece2c71f5d800d99e8b6a6790b12ff', '9d84d1bcfde6464c02561fbb5dcb294678778b25', '9d896b775656df1c65efe1b4c8961f6dc92649b4', '9d8c82f25d1d107bb90413f259de57a6acbea9ae', '9d8c836c30a5313d74cdfbb4a42ad2797c2afe21', '9d9baf9d8720b6df80125a71954871f93edf9382', '9d9dbdacbe5461143fe91b6d1e54c8fb9da0e8e5', '9da6c17df0c0c38c64a4a2b97430d779946b7e8b', '9dc161a14f22f9e87c5b64abcc17ff295dfce47d', '9dc8b0f000792df949a0a0ad8eba2724335568f7', '9de117d7f9ae2a385514f9fc4f1f84da3d91a976', '9de4975d7e07722ebfd230b5673eb7d4e0bbb7ca', '9de6ab4421261c74c62cdc15a0fa6520db08ed8a', '9e02f2ba409b545d5be8cdaf2b100f95f6040dca', '9e203b9f99b39fce61aca28d439dcee8c7914420', '9e4053dd6f6ef0525a08c4fe0f25d502bfc975e1', '9e448d03be35d855a8fba9cf70e8f7ba3d5d3008', '9e660fd6e9e6c500229e7028138c7e6880d5d91e', '9e924bdbca1f7eb8873741a929e133027fc2f593', '9e98a18ffbd82acd79461a1271f2d34506f09738', '9ea71860fa53ea05f9bb057d15eae36b46850f70', '9ecacecc5afb10f6a5d321903929baaff9eb066f', '9ed0b7eff06eec025d9abeeb3ee1906c0c9d5495', '9ee4a5055adb8b37e11c98c535c919f5346f0a16', '9ee58aa3f267a70d94b2642b81427cc2a1aa74dd', '9eff847355e390b7bbf7c84aed4da4da3681c68f', '9f1ee5cee3efb9135bde115a6fb9c71ed3af2ed5', '9f4e8004c5a4885837dec6d8ac59784b3c1d4ffd', '9f7c1727d40e0e47ebfc719cbac193e12405923a', '9f8cd56ca194d5248d620524fce0992a7e856185', '9fb2ebd5df724aa4b9836345a986f9a2ccef2547', '9fba771d9731561eba47216f6fbfc0023d88641b', '9fbc0cc4fe6191cabdddf41124bd507dca08ceb6', '9fbece735fbba4ea0a3f6618777ed4e8873bf6b7', '9fc658d18b6afd03f3c77dd8095762faaa41ac86', '9fd39b876bcc39f84d91dafb76b0030a81d35810', '9fdc2026b95edb435cf8ad5220a1a4bb831c7310', '9fdeaf751acfa62f7c9a94bf275e9f3eb0763c63', '9fe4b4aeaed1af9ddf07ca813434393857a6c988', '9feca0cf66e4d470f89b5e88c43f21f5ed50985f', 'a00a9de5754eaa75132b3a61e4705e63aaf8e74b', 'a0128276010825ca58b3c9006311f1d2c6f2483f', 'a0168d118672bf948e603c0b388c52e7db8a2d94', 'a031d24cbe47cd27e114969fc7e5ee0182fa66d3', 'a048209191e9fa19abd15b5a225c6455ef67faa7', 'a04bcfee38e8da931a20843673e211b2181c2ace', 'a04c4d99245e6d4ebf5f636aa08db93209b2cc56', 'a050120b2b904bcb3f2cdc362e00f1e6bbbb7b54', 'a0a5c3ab19d2a1e97bec99aed70971dd16b64ae0', 'a0bd64f4ffc77591a67792fd2a15aa486ac7cb40', 'a0c2858183351090d8568fb0b44e5e2ce4c2fe81', 'a0c568ae4db80d68428a3d6c4a3aa6157d611c02', 'a0d465f806d8e58e8d0caf29603d83c16b34aada', 'a0d5cd001da884b140a29386c15bcfef031147ff', 'a0eff9c53f481195d8087832ee47e0caf2c8e1d7', 'a0f9fb484a1429ae25c3b18eeb5b75ae1c639f2e', 'a10ee1fc1dffa3672813563d1ed066d39504a17c', 'a110dde1926c639c3230efc90fe7abfa52997f73', 'a11274b59efcd63d1b1935a7980747517f8e3031', 'a11a5cc32f272d35c624c7556892ff1b54aa01fe', 'a12ec8c3bd90393a1ee57ae64dbe015a51f5a52e', 'a132ab77e1f1e21ba65559ef2bd1bdc1936e8926', 'a1345214bea884afce86726857cb4e38627a6dd9', 'a1380d458c15706b9d5282304db81a5a78352e96', 'a14c04b4fa96b7845bf1b3bff8881c27ca0c8c93', 'a15e46cfcb4158cfc84d8af0e0e90ae0e06661a4', 'a163d890c9067d9acf4c62a357113d9573b5d9cb', 'a18944f1928523e79c9594e072302a71ec10a4cd', 'a1c482d825beab81879e4c59ac99cbf453b9f819', 'a1cd0066f54dca9af52c965847461d11c71fbf7e', 'a1d38b9cc13aef3375e0edacded9ba23104b7690', 'a1e5d316b5e5151d8079a063f5edb42fbb8d1aa3', 'a1f9bcb45862617be929b14b2f419e49939fb674', 'a204209b3092f69c0d54492eb97cbb288770fca1', 'a209245cf1847eb4d7c02c9b89ed7370110dde04', 'a20bbfdb780dcb98452ebe4b093619bc04ec4c2b', 'a22e463ac5ca4e8df06c409f2b37245491c3bd42', 'a23679f1e6bb701e01650ecb90784173f33c5b8a', 'a238322963cb7b5e60364d4f5e1a58e950480186', 'a2498682dfb521861f0956256feaa338069cf303', 'a25438da1efc306f44b827a4a9d4b3d1735bc1ae', 'a259637f576fef8ff9022e73547b425913011961', 'a25da87b3355a7785a195a0745a23b1f97c7707c', 'a288b2f9e7fa17486a33aa33203d53a542077d76', 'a28ef7f7f884805ede88973b5db0b39ce9e6868d', 'a297317e721ead11db87eb8bc0ddae1917083aae', 'a29b8d40470bda120239cebab1f438a677d49294', 'a2b19e53ed8acf865528c9aa2af2db99adc37eb3', 'a2b6b9cb37057026e50d0731027d16471e2e848e', 'a2ce51b4e34d203698f6947fd1a9b5258a6872ad', 'a2f4a835133971255b6153bcd3472f2d9c414c1f', 'a35b5104fb1e002ba16dc72b1ccc1f908f9a131d', 'a36834ff1c3910e685a9787e4d16aade6f4d3294', 'a3721238ceff812a9c441bafae1b44cbf276305d', 'a37ca4c1a3c0669329282eb2d757e1cb365d0631', 'a3dddf38098749475055f787b52ca5e653414aa8', 'a3f790c513e6c4256a8cd446f440d28f693809b0', 'a3fb99d74a6e78329d34fa30f8bfff25442bbc5a', 'a4066374d64d5cd6c43541cc0303dc4f0a62e9bc', 'a40b6551b55c4a5acad1e97efb7e0b6aa48771d0', 'a428f3e3d6df7fa7432fbcf7ef25abccc654a816', 'a42ae22b7808f1e35801cede13c8744e16836447', 'a43046ca785262ce4bef43289a4046d32840f5b8', 'a43734babbe87f3eb9c0b1bff3d9b0fd463a8134', 'a47193586f18f5ea959cae4046da57c969e8ba5e', 'a4851161aef67246972269b957ab54be3b002c8b', 'a4a1daac7ba5534ade06e32c5b9d220eb5ce145d', 'a4b540b4e7d83b97022ca7fdf7c31a9bf0db05a3', 'a4e5df56b959395b187624d3e8d9b79f03d817c0', 'a4fce18475b15185a27ebf152d014d7a348d12ac', 'a50c8d3f026e6ca6befaa00bdd6ff8e6dcc86319', 'a50f6914d00af045feeb218f4e72f3e888d140c3', 'a51589864f3d86cea5b307e5b21b99bf197cc4b1', 'a520488fcf049bbb5cd847cfa4f884c740692780', 'a533d0fa6d94f40305498f2a1d9bb9d982a9c96f', 'a5344c8836e943f0b7e85841d9ff856b781df4f8', 'a53daf8c24f79a519aa01696912d22321b2f803d', 'a54543f7282b66b3c8423181bf2789e1c7eb2edc', 'a54d370804d047520f6047d0b0a2b04fbab1bb80', 'a5684a503fb4e1079e0aa4ea223cdfa566bc1579', 'a56bf59af6edc5ae6c92d61ddd214989332864e8', 'a570a020dbc08bab8248eb160708426a52bb9724', 'a571fcf8935642d1b6e79931ba97cd27cd995314', 'a575542703f3bcd3b967b3dde19a28c30b241ccf', 'a579d73bb859fc4a3c8f76f9515f5cf8d5278066', 'a58a534da4bf25c7a069ecf616041c258a60ffc6', 'a58de017cbeda1763ea002fe027ed41b4ed53109', 'a59e02a70054d87e1dfe694867f5a68810e4e720', 'a5cc4c1c78e830b43bba70a8d439ad865ca8026f', 'a5e381a1582e401ee3264e27bd0ebd9b647e1946', 'a60c294901b2fe5eafd30c320f1c499e03251663', 'a60ca9bced9235930ae1355df8a4bbbcc5f58ef0', 'a631d5087b0a53e29da85105da2519f36f1ef0a3', 'a633999a259275ac6b9bbadce2f5223be4b84bc3', 'a638267332cc16d9493d53be38f318e1ef86a4e6', 'a643df7fba29007b1e3a1206a6fa4c344dd7a20f', 'a6453c3713e5b0c9cb1b1d8b79efda3a3278467c', 'a665f40939631e279156345e0a49cc54a241bbb7', 'a679cf5440acc6e78a993e9bcbb4a6efe81dbade', 'a682f82c10542ea3c91d443c71798fed8a9a7256', 'a6888106442bccbf21dbe1459314a1677d654d04', 'a689f536e9be1a391579756f3f5c7d010bec6fb0', 'a699816c7f4f8855808eee732a5cbd1620091998', 'a6ab7d31d96576b46a3d007d7af1a0a7a7794423', 'a6f1de993d2bbe0c7f868b09441db1a423eebaf9', 'a6fcf1d4880ad5e15f64d65ed3c0abee751b6ca5', 'a70e3e7eb050c31f07de865758ab1ab7cb735826', 'a7225dd24ff285e7857911a7e8362802a7358aee', 'a75e0c4377428472b964016d08cb8536706b0409', 'a764ade35b4216a1476813abf9dc56468c9b0baa', 'a774226109b6758bfa425262e0213d2b7d75890f', 'a78bfa781de1518178f460fb14fc8181b21fe90e', 'a7a7b5f910f1fba26c2ee160115feb1912622870', 'a7c4e5316026288c499a59ff03d8732d58206c92', 'a7d78d74b5db1f7a2cde5ceda3492baf19c7e0ab', 'a7f329d59cfb9028535a390253ac927becf1b7a6', 'a7fad239aecb21178d821cb53b90022aa393df1d', 'a7ff83699557bcb3a225779e5420a50b17279e16', 'a801c22b9f2c5b8134c08b41631b737ef397b81e', 'a81cf896ac6c9034cac699ae62e215499f5279f8', 'a820d2d4f16bbd53be9e41e0417dfb234bfdfba8', 'a8244a4fc1a633dbf6bebcb9e3d066e5df808507', 'a8268c552c1122626ba8ab4d7cf2f799de7931b2', 'a8304e2a5bf7c8f4b41075365e29f4cbe485f2b8', 'a84d63685ee588d45679887fba2c5ad29a9c17e4', 'a84dab2d0dd967d002cea226fbc0a6446bbb7014', 'a858c8b39506205b446d8a5b364dc90e017b4d29', 'a872380dc862adb1ce7e5f176e49d38434c73e42', 'a89c81854fa3f8d3e7a7721bc6a952a0140ac585', 'a8acf654b8d4d3f5e4de81eb713f6b196daa3183', 'a8b1c5a96c1e5e78e55d66a8f46c187bb3da0550', 'a8b769148fb5e2932ab9b81adccdb2573469e2fd', 'a8d2e4a9fdef793af75b748588b25e8260cef4d8', 'a8f5cb4adc0a0e99acea91cdaa9e426d74fe95b1', 'a912ab5ed3f3ec9ada2c5548a6b652713458a199', 'a9153681eda3da76887ae3ef4b8fccd5bd636f37', 'a92675ce0d26a3d31bf9804f42f1c56471eff1c8', 'a94ed76cfa4b973bd02533977364f08ed6b3f761', 'a970c7e24beb9f5fabb764dab43a3c40d04c00d6', 'a979f3e134e98e5630bd9b117e1a2825ce4db463', 'a9a6b0bce2048b9e9ed134dfc7420c768c1fa7ac', 'a9ab1c26e4eda51925cfdb2656b381b84380bc9d', 'a9b3b158a9dca341f6d07f58ae169762348929d1', 'a9f3e6d486a1d5af1ba78c413c59010cf1389903', 'aa1b264a929a15beb90d9c4222a646a41702961f', 'aa2262e404d2cffcc03f1e7d96b766394117b27b', 'aa3aefd9a1b1064989e19d1a225fb05ddbe0639f', 'aa4cde373eb7dbbc147b903764cc03e31275e76e', 'aa67929c11bd5015e433d2323c69bb9e8ecad274', 'aa73c9e186413c0f935738d4028f351247751ca8', 'aa77447fa6be1e28f7a9adbf6d29e3b78046f475', 'aa80992e5d8457f42aea6ab238e9ad3c346fcaac', 'aa82aa55d8778d3702594871bd6b47770872d7c8', 'aa876295ce08b97122031066ea6bf40c00789bd6', 'aaa6efa322c064b97186c6719f3c42f924bea576', 'aac4c322d1724d8eea6005861f6594dd72863b85', 'aaf546e52f06930dbe2d127118450162dac8ed79', 'ab05f23a5f67105a8f38009af7df8b5182170ea4', 'ab196641c7fcd0883f3cc043b55efb02b74fec8d', 'ab1eee882b2f01ac185a5322520955b64dd4b4fc', 'ab2a735959f7838ed9e879b821f8740a036260b0', 'ab2b35c120a1a2d83611fbebb3878749dd74a227', 'ab54c6a579a5ce82ca00cd00d9e11da79e057c1c', 'ab56d66b70f6fdffd7e7669f071ac6908ecd1eac', 'ab574cac18962fa5ebcae57e68c23b70e413ece7', 'ab821660bb489cec1f36211a7a5832f1032e5087', 'abada30bfac12b807ce9735153fa4710fe4307d3', 'abb000feb50180aa9db8438a80c0359823eb9366', 'abe01ca95174687fbfaa20065241e2ef0ba9a7fd', 'abe128acaede81dd3fe66854c08658cabfc322a6', 'abe968718265751abf0bd1794cc9e139d6272c83', 'abfef43751e880728b44adef59511e5af49b4055', 'ac05a6127dd0098b594c273778838ab186fbaa43', 'ac132ddcc3eaf995561d84dc2a6dbf9f64d40319', 'ac14925ba87614ae8bbe3845eb504df6e7184fde', 'ac1c7a488e016d477fd6d23ef45a8a48643c02e7', 'ac1cb58f839ae6773732125e99b4a7394e0661e4', 'ac290320efc7804b298245ecdd35e6d23f3377ec', 'ac2a3bed0af41164a7bc009188de2634f105d214', 'ac397c4b06be6daacff8ef3a5fe4e4eb1781d5a9', 'ac3f2e636a8c44f04bb06e50683ffe64ab14e9ed', 'ac6dc3226e6c12e9afdbfc44d47c289ef2f309c5', 'ac70e33cd4bd1956efdd0ad01160e167a35496dc', 'ac7488403dda024a0d96c0d073ab426f227955d5', 'ac78f06153ca2b6d1b34f68db99131a76f2a0660', 'ac8b9a65e749758afc3644bf4fb6ecd70681d649', 'ac8f74463945daec00af6dbe0a8233c92e2d246f', 'ac949308d5293c3b79e37b646b4f7f79d017206a', 'ac9ea8d641ebcfbd2c9bc65d1361cb03fec5d981', 'aca0516d5efb99f2dfacde448d58a52899fd0c9d', 'aca5269cebf18ecb1d645856cb04a9186406952e', 'ace1b9f10babfb8a5d74be86714939feaf67ffe1', 'ad0b8c985f67ea44c5d50556cc0aeab0756bd28e', 'ad17296a51bc948b8a3c2de6fa7bf8a5f4af7f4a', 'ad370a311fa9dc87e32e6730a9ac7fc01092e987', 'ad5364eaa9c9d2446ade0bc50015b17ce4ea4cdb', 'ad79e5440c94fa4608dd985bcd81b7260113ba93', 'ad7d3d76e192e05f30150febef393be8de244598', 'ad8324902ec55c9efc691f9a71da1715e5eb9b38', 'adb7806be460224c4fbd0ee5c8409e365f0d6723', 'adbd40c4f3fe78e7f49f491ea04859ea07de1ed1', 'ade14284328980fbd486cce408c2e2a474324868', 'adedb3c2a6c20374bbd2177934a513ee150715d7', 'adf6a9704716ca63c98f81472a27ffc3523cf683', 'ae01466199c52c99e2c8e6498d46b90ef8c32b2b', 'ae0565253d822cdc47c645a1b29cb6a5e2e2ab16', 'ae082a1d514a40c16455e7a410be1eb95afa2089', 'ae2e3c533c5908e53d89955c9d384a005dc1af2d', 'ae3300ed8f9539ea1e59f35be79ae99be02ad30a', 'ae42b23c02139ca2fcaf97de0166675d303ff89c', 'ae589ae653f9c4323f6e100b5172325663275198', 'ae5955b6dd94210abfc98df818b8f3eb572e2ca9', 'ae62418946650e2c35ff7e323c1b040af7c28d9e', 'ae699227923564ce15dd94d561dd92f21e4ccab1', 'ae7634282bd6fc8854bfbdc8f2f6b1138f1710fa', 'ae7c45cdd29e464c4b4f592fed58cb53449d30a2', 'ae99321be6e9a79bb9c2dd4b2aa8b49fdb9efdf8', 'ae9ea883c8a67dc27a07267c150100a0e71ddf5f', 'ae9fa3561ee6ebab6e7e32f2749792afb18f2fcf', 'aed57ad1b08eea72bc966a49e37802186312c199', 'aefffe8e9cd03cecb776d4c6c48ad9099a0e17c1', 'af41f2399f724b416ffc8dfdea50b55297a3817a', 'af503f12b03939d89ebbfe22b959ca3fd3017639', 'af5e57519893d933e3b3a0fc4d0019a8f68fc3cd', 'af7b5149f221be7d8d10571ca2b542b3bca462b8', 'af896b412e7d5e6e2e65a5cc7c33075f21d18e64', 'af8ba2917f53e92dd3a60f2957e972f6603ce985', 'af90efd16840735ac81363e69047e8db5faee97f', 'af93d38f4622a3c2a2e657b6abae2d109559f143', 'af9b7a31985776724220deb77bc65f0c2f6ee6df', 'afcdf421448db813e6cb31c1439e919687e83269', 'affe67dcd8452def0784688df632cbf53b4c66c6', 'b009d2161ab50a122f8c81adb7ce0d40e8e42f2d', 'b02d91124d9f3290c7015e45e689e0f508c6e789', 'b04775aafaa0f632a08235aa1ea5ca1f7e9cd2a9', 'b04a4dded8cf051d23fe8273392c05969f17255c', 'b060d8ee0a018bc167f2feaaf9f50d5c84ac6ae4', 'b07333f2da89344f6c916f8dc7467899d45c5000', 'b07cd58cccbc612306c708c43b8ac975648d530e', 'b08c89c2ba53c413375602b3d4687d4f9b260593', 'b09692eb13069c832b9389ba620360c27b4a0e28', 'b09e30b7c10fe07b9cecb65a65b89a3e17d016e2', 'b0a79351af92527aa20697a438e2954c9594cda0', 'b0b1b4833d92c05011b26f24e74fed5586af6445', 'b0fe58cce2b8d097331977dfee642c7deb0060db', 'b11e6a84c54160e61efdb9cb5a572b419aa33ae9', 'b120b6564a43de85b3e5c508575e272df18f0538', 'b1218860925669a4c7cf0b8f1902b57b8696669f', 'b1269307f2ae8c17062c6aea2502b099aad517b6', 'b12c786deef0e618b5f277bc337f67128f425efe', 'b12e7c96b09760880147b4e7465f7e37209e016a', 'b133cbf1a5ba9a5d68319e280a291053fd7170e2', 'b13866f9440445a75ab68a80cf425114b8ba02cc', 'b147fb961dc9bed2b7e9dc21a23408de9b168cad', 'b14858ab6fdf0a526272f902989421e15b33d4e6', 'b14a6fee136c62010dd35a56b2b82c37addfe145', 'b14b2f046fa1a3b746a6b73786893be32235c2b8', 'b14b9d7b1b130018b4dbf66d86bd48be5c2b33e8', 'b159c28a41ad004830f6f0e48e8893fc74adb0f3', 'b161ad45417b7d89d0abc5c282b38af2931b5ecb', 'b170937e5ea6fbabac27d6a1cf2f78ece2077182', 'b174b3dd097dd005d6f0d785441b9cb3dd87daa3', 'b174f4a932512496255c31bd0c259ce453b84b54', 'b18877183dc0d8bce0d064afeaf654b5117eb598', 'b19d615b3759fbf35e4e9208edce2422d207947c', 'b1a8ffd37bf6e66ecfcd9cad65f8c18906f3db93', 'b1b0e0f9635c6fa5458bacd18b141563fba3eb0d', 'b1c2aadded44c93692910715aceee4b50b3d227a', 'b1cc8a1aa426c6d008c4e5913bce69149f5aa08c', 'b1fac841c888bd4ef39620b3a9076dbf624e7550', 'b1fda9267674062066e55cf3655192e6011250d4', 'b203071c2fdcecef2d02fd9c09d9a7dfb70ec566', 'b206e48f555959696a152e9b8a2de466ecff4363', 'b220755c684e0191df5876a64c31448b3c4b45fc', 'b221d6d354c6b53723d22e45bec37c9f038fa7af', 'b25ff487d14298eb47c44f80f6c11d091163b5f4', 'b262247f9e9c62cb9ae52a41088fd9639e1265dc', 'b264f4bea8d4dfa446d644f65f6c55b18adca27e', 'b2bb7d937ca86ff5df2965e6c59e8ba23d8676a7', 'b2c691f928853b63498a125228a23f1879e1b9ae', 'b2c77b9bc8648f700a21fc2e0ee8b01497d574c3', 'b2cbcf5ea3c6ea3ee41ceac0ef247c2b1ddedbdc', 'b2ccc27ef74d991ef481e02305d2e0326cf2c8b4', 'b2f3d3c4ee9092c58181d672f514c9f4bc6feb21', 'b30b98256090d709a11cbe6fa1e14eee6269dda3', 'b32610e20833166c076a218a457f926b6714f21a', 'b33a2aa29541e223de0a6695499064bacec7833d', 'b34dc35487996fcfbb06aac69caa759235ba2be9', 'b3553fd82c3f12e073da5b223a9de861401fd961', 'b3600138c3d96e91c3c763d235a4615155eb5e86', 'b380327f11d2f9899c701f51b4731de3caf6b139', 'b3820910d53309221bb0799dad56c588aa1c0f95', 'b398764fff0d8228912169507f1721247bdba17f', 'b39b7c8d8e88891b5a6a99706a6f094d511083c1', 'b3bda43148fb16602e0839344c7e4ae82277b68c', 'b3d7f981c2842415af2c7622489b6c2c887a3348', 'b3de3bf6a0d2e5953d3095a58ee99fd362b97e8f', 'b3f855e56cf750728982b0e5eb617404abc8f5b7', 'b403191fb30b6e5678fdcb528398843e6b5b462e', 'b407f63555ec058a0dfafc688d93eb8d4f8b05b9', 'b40869597b8a672f1efedb7b50defb833ec3518b', 'b41ead730ac14f6b6717b9cf8859d5579f3f8d4d', 'b4342ecfa7fec52459a91edcb25166abda890515', 'b43bc4e417159a1b041b518d80bfbac7c86866df', 'b441788992d8d31698a936d94c149ee74252f0b6', 'b44609144e42ba67d18af6edac3864ea426a5425', 'b44a7b18e5861d6b5c0094e43239191cbe5ff4e1', 'b4622cd5787886a174fbcfcf90db78679127d5b9', 'b46ca26d4ccf3a893299fad2b198af9374276d9a', 'b47e1ddd6072a05ad4a2ac718e6f1eca3c99d70c', 'b4831ec989b056614b182c150c86f4760ea337f9', 'b488b8541ee3b85aee02850b917b9a2436664504', 'b4a678fb729bfca6031a96948996ea909ca06fe5', 'b4adf5ac8bcba59011df7be840dda1134a47cc30', 'b4bc8f00051edf047f120b6ccabc8b81e1927639', 'b4c59bf0104e5fdbb429b08c7037ae7e5c1c94d4', 'b4d85dd79b08c4f450a81bd90ccfede6cc9fa96d', 'b4e32cdb654ab914a0ac73d2bbc5cae142da405a', 'b4e93ce145d511946e444cbd22c090b78735c99f', 'b511df8faab5ce988f7b6d3c40fbe5ec69d8aa3e', 'b515dd30af89458f5e6e101eadf97fc6b8e7c803', 'b526db34ac055a64202fe7af4b16130b7de545ab', 'b5526c105e21566f642ee53e9771758d3ab2b8c1', 'b557cd1db24a26b74160b995b876ef93d6781d79', 'b55d68f1a8759157038eb6688e5d6bb1b6336567', 'b56d6e6adf0c660e8bbdf492bf7ab47af93f286f', 'b5a087b48db54c5f455f3058242968f4c85a4afc', 'b5b50bd23dd36f20335eed7f081e313cdf592c0c', 'b5b965d1b8b78bcffa25c47ba3ad2fb53d572992', 'b5bb5b4df58032a1c72f2110fcd0c2e30c86b29d', 'b5eb21c94e4ced6e3f1b2544b3d4a0f0b6c5b245', 'b5f117e21886543a0c0d1fc4c6c188fe71a57098', 'b5fa506db94aabf3f86e4a799e8af247a26680df', 'b5fd3bcd179db4aafa4631b9b1801445cab72d44', 'b5ff5cffd4595f615009be55211c8b94d5afbcee', 'b601704037aee134d871e363ce7cbccd0b580431', 'b61afb42335287239bd40e1dea50d849cbf8a9a9', 'b622d4d0e4fbbb76927aa3b33438ebafd8fd6a28', 'b64cdd1a0bd907e5e00b39e345194768e330d652', 'b6922730242c12ffc624470c7b2ed2fd402e36d7', 'b6969000dd04c593c719da9952924d5d558ffe16', 'b6a06a061211633db98af8db1c9b603fde6159c1', 'b6a869f57e4c8054c7943f28c03b6ae639c3b688', 'b6b799f34a204bd928ea014c243ddad6d0be4f8f', 'b6c8205aeab398dbef83373e393cefa2ed61e33c', 'b6d52772473aaec0eeb9d14e69b4573658ac4a8c', 'b6d94758c54a5051832ab56c0e3e7be1bc51aab9', 'b6e4a38312096e5eaf2c93bc6bf320b2da71aea2', 'b7278db59931a8a741d0bb911a12192a5b198929', 'b72d2d5151ac483d31b2340e30c2c583b246857c', 'b73c8c042a3a098766da277efb3cb424a91c8c25', 'b748709409fa5b21a603682ee2157ce10b546173', 'b766d7d89b5853efb50112457786b26a1678a783', 'b7880b6ef841d3033888e737bc85ff4ddab3e82a', 'b7a127d2d76156d49336075e7ee7ccbdbbfa6bf8', 'b7bee4e0abd7a0ce8c0a1ea9d6c03fe37a2d31be', 'b7d4b25567241a7dffc26417bfb21552243f506a', 'b7d4c147547b89ab1c5c321d43e4ad0d67006ef9', 'b7da2b5a62703ccbfcde52924c44f496ce04e36d', 'b7e8058333e5cd56fce818c6701e354ca9350321', 'b7fa3fe1f2d2259712e7d91fd8d2039b25798897', 'b7ffc8dde9c28735bc957f165d59ff9c653b484f', 'b80344d063b5ccb3212f76538f3d9e43d87dca9e', 'b815402389348ad52b1152a5cb2815a3bca2f214', 'b81b63d5c1f33fa670b56c491566b4636d5767c9', 'b81bead2912258259b67d88483244f88062d4a6d', 'b83167c74b51534a5af714e6fac8e67cfc8fe7e3', 'b864865dee796fa6a2503648c56278b8a155c384', 'b8668c3da5fadb1f0f9f88608d1940b5360f2ccb', 'b8812e995a3120738728d91651c90447939d2e34', 'b882a5b0dbd1a80533e40745be976f19d1fad5b0', 'b88de0b31ca3b37eeadcdbf43f327e9e83a2595b', 'b8b4d9d0658892dbed9f436ec8bc03af6960871b', 'b8bcd5537ffe1392d48894b88e038802eb685da6', 'b8e513270cbf80f6107d916f30bf550764157017', 'b923c4fc244d671f96ede79a60b10da1583ddab2', 'b943fa6a804abef677c48c67553bb8a1679ceae8', 'b95a38c54a86b43f6882a012756fc97cde7c3e6c', 'b95b459ec8953468a350a26554a9c99d02b7b95b', 'b963b6fbf0f6bc8078631c29c41d5d6bb79d15aa', 'b964e5e4240bd21b51d71b23469fcc28f5181e80', 'b968236fe5c0d946c22475de7463712cac9812de', 'b9692d102f114238ba67fc482e791c47818dffd3', 'b96f2a9cbd9d86b4f9f15978dd3abbdfafe26502', 'b98490b4e714cbdf98f4e819c150fc6eff83cb28', 'b9900ac8184b5d8213b11a6ef4b530a0010d8e7d', 'b99729e1bce1a548b8e9012367bad15a2f58f980', 'b9ae82d01c044d9881b4c48accca0b7a94fea5b1', 'b9b276a7731491f39ad023b2a748449d54f5b214', 'ba0fb3286df53448c10c43b91fa35ccb7ddcc27b', 'ba1d51a3f1402d38e9141ab49f6b2705f1d8568a', 'ba20c659a0fc4f71f6d4f434c6652c5a6f629d1b', 'ba23024970826502d6028e57960d5c8e21ea33a5', 'ba25732b8a3778f67845e3090574571fd61f394a', 'ba2638ff7ecce6ed8e8234d84dece9181d6e5a82', 'ba48ea204a2d5aa4e394f6186b22f64aab39c261', 'ba4ee5987d1bfb288926f74d9fecb60385b43860', 'ba6d4b7387aa241831dd879f9ff1a697ff508177', 'ba83bc667aa1bbe4892a7e2fe923b06af0bbbda0', 'ba8d1693c3c2153d4eb7952c786c575c1c68cc55', 'ba995db87101386b1fa3bb1b2287c925105c6ca6', 'baa3d63764b6017226ff141408053393a1f8c0f9', 'bab0214e2b5108762d214ca73a7cb6a2ede20854', 'bab8d135cf88852063ed4a084dd24c783d7ff841', 'bad24a7b2a002cda673d5fb565720174d224a94c', 'bae4cf7c745ff2cae9676c90bb1080a35aecd8cf', 'baf47ed8da24d607e50d8684cde78b923538640f', 'bb076e0ef7c4d7a3c134cf61002a7a1a96048eee', 'bb1d5d9cb36a63b42a9c94f84d007e0627e7d2e2', 'bb4d643d937556973619d5bc26fbd26d0dabd746', 'bb737c1a8746b4969a93bfa594212beef36929d6', 'bb84b605789d898993e2c6fbda4d57a8bc8da369', 'bb85bb79612e5373ac714fcd4469cabeb5ed94e1', 'bb9f17ae7661950834991182c6ecd5fee2abb972', 'bba6fb725533028403000b2ad162d539b108e834', 'bbb1f39b74a5974230c4e3343b902f382883175c', 'bbcdf7099bf1429850d4d0a1440ef3006916f4fd', 'bbe26eab7797a1e8dbca2a13a87864b8879f298b', 'bbf0be435731f1a17832335b8bb1a33229d1f615', 'bbf164ace3870ed8669e6a79ecb12180d82b9c6d', 'bbfd24795002c16ed378cec02609e15837d3e6be', 'bbff2f709991d2303272083fcdabcdd8701f5ff6', 'bc0af4d6a405d99cd8a01dced4070ae11d7cef6f', 'bc281e9299c877b533df33326547b127c5f8111c', 'bc2bcfb1ff9bcc52cb9c08800d3681750d9dc59c', 'bc3551591ed12f1900f06d9499a4314a78348107', 'bc3bc88934db1d20cac25a96a9f1c057b98e679d', 'bc475d1315d4516bc66d27d3c4522c07b082c49d', 'bc52ed22944862375579a227329a3cb98142708c', 'bc5833a37bf4287b1f2125c80bcda0398fa4ccb1', 'bc64ababaff1f873967e89ec88533d5d15f147ba', 'bc72589c08f6a1add69583bd731a657eda2c4f50', 'bcaef1d7a193b5a725cf1fc99516d8f347c59aba', 'bcb944b714cd54d7e263b21c49074d6a147479a1', 'bcdc64ce87f624d954b6ab2f6dee6a772c8a793e', 'bce0aa0082a59b71323c99331583d127da9bd636', 'bce49e79ceed989e5dc1aef38ec3add3da9bee76', 'bcf01716b790314dca8520e348f8bb87406257d6', 'bd0f6d41bef28fe65e68b18da9361c316ba0a8a7', 'bd1a9861cb27fd73cb6b7993b80fde2fd3aa2ecc', 'bd1db95232acfabb9f0da2e10ad862a32de040c4', 'bd21c58ea9dd782616d3b10155050f0a3a1e487a', 'bd230f8ca9417cc89c7446b557f3aa2f0e63db47', 'bd2e05c3c59fd4b3761b88301e827341ef2a11c7', 'bd313fca34085c20be593f92a7c55ac1f073ef55', 'bd4c6e843f00bd476847fb75c47b4fb430a06856', 'bd5d2e7a77939e409363ca1240a51a458718e59e', 'bd64f193f0f53f09d44ff48fd52830ff2fded392', 'bd7bf8a7cfef10b5f59a7b6ca637540d2107ad49', 'bd8475385f0aa78830fa6dfce9e7242164b035c8', 'bdc1688c18e6788870de6e3cf2c9db9c36750c39', 'bdc7c976ce178aa4e75bbf9874fdaf327f3d3fe2', 'bde6f98cb0538bcb5f341ab880a962c35ff61579', 'bdea99b123d9175bfe11c104450f393eae2a5e92', 'be0a4b64e9689c46e94b5a9a9c7910ee61aeb16f', 'be0db87ab60e3a2de60354f34d9e37341b65eb1e', 'be1b8c102221696bf0aa348edf64791d4429223a', 'be21ec120193effd2a5e545c4bafa2e1f92e9816', 'be4e946c8f965390c0abf6e6f99ae5ceb7ed8a0c', 'be509873512d21995da29cfd39fdbaa603e9d39f', 'be52d827a374097c1b9b73ba1589cafa4d9a8260', 'be571aa869648d1378cdfefe14f87b5c5d35ca1c', 'be68695bf20fc8a1365d138ed6b1e43b535df8cf', 'be6ba2943e26786e8a108453e8b4d212aeca8c57', 'be7bc6cf250e96f756bb042176774b8b3f9226a4', 'be84ea395e0c96b982653ebf9fcb0ab85e7a0fb5', 'be8cb9231eae665d7eb5466cde12d27e8e804a3c', 'be90f9e8d8c0001cba41aaebf4fccde54c364949', 'be91f8a9696388a6126951db7417129b8d4094dd', 'beab889eff4a3493d8de6b962feeea8a1b5d62be', 'bebc003f4829f97cac534729b0e6f67886453a27', 'bebea6b049a47a7c08c9f6f94ca1845cc44d4495', 'bec51a6edfdfb595e08b6dd15c14ca2fa6e688e5', 'beda2e9ad67d09c74bfa1958f818f535b2c0c766', 'bee39bfd292b1d201db9d3671e084972efbe6e26', 'befdd50134a9ad0e512d1604d057b540cbef87dd', 'befe52fee4617bf9244c4a65ccdfebb59b7a6773', 'bf00bdda03e001b3d8ab6a63f16a8bdc371648ee', 'bf03bbb01a7803ed1a5fec51bfe9423a79737d1a', 'bf0480641561b47eec052763103ba048e210da78', 'bf10781da66dec3d419edf7e4815abe065ea4f7e', 'bf19818e6cd5b15250fc490fd7049429e728ffa4', 'bf19d70051aa9c75f8b677c417211fbc8bb5b0c5', 'bf30441e24ef5326354295723d9fe1edf59b8554', 'bf48671598090db7bc34917443f4acefba43dad0', 'bf6411e747acc604981f0d3a1999d1d0bf08c254', 'bf6da922a29e2474a08b93f775211c6d6a470475', 'bfa8ecd05a13d649c22c96baa0f47c2b73841e98', 'bfd41f6e1d45344ef3f3f2587fa490e5edab0eba', 'bfe25236e58ac7915762fdcee75cfe8f72b062ac', 'c01c97d7270db93277833ffb63a6132d3f134238', 'c01f9838d66929bd2494eb8e627054024a13d5c4', 'c02a859df7a3f893cf6ec3eb1f3e1bdd6b6f3065', 'c033f58e436979b154ecdf10fbe79a8f1b408694', 'c03d329b0f3c9392c22d8bea39974b57367918f6', 'c049bf426bee4156334319b6efba0ae9a3766fb1', 'c051d4f74eb6945b900add8ecb263e979388328c', 'c0527e248aeff22816b97f8a2428ff0d2a40f647', 'c0683be4924b3384862192fcb2c5e48e0f9dfdd2', 'c06d85f48d4c2c9b0d4a4d0adc13a10a1f258216', 'c07c45f54eba5ecbce5c84f52599b26af12e2f47', 'c09c40b07c86d0b3162a03f44b5de50d04104416', 'c0a0c88eb9b193cc601212778fab4b0b58086e88', 'c0a2c20fbcca0c2e13659c238275c298932ade7a', 'c0b20c353055f4e82f098a41f5ce268007379b47', 'c0b6f8728119cb1e3ef96148d3ac0180364ae15d', 'c0e7c807d56cb6627c07854247040f164078d88a', 'c0ff0f1c93f67c1fb372b36b1b08bb4c76bead7d', 'c11f385c46ee197327cfe84d4b13f2b95639ca42', 'c138763dd5c6f28a5292e037754a56a82d0a3637', 'c162cca4595e5b2fbeefed35ae0f247f648d7751', 'c1709e5c5135e353707fd4fe13044aed43058858', 'c1718ee937a127ae784d247dae40fcd344a790de', 'c18b096e15ca0adf42c11763c9535973cc4b507b', 'c19152c3b0ae659ee67bbfb4d2ddbb3171554433', 'c1ac4a7221f4200bcb925fc737894b5138231a96', 'c1e535b5bfb42d8a08db4c9db715045daca4c6c1', 'c1f174e912a2044db44a3f5326e9cf5cb7cfc6dc', 'c1fc436b58e28b3e3f1b43a4e955baa19d8a69ba', 'c2289ef976862683593699ceaea8889f9da279b2', 'c231bc806c239b1322421e66fc001822a9b2c2f0', 'c24ec42f0e449ff39a95a01f0795f833b898f71b', 'c26e08f6ee82fbe528bc94a585a3f785a6e77397', 'c2934b29d64e467297c608351ed9695ce62128bc', 'c29b6412611c449cc5b4bdab1da8135b412f0267', 'c2abc27fa90b322af64c592c06cf0f9dcdc9fe49', 'c2b99e413e9f42203ed85f62056b6cdbcf32f222', 'c2cffe9ccaa09a327e8134e9a1f24901801fb2f8', 'c2d86e9cbf756ce05ea3c163e24de394585b7c53', 'c2da05bbb0065f3a6b487bfd74cc997e964e1781', 'c2db5116cc0059dfea6019af0c2f7305e762c54f', 'c2e4ecb9c3d28fc892c0283346805c0a0f3c3b84', 'c2ef5dcf15fb046f9e53e9e8d33aed99b6bcd13c', 'c32ddebaa05c84c929008996423258435d7786bf', 'c357cc04a04d6f9d2ef4a275411b56374f229fb4', 'c379210476d2044769c5f421e392c690f5229757', 'c385602ce390a810aeba3462bf94a2200f088004', 'c3953e49b785c940f53a556abd9ca681c5ef48c5', 'c3d5b2da5ccb7ae981cd09bfb5821ffbe6b670d2', 'c3da351ddd314c55a2c4c2006907e70641757785', 'c3e942291162c14b24240b033d2ac50f17077ba2', 'c40b7f335eafe18ac078ef82b5cff1b2ec12bae4', 'c42c8eafc4ffee8f0c088c8423bf8cec6e059492', 'c42e521d8a2e3d6e42d4de1ce72816517d300896', 'c43cf321157fc37d8e890d43583a4024ec1d5a7c', 'c4400020eba712481397f5e35170788188f70d9c', 'c4875388b0f177bc548a750e579f741f12dad444', 'c499b23f292aa43f0363ffff4a2a4305861ba992', 'c49aae1b5dc2d8ce5d7935bc0e0eaf5117369f53', 'c4b0f7e524646916f7274660d617829d68681cb6', 'c4b5e968bdf4fa9d4f42cc4d54a155db08058c4c', 'c4bccc5a73a417581d3f6eec86299720e3fdd597', 'c4bcf00d005e6848a032d94f7fb212f499cdc1ba', 'c4c3e411ec1d4ed2ef694936940b09ef9990f671', 'c4c729a2b2e67e48f03012cc4d5a3453d09be40c', 'c4d269f3e73938add79ae029870cc395a41302c7', 'c4db08899f2ff9c754c4a8302a21ce7365f0b155', 'c4fadffc66cf5961d6baa49b1d6dc80072148e94', 'c5067818f89b69a0e7701d6d0f2f80e2bb3017c4', 'c5143f666a9ebaab8f8ceb72f18adbecf383fd90', 'c52c650431343b7a3f1e7d74cf4e404aa1e63745', 'c536dba45437a7aea0fb4600344c3b1bc644f26f', 'c537e1cbea96fc7a8a1f9ec3e07d751b5c933e1f', 'c54663dd2b08fe7517f634545093581b8175a924', 'c56bc708dce2117fe60481a15e99b695f5cfe864', 'c5844a364a41b49fa12d7356a275ad09a4566681', 'c5b62cd54ef14992db072289b844791189cbdbf8', 'c5c7548cba9970b695f1ade5164c11a0101eb00e', 'c5d42aa00afa6889de703c49f40ecb26b1c401c4', 'c5ebdd88fb947b8c8327e9af3c9cf2580669b73f', 'c5ef1f72c52de43647ef960e6a1e0c53ae37ef02', 'c5f011c025db722ad5a2a3fcaa70d7be28c670a6', 'c5f34be53547ae4bc2cabbb0b9bc66322d904ddb', 'c5f40b021c8c4c3964c042880c1c4304a1a6e2d1', 'c5f7493caed17699f50612837838cbd7ed13ba45', 'c62bdeede241e131238016590531529e9f1d9389', 'c632d21da985f3777ecc8600b81b4aa967005338', 'c640a5a3b8c420d4c82d9ec3d59bca56065c4033', 'c6417e0a3b46b85c7ae89d3bd4bd21c170cf1f8d', 'c671bd065e506ea3e3fdc56ab50a099d79f8ca0b', 'c678d82dceaf9377b75a407a623740d06d44af1b', 'c68d59ba24af0df3f2c0332c9b8927fb68149b77', 'c6a026f375fe300de8b69ec0ee9af898f376106e', 'c6a6013f215c49f9dfaa8e6ac4ef3486f83269f3', 'c6b365de9b5de9912f558eee9caac63782b01995', 'c6bb7f1933a8024e52f83e35335b31967108aeba', 'c6bea521f40054a91b26b5bd08ae9dd3cb038d93', 'c6c22c6807367a02bd5933141374efa64f621101', 'c6c57f27fed3cf897daa4f830a0e2a17e65ba77d', 'c6dcbbba15bd2c9e98108bc7e1a01b47df6baeee', 'c6e9e9dd73c0f14d1a0131deed325e1cf58c30a1', 'c6f1390db4c7cd56866bcd53849cf296bbd1acc2', 'c6fcdd70205883d5dbfd732272fb1ee17f75a62a', 'c70c756bbb70357332f7d66ec9f90d2c50859129', 'c710aca6be5812a5303c282b625924faf72f94dd', 'c713fc4c2c9e9076ce35fb33bba8e1d8b788f349', 'c7205abbf880359a5f105b6040c910ad2ff9dfb7', 'c737ec8c1b16ce8e39115f4432c9a7fc21ec47a1', 'c73b4a34bf8de8b70d2befef6d13886f11f1485f', 'c74f92651979d64bcfe5f1c3552651a7d8688358', 'c755f60f9f167fd1721787e9310bf4d1ddce7741', 'c7767c023f5cc56f1a14e6d924f0d8743b442cf9', 'c785ad34716777cfcc0d3a2e57808bedce163d91', 'c78aa603dd64a81573f6050edf759bbc43bf7776', 'c797b0a792aca886d363c80999e1a4436900ab90', 'c7aa1b636c4e4f8fd5dc9f0d222eddba203a1109', 'c7bf13b6d54e6469cd18e0b28493279836cfbc01', 'c7c0d5f450e93c6d8d30a28a7a11378a52aa9942', 'c7dd9e1f853f5fa5b64de6c348e4081cf57c9593', 'c7e49e7cfca2077573cda22cd28b05c193e7dd12', 'c7ecae8075543eafa7afd2e9668944f46badfd85', 'c7f82b9fd32aa365b0549a69e8f6e8288640ffd7', 'c8028b5ea960bcc52d6ae285a5df45214344a7f3', 'c805be0828a5321aa74ec285a394d9a02cc259f8', 'c8128cfbce999bfa566c6684d991092d45a7e5db', 'c819a19103a6c40a8840c9ce53f1f802704ee0ef', 'c82249683c71c0aa78a65ed45e1f05c90cc4af98', 'c834e4e2f3ba668cf59c33d6eb1af3e30806c643', 'c8596d2dd4b65c433d1334937c0b91e75788a46a', 'c87433cd0aa3927d9c9a1a578f4936145568657b', 'c880c57665a24122b39a4f9a611e3ecb525e5c79', 'c89deba92634cfa0a7d2e1b696b82d67f5282cd5', 'c8a0f65457c2590450aa556067fb88bb8d7c8587', 'c8c3cf552033ee6c864de8000b7670ea39aea773', 'c8f8a3f7aa2cc5539ccf8ec0e718c30e98140e91', 'c9238dfb9fb25e453c3b9166fdf85cb8d5cd7ff5', 'c92ce70253480abf9d3b2578cf2ce8a3676b094b', 'c933ea09c0685c92a8692d6c365ffe9af7970689', 'c950fd3ce86c221a0ff437d7a8bca34ecc08dab3', 'c96a8e2a24091554ecc3250236acaf8cc09ab188', 'c997e7c92edc4ff7610864d971f0f9a65c4a53e0', 'c9994a8139efcd587d0df268f578b89568e5de0d', 'c9aba1d2f4a9cbfd8db4c03c5b7f1f7ed0441e21', 'c9c71a65256bd89baa62a01c36b1bb93018b64e9', 'c9c7f22fc292b08f4a8dbb0f83b9f99762ab3dbe', 'c9f23806eafb019fbb63006a4524d10f6f28db60', 'c9f587112b85ba8d392b5ff38c61f97fb3c205a4', 'c9f6db3fd5534ac1767e57a4d082d38c5e29486a', 'ca138aa64ebb7592109ac65ae97fdb4a454c8d70', 'ca31fb8ff87b7fbefb3d49a58457a48c37d5d329', 'ca80fbb6d0deb3cae53763099e2cae7306f005ec', 'ca8a3a0c069c95c34168f0131a5243a405eef09d', 'ca8e34c6436de59c98fcc93ab386a2479549f2d7', 'caa19404694fdc4e831b10e589f1871a4406d40d', 'cab4842a83799caf347d8f6b71d2700b2a6e478d', 'cabce1b04f126b274123754e5928ee0989fb3989', 'caca8f3eadebf7a48fd3c387e7e4b4284162246b', 'cacc8b066c65267bf56b4f82097f0185f2f81e14', 'cae2405b368efc9a1747f3b380c969615f71ac49', 'cae32f1a1fe428bf5c82cbae28bb194fdae2ff25', 'caebe8635e750e45aae07fe514911b42ae4bae4a', 'caed80fe2d09a0fae6708fa5147b6272020d44d8', 'cafabfa47861193b7e5dbaae899715ec80eb85de', 'cb1a2953ca939209e26337a8d6d7c2716d6b4248', 'cb1a40385f9a89a7055f027a5373c766884532fd', 'cb1ae8f28939344d051f71a2a189ff7a3a2e3a6e', 'cb2d2df2bf610de651e23c315d4e5b252bc5afe2', 'cb35a1b6ae2508fe236d3dd056707bf112930999', 'cb35ac51cb8ff64d4bff36572ee2758941548b1f', 'cb46258e32ab652e35c455a393f928f290e72d77', 'cb72016a84e34c3657d30dd97a95bfb7f9b8d1fe', 'cb8ed62245335312d58c97c1d5c68b4cac682afd', 'cb921eb5aaea2161016c0842bff830bc051b0bb5', 'cbba5099139d9a3f4cfcfbf8ab3a3e80760c8423', 'cbc616e0466ef52ff85e137014bab2fed27b8abb', 'cbca20a45f83866e5c0a629d20d2c5f37d25390a', 'cbd65f46cd43312d8ebe43e44d1ddb35175b2c7c', 'cbe161a3d8767529b2ddba2ba1a205d4a2591b30', 'cbf471272db7a183cf596a4cb79aa27e7d72dda1', 'cc0ffb56aff5365d7f10d05174324a061c07f2e2', 'cc2dc14c7dac1037a3beed1c9094a6d710f3ee98', 'cc2dd3e3a289a65c534401ff639f48687e2c64fe', 'cc33f79e297508e9b747bf165e4665a23ca243a9', 'cc37b92d00deed06a71e0953a41a50dd53bc27ae', 'cc4ad74cd3dfbcbf109f5d8b7a41d1819d9ba67e', 'cc4cd282bb2d51049fd78a9ae44c10fa92d55847', 'cc55e399781439435a046bcb1a4c78dc2c7ec0f3', 'cc56893748c5e4b114848726fab41610f815d8e1', 'cc62e608a1a21353e1673817973235cde4116bad', 'cc737b71cd40703432b789527f7811fdc2beec8b', 'cc95e209e175b3fa420aaa97a2d4215524a85cda', 'cc9fc2eccf0d6fe78d1fb2b0c3ff924f54482169', 'cca610f249900d9bbba1dc3719b63d247b161623', 'ccadfb732665fd90d176fb101450603c28a00f8c', 'ccb8c9369432912be3267abeb2b9c622e213b86d', 'ccfa531bd73c0b71e75f9dea32984d6ea220ff6e', 'cd0381c3bff322fcb0a23b961d11ce97c317600a', 'cd4566f790e053cccf8448fe1d126f3c4ef2e996', 'cd6e6cebc8e1f0fcb43974f16a949363c19ac4d0', 'cd7baa603618c40b9290bd05112061afefdde8ef', 'cd95a26ac0baa51b6c07301809c134c56a3d69d5', 'cda46dc0585f2e8857db9e9ad43ad82a120d612f', 'cda932e90048c08751977691e858cfcd70b04e4e', 'cdac0cdc273f39420a710be0bf111711fc4f27eb', 'cdb1ff01c033ccc849dedaa484e2572244845198', 'cdbe1d285d49e38f7cbbb3791cc97d5958781ebc', 'cdc0e0fdac7a150c1f0ac8eda296e7625cc2decc', 'cdc20b1b40a7eb2503aaa522a306f88c130f5480', 'cdcd976fdc8ac6375a807dcaee28d36fe00b6118', 'cdd290321452c1554ec84aef79ae04df047a9eb1', 'cde5a1182dbfec125b819b06e780edbcca4955d0', 'cdfe7cc423982b3c51272e786dbbf76f7185a89d', 'ce09b952a7c446f80dcc53730053902451443d81', 'ce0a5b32c39436d7e1f2c4a84f899edbbb1e7b20', 'ce197c3a3ed589b15dbaa5be4a85fe014b53e37e', 'ce3c0b99a90f464b0d3146f2028ae254e0e2b527', 'ce3f730e441723fe6966d0764073e532a5f6d1ca', 'ce425a8cad2d9c3b8729391ce9201f3673503d5b', 'ce4e6988645faf5b7996a5454c9f0b0b7a540aff', 'ce6c042247126e6e8bb88f2bd9f2d3a057044da1', 'ce70f92246a0c18e98f823e4b1246cf7997e241a', 'ce87ae0c8777f209562f884c56cfc7f5fbd8aff2', 'cea5d4345acd83e823e7e02839521455045c29b6', 'cead707ad799177aa5d85ff4a360f9e668c17594', 'cead84a45b565cbada6007cdb7d24495f114980b', 'ceb1f88edafb10305f1a7bee553708fe3dc30b6b', 'cebf0b61b2dd8883359e3247979301d79a248c37', 'cedacf9603a3c6c4cd1fd869b4572232664a1fb2', 'cedc33e1560c8520901d42c9fac45fada19a73ef', 'cef5dcd522e97a868309316d4402058b615c6bf5', 'cf0b790f5d1e0a00968a6bf3558b3baa27fc195d', 'cf0f642e9e796ba3c47118687782426c5427efb5', 'cf19b8d9fa5da0809f0e25388c94acf4d545fa51', 'cf4e40ac9cca4c5536b4d4fb88febcd70d4cb71e', 'cf636856588f58c1ed1c243c37843dd71bb175b0', 'cf660884a37e2a785b8351ead589518981bef07c', 'cf7bd4b5b398b3e150cf262d79147312a69b96ac', 'cf88a99b629776549e9bce7f42ecd211ec3706e0', 'cfa569552564ec22e069a3c65d2efb50755ed21b', 'cfb465941b7f7b04734e1dba67bf54c34666ddb1', 'cfd0ab7460bfa01d4db572c91c04c75c45f8e478', 'cfe2597d65893dd89ca0d8395d11ef5a2cc4bd80', 'cfe44dc44ec4570047b61d1d5402589abec9e5da', 'cff43392f206e37f67bbe2927d2fa4d7af68814d', 'd0102edd5b49a0a88c5eefacf48cc6adca559596', 'd017da92c2d9f3ff0cab1abefa2f1d8fc8b18d80', 'd030ff953b1518f83d8ca31631a177ec1d6701e7', 'd0313b3660696857e2c16fc3b271c1e402c2fe36', 'd0353e3817732ffd9b0b57f3fc7ef050d55ba5e8', 'd04786f61048870addec1b13872793d891fa6978', 'd04ab4bc486392728c50593e0978f00ad192ae35', 'd074ce67dc504ddbe5570fabd8170902cd1ca523', 'd0f1d42c6f0f10daafd1fd9bb029a9c71a2e9cd2', 'd10a4fc33a707767eafe0499ad2678a79e658c7c', 'd11d53f1ebded8a07ed80d9c153ad862e168b0ff', 'd12f5b332e72332ede8164fd18bd2793bb3271ff', 'd1432e06f5da1d3aa971c418c7f517ef4802a483', 'd156f0dfff655d03e7b3aa9a9f15ae4c8492ae9b', 'd15ccfe31ab990bab923ff5ee4970b83a735055b', 'd1bacfd56e2665887ef8643106923ebce1d4c1e0', 'd1dc21bf4d140a1f98e193dc8ebbe19e7929be23', 'd1eaa50b41baf8cf4f21c1ea13a4615b31e9aaba', 'd1ef576b93e658f5fbfc2bb352321c427f05485f', 'd1f8b0b0ae4c99e215d3739bef8912285a54b578', 'd22720ccb9dfbc5e8b00752f8fd4727b94270444', 'd252d691c1ddc089f59e3b018d384720b8b0c6ad', 'd253ea7a210de16f723a165fd8525e8fc73f3939', 'd2628d074c5488b0000e3bddd06a8c4d052ca604', 'd2744d68fcb0b69f7d180b648ccf393344e7953a', 'd29bb87f85b862d33d51d98ea8466544318dd6c6', 'd2c60abad1084ae254002687c2d92d8e56fe945a', 'd2c8662dc418e50ab0fc8463bca58ff85ea99195', 'd2e65e5c9b2b62cb51aca13d44020e23ad2927ac', 'd2f7afe12fbd26fc2bed0039740fc6af579920c0', 'd305e8d98cf77ce3b90c69580dd3fc38e86fee93', 'd31161da4ece1468da84c933a3f3a8af7ef4ef0a', 'd3284cec0f3d1f36f44e73c0e834d657ca39b61a', 'd32e80413f6ff8409e3376c1db6cd3c6398447a8', 'd33cda518d1d2191ed75b4560da852771893958f', 'd35b0732c847a16b8a58beed5180e3287061b439', 'd35ca782315a69bd2192337eea840d8ab252ffbb', 'd3603accdfbc59f5e5c8d32dd3b3f45788756168', 'd370ea8c8bf4d08c34214abb7f17e482c2b774d4', 'd391806e2df90f081f3feb04c5058d778e313d70', 'd39c5bc18e59d7976786cafaec11785c8fe54b9f', 'd3a5f14df4ab3d420c1457e3824661f5020f87c9', 'd3caf17505d2751ace5107201e3e070413a7477e', 'd3d1a42ae9889e9a4b0d0d8a484e62eb5cd5f7be', 'd3e4b22623eff38ca0cd2af3d6ea2c3f5f2808dd', 'd3ed03c249e90d0f2c578508169e4ababf9aa62f', 'd3fd2adbac66ca7e7527b563fde09d0b3a5546d9', 'd410ef7af76c35f1e84746d8c4467293ecda3cc4', 'd42219c5e099ffe381a114b6f5d7648d5265fec9', 'd42927e8f8ed9c54cf447ee31a7a937410e48ec7', 'd43fc58752f026e294cb41ea22da787b788495fb', 'd45016e370290ed7fa9fd9cd9e68747002bc0f07', 'd463373940530414e6f3dbfa95f694fd8dd2d2f7', 'd464f2017d914cbaf172b98c9dcef4d8f78c9c75', 'd4695c9dd787fe390af0dd839af95447a6f33c43', 'd47a67a9bd4ea1776543005da603174a1a3e8bee', 'd4c1d27f467e2370c6ac92a57978776e9fc2d974', 'd4c7c737420c2b5b5199ef5e9f4cbc61d98b4d41', 'd4c9f015332918148fec230331d50e34d3c4c27b', 'd4ce1bb73ecdef83b193099f3481d4f4510b9185', 'd4fea6c72fe5b3c72b5483d532d97a482f250ea0', 'd504ec6fef9b479a1cd3d93116e53df41f991465', 'd50cb3e15acc02bb63e5b33690c91388c5472fd0', 'd521d6f5f6bec4f64521a2605bdcaede4191d1b8', 'd52c10ad7aace874ee5b57cf5f55e82d6d983cd7', 'd54a8a0b993841db5180018f61434a7b481830c0', 'd5544a64fcee771bb0ffcd17f88dad894b12a43b', 'd5610ed1efe4fe8477780804d76623874b682cde', 'd5618c6813c7a067646edcf9c7243ccb95919460', 'd56384a1edc60179d9f3a7df752ebf455f743825', 'd56b6013423ae3f2ad3f676624cf5e9df6a02c32', 'd577e6dcf795b2b1ead406fa2192ee0d6795732c', 'd5817e8f23a8b27ec458e2178b0fc1eaad9bfa33', 'd59d7ef8102d02b81053ebde83d92be6e9daf6ee', 'd5c5ceb7d1236f7476d6fc006c52cdc517343247', 'd5e305ec8a0f693b230563898d46f5541868f804', 'd605b7fe1645e05ff094b364b603456ce8126643', 'd60a10f2c8eb27195ad4c0fd2e928d4233707576', 'd62b85f681dd1ddf565de9651f2137c625b09954', 'd63625f7785f3dc842ad2b7ad5c2500e5e7d41e8', 'd63ab7dfb4913bacdd8d771216074d8cb3e887fd', 'd63f1b24288cc1d36979536579a8676710de1bfe', 'd64d7078b3d9c45a72a80380f4e3465d5fb1f8df', 'd64fb48cf9daebf3b2229e52179e18d20642c914', 'd6589314c0a9bcbca4fee0c93b14bc402363afea', 'd66f2f66f2bdc9aa3d0362a35fc91ccc844101f7', 'd676936ac6a2bb28ff7483f93b790c52803ae9cd', 'd6827addbd8d67274d7890f7d69db7d6c0302bf1', 'd68f41eadbbc26f23dc057aa09e951605e7627b3', 'd6900cd6736aaa775227b273a994c8411c1e87da', 'd6970056942663f9151763b8b88ab211c31612d5', 'd6c990812a8e346e21ff899ee8bdb581f986561e', 'd6ec9be6ae18211bc16a71db52e5670d308225c8', 'd6f3d9e2b45abaf2211b2842ae4b162138cc84cf', 'd72f204b40a614b01a3791a6d9d4357101db8c8b', 'd7416d0a01131b8bcbf4a4c1de7719361b95d7c4', 'd743fbbea273667ec04b2fdc6e18a182e883aa3e', 'd7607f38a86904415c30dd2faee4448958891838', 'd76af847c9eb43a672da358e2d6d6f1850bf72c7', 'd775b2f1e62284a3ff407b91fe53d08525f6f086', 'd77a3c4814f168a13117a94c1a84ddfc4596b1fe', 'd77daa92827459fa97f320304deec875e2b7b2ad', 'd78ac5a502737fc0da12fe564b14654f58d87466', 'd7ab7c5811fbd29af8f750cc79cf43e95ab3a38d', 'd7ae9d829e6f13adb32c6f051eccc7a52bcd1378', 'd7aee8d821832f3111f27477730736b13c7f8a1a', 'd7b27d0d20cf5eef23296fcf5ba2645dcad89d78', 'd7e6ab744d00ab6dc2b1d53ff513b8137aeb45e3', 'd7f41adfaaa9ce6178371a8172c259775cfb82aa', 'd7f7ead05fa700cc195dba2a5aa3e47cadcac4b0', 'd80dc659cdf70e580951d86871c7ff2f23a1babc', 'd80de302eedc361a52adc6563bd2c76bc13db151', 'd82e472a3802e66f84cbe6a774b71b070caadff1', 'd8345526108aabcc37d7c0cf706b616532435199', 'd838e97500dfcef25dc123ce501e2da0e6c361bb', 'd8398c5a9a7d8a7bf1c05b8797b2e758211df137', 'd84f05c8b5f6da996d09aa5c66bd1ea124a017a2', 'd850d0eb37c90fc5ed06a2ac8a052e76c5184f14', 'd851494ed405f2f309d6b60c41a62d45a0e6041b', 'd85d4b1d80db62cef8ebd259640573acf9691295', 'd86c00f7515430c61873350ae9cfa5a7e130320a', 'd87c7ce35692ccc8d1a4567ea9f4869c6f075f8c', 'd87f77ec7f81204fc1bcf2954019f0588fb04970', 'd887b1ef4f4fc8b2ad2f298d0bd2a52decfb3520', 'd8addf23460e6a4906b2a3ab69aeb77d1d01f0a8', 'd8b5bc33d47d2dcfacfbcb48e8a74df8644ebc21', 'd8c1ab5fcf5aaa2e8c6f2e099b79fea2234b69b9', 'd8cf86a2dd6406c0ca5e02d43982c82402fea60b', 'd8d1c00f6e19e00b84b9a271b6e0f300d7f2e2e1', 'd8d9462ee1161b006f94c688bf00e216a6c19ab9', 'd8df72fc0d892328e92a8e7129805da4f14d65f9', 'd9256ad2748cfe6c894f4700a3b0a900ab494976', 'd93a25bf85c3ba69973f5544e10735581f12f9eb', 'd957c79dba48967a6d10d60180b540e94c4eafb8', 'd960957c59aeceda6e990bbbb406cd3359be4b9b', 'd96a42d234fef2782d27ab65c3e598ed35db7331', 'd972b652bae154ce6d563648c88bd7eb9e7bf06c', 'd97ffc1dd7e6f4983640833ce1b321e30ec015a5', 'd9895d4897d06b3b8edee20e82133768a1b1869a', 'd9a3fd9f642af6f581036e76893bd0f7238c2335', 'd9b64b85589775e7aa0ac5fbb7fbf255f8792b4b', 'd9ed71bcb7bfad24ec14801a284dd080ebdfd0a8', 'd9f1290b068e09c6516cdfe115277cf24c3ae293', 'd9f2ea75b38f548535caee41d2c0b0e3f9859b1b', 'd9fdca96c2e8c5f7b5d14d38ab31fcc8e9d32df6', 'da1d2b50af757cebaed5e9929f507cdcc602c0b1', 'da3752e8cc04d3b335d4d1149df799fbd47237c2', 'da409490e6bbdf4985bb612a130b67b310e7eecf', 'da550aade5ca599a2fea2676b86d5adbd1ee8038', 'da6555cc08ed0a47f54f3522079a47656aee2eea', 'da6726b000c237a9f86560b87b9ad2949df003c1', 'da681f423e8574d2581534fd138eae264dea0f5c', 'daa5adb5500f64ea92b9b4794926af988b13fc8d', 'daa6dd8eed1a894f2dcbb600c7121d030516d0de', 'daaeff26385c27bc341d51ae0a290b4a829d6471', 'dac5be7d4c4586ef04dfbf52eb8fea9a6b8ad1b6', 'dac821fa75a40a9c1dd845864b120cda076f3813', 'dacf31eaf1c34f6ddc73a9d9413105339bad73ff', 'dad35ef0fbcc632ad3ef9df1cb7e2af831b30513', 'dae4b0383ddaf95871a4fdde6e521bdaa6668143', 'daebcdcf97caaf54a327b8ff52eca9f320599a10', 'db14de828ddc50e1be49e6113329583f5918ebf3', 'db29676e39c649720cc8256b0201ef923f9f8e02', 'db2e94a18c9848feabfec8b59908d312c4ff3524', 'db3a17db7eb306d986a13762abc118d7a508af19', 'db3ce83a853d8185d34e02c1dc817d7989475b88', 'db6cf6071384775eb00eabca59b39eee75de2079', 'dbaeb6e358f6a738c693f3e26023fde4bd0fd939', 'dbc3cacfd684810cbb5bf78d6b8eeb944e3b5980', 'dbcd751c4295792ab5108470ad1ddbb32f594a88', 'dbfba347d43a6eb2ee3452ffaeec44b5bdb9f799', 'dc022883cea1d7bb72a0e064278f2e2c4722274b', 'dc0d5d2428766456bb946915d400c718d1344363', 'dc177bc6f5aff56dd1a3014a97c6418eb2843042', 'dc1a4572bcb4e54532db50fc7571455ad06ccb04', 'dc1bb32ac24d1d2d46e608755c7ec3c9222b1b5c', 'dc20d1116f083d39d3035e13e266b45d72f9a627', 'dc28a894cfec1eba07b35b143d6c999fc7cf8e0f', 'dc4003eff244c89ab0f31bfaa0f83d7ff3b52d05', 'dc508ecb2eecc0a034047121fda1e1a8befa8044', 'dc628dd919d3e6b6fe7054eb1f439bc9c84d6de9', 'dc777dbe9ced6ddb5b813e7e0bbb718171b87870', 'dc7a0bb89d69e71780c33a9bf9084284fc294209', 'dc8698d9af5b946b1ece429915adc5d6b67847ad', 'dc88b77c463f5ee6017ea1ddfbf96b0bd9721ff8', 'dca81212def07d0916d0ce461acfc7be80e56de8', 'dccd71011cc947897140130227f0f563f827376f', 'dd33b9dd52a7b69c4e1fe9f747792a94f92a2ca7', 'dd59191083008d2ab1fdae39262bd6d8d8a89c7d', 'dd67a78d5f9d8140a0d83849441ca1807f7ea790', 'dd7349a9e017c5ac51cb1cc97dd8a9ad057566b5', 'dd84dbea42648fbf8989b3c1a0ee0169c06de9be', 'dd88ea94f605a63d9fc37a214127e3f00e85e42d', 'dd9e6924235d74c8d74f266d13a48844bc2afbe8', 'dd9fc4c46af43696cb8bdda1de3c6e4908f3872a', 'ddaa39a48219f4d6d36fdf9b8771185968632c15', 'ddd0a7db706be9dafdce495d2fc2b8f0971054c8', 'ddd1dad4912ed6d279967264543bbc1fb23ee40f', 'ddd4fe98c55187b75bbcc3488cd485a27cb26099', 'dde4fa01de271d51a4a5617ae79820cee7d26d96', 'de150bdea7c545f0654e05d9f1a1684c5e2b13e1', 'de1753ada83f0228a605ac120c404250e7aec5be', 'de1bdf48d0e147a7aa5f3862a972ef4ff78f59fa', 'de3ca97231209ac0ab07ca7de0bebea83c8b18ad', 'de4b6bc067e53e24a479ce0672a11af971c31c08', 'de4cec62bfb6a7be09ba1123bf03c315377be7fd', 'de5196164330c7811629893f4b5be3ccbcec392c', 'de6b0380b1f61f8697dc59bdfad8928f7b314ade', 'de6ee406c254ca36977adf23f16287d5542270ae', 'de94198175aeadef534c4584691817d154cb9d41', 'dea7e884b8301229a884d22419f194ae61b4d364', 'dea84c54ba5cb1be67a56debdc3d84c4b06ffc5b', 'deacadf4fa3fc03cc446350f9a2736dd4c01c6d1', 'debd7b5a906c947738a5b9f0c899709817643301', 'debf43709af2cc2547212b558cc78a021f0db90d', 'dec2203476efda444d8e885c26ed34af8f95472a', 'df11d943f84a1411f3bc7390377a2420cd473e15', 'df143479bd1ee4562986c0ff0c2bf7796c1b4277', 'df4c7bf431e399dcb00c54c78433a92712448954', 'df576258e114403b482a2f27f2c5619df4c27a74', 'df5bffbd6925324000001be24e7b272ceadcd926', 'df686c0043a739af7538914ebf43fc750c9178d2', 'df70bb52d540f00dfa6ee260e3ab35f28571001f', 'df7559a12676263dad3af310d99dccc15e382a72', 'df8c7f49da9f70c84fbc5da1e925cd0e98811b71', 'df943225ea1c6f5a872780a4417fdbdbbbe5bec5', 'dfaa338230f32c02ca6303a44f247d647522d629', 'dfb41c400ed8fbb064644d173f8fd00398ca4370', 'dfb9eb438c240e66edb8b5e6c713fa9672dfb932', 'dfc6f0e512bffc6ca56c7eea7734ea1f131f8c74', 'e0023778aad1245ededb942dea5e833d8dec489b', 'e006b1a48f466bf59feefed32bec6494495a4436', 'e02b4960c3c99675aa1a76553697ec5af94497d3', 'e0355e3d283e6ea57efe67aedf0110524287459b', 'e0388a836f13f4c1f8aa600ae61625f087f40353', 'e05f5b1dba3eece71df341b2b9160cf2e84bda39', 'e06dde2926539e49b378ee3d2484923bc4d0df8e', 'e06fdac28cdd1d69d89de27868d5f02f71c2ee44', 'e07a79f2d3e0db17991f6eb8d5a3314e22795748', 'e07efe4363bf3e68f9d9ef5bb9d177b5bd3e3319', 'e08259367b91f9d707d17eb2de21ed79d18301ba', 'e09bbc3effe508ed043225446ded8a9387185752', 'e0a77336971038c17891b9013a9ae5b9e40c1872', 'e0ba63d24318d364ddf410f48895da83f76c5855', 'e0e63fae655df23ed7e89ec0a7e70106af7bbb45', 'e0eeff31c4975103c873b118626fd94bd90564f5', 'e0f31e1222913901ad649b3ef52f8b43f582fa5b', 'e0fa06fa071379fadc1ab5724de114a8e14d2df7', 'e10595a629733c6daa09a5a16cf4fe2a7872fd1a', 'e11a55c8eecae195a596ca208ce69d2eb550689f', 'e12db024c6726a062bbdf455522b73ae260451b9', 'e12ff6d809877f9158135ef7c3b48eb28c5174bd', 'e146324d6c8639afbc6c671ee8a819f971df6d35', 'e14d8a8331936c6890b2b78ed30ef13a4a785f52', 'e188d62ef6d2b08254688fd2b43e3d9160ba9dce', 'e188e309e19e0847a05156d6efecc04e4bff4fc7', 'e1960e40c918f5e1540ebfbde21c793f5855ba9c', 'e19e1bc567f9bb2fcf98b70701657158242c5c6e', 'e1a6b2d7c6a5879ebf29a0979a7e56597517161a', 'e1b78a5a078389eb3149b06b76d67a4a3b1a63b1', 'e1c1e4842626c37c37093cd8b862b2ae47f68007', 'e1c98c3a05d6f8ed0838487baefa0c13add212f6', 'e1d1f6bd9500087b1f77d0d47a12f4740aed6f58', 'e1d49c085c2eed9fc61cd522ebf0ae52bcadba52', 'e1e1876c2c3ba41de1c07df504d35420ea1e4382', 'e1e8964fab0fb36d25972a0f8a736fc8216da8ad', 'e211446264b3ec26f4cedf03e3b7337bc9b93607', 'e212d7cd443333e959943341c9bb7c3bc9e2ab5e', 'e21477efb83bd323205ce6f5bd662f3df9d477e5', 'e21a00dd1bef2412cce628a1d21ffce0929a4ab2', 'e22fcdc5244cb450ca181d72f293229b5e02249c', 'e2477e1673b39de544f2d596eded92bb34469bf8', 'e24a3bbe428ff76ea5060aab9e901a4391065cb3', 'e26321d2b54c42847e74951553364c6cbb7f1bf3', 'e2a2b9802a28565f89fdc3202418f8dcc9380750', 'e2ab3d64f84052226d05c89c4fff779a52bff97f', 'e2d38dcec260864c3826dfd87cd4d80b4f73de93', 'e2f4c0d8b5b7e50c31931300e9339943fc0cca99', 'e2f4d01b8fc576adb490d07cde3573ff598a2fb5', 'e309de907018aec0eca310813dff3b0117b71a34', 'e313ab2e4943b6ccd29827ce67a29c4b801b6a7e', 'e3197fee41e7efb8ad6266296b942691a2aa3b90', 'e33b75e136815304ddd2f13117b1e9a0cd3f34c5', 'e34ea6717d38441ee9a8d0ad32fa042b2446f1e3', 'e353c0ac4af2eb35c9089f9e3aaf929c67ac29d4', 'e357ccc252a333e07f06f91d8fc910037e4ef6e9', 'e3745a46807c4fcb0611a3494b60b91a7988988a', 'e376b24d90c39bdc1eb4b184b0e1374f2c112801', 'e37b25759f684ed76a8d7400814ecbcdb5c1df41', 'e3937c7c32f5b68422808a854a4a7a824ee448a5', 'e39c7a2722b761784646b4d4af98853a1b50f076', 'e3a2f086dcd44530c14a4bedba53777b1dc467a3', 'e3e9de8f712b435cdbe4e767ac2c414f585400f1', 'e3f89f9579f506d6f77c21c298868c97be59e6ef', 'e404f8559272c3a2a1ec70a5c36b8ec41c3306ec', 'e40d98e87d8ccdfd0de665da4d03c837687201c2', 'e411680ef3a5b8687021755536c045c0032ec1e8', 'e41f8b4e1df4652f26d564862c069b23b1de8c89', 'e42183f2554f5aab8ed69955885c06dbc1991879', 'e427f647c231c1bde8881eca5b2f5db9b3bcb2b4', 'e44e33863ee416153f4d4477d04ec8351e2fc4e1', 'e4557156607247f20d95e659e4ce7846b590252c', 'e4804b37a1262f591e8565164d0ec1c294fa9f4c', 'e48d9f6a9b84402fff251ace4132df353833a023', 'e492ef91f879cd1575ab61e2dc5baa84099c1a55', 'e4aeb961d1cd7605eaf5feb23208cf34bbb12bde', 'e4b02864403d483586cd9c8ed6b9bfae56fe8bc1', 'e4b88dd83fc6b53da5644a9a93d477ee76288d22', 'e4c05157f8cebdf3b9d689c441ba97c5ed5db05b', 'e4c7ce3f9574be815ad8245c5106c0d5de0a3c57', 'e4d4e50c99ed5b3dfe740fa1ccbe6be41eeb4f35', 'e4dbd59ded8b4747ba5145110dd2704707199582', 'e4e99e5b3223bec258cf2ff0d090d05a06302344', 'e4e9a4a7990c6f270eccbe5cd727842a51302d87', 'e50058d80752fe47f2567bc2b40743beae9b351d', 'e507a8acd03bbd1f6c2088bd70a0ab2ffb277cd7', 'e50f9451fcc57369d70f81171abba5af1d2b025f', 'e512dfde932828d47f7ccaf2380fdc985e059e57', 'e51bbbd28659be4018f7640978adfbd96dd2e9f8', 'e52d5c258f0de672e63000fac20624d48bc0ed81', 'e53116e1ce4a3d5ffd333e343685a59cfe6bc380', 'e54d4dacaa0015f96e0c928f12755394c9163c25', 'e5708059b8c111cca16fb7fe30fa2a93f585c1d7', 'e5898a90a5efd2489a68052020f9ee2e1bf6e9d2', 'e5a70dc3270e08ee11ab1325297eccb3158ce383', 'e5b3fb84605d5b6df927cbeaa1dce013fb672542', 'e5b7104ee26c4af71ee276f9b876d133674e300a', 'e605e2279af4c992aa2dccfc7c6bbbd80b157a46', 'e61ced632f8c40ec1842d0833e8ac0ffb9a9e934', 'e620872b814a220aa73003cc82cdc96048fe2d51', 'e63051684b17e6ac91aa4dc82036950231b2e630', 'e633a91eeed83963409453af82f9a592783b925e', 'e650560e32a653d80da3f8d0780ed5cc0fa88426', 'e6611ac800fff55c0981efa67bfb15b66cc4b391', 'e6643f0eaf7a52c797278a9d3a13751e815ffc15', 'e664770eaa52c11eeffa58b3305878db41069383', 'e669b5c14b8387df07223579ebc48de3071a1631', 'e690c2bca8a698e8f1a4b1352564b815e3c6e363', 'e694b59115533c5349ebb37305e997384b29ece1', 'e697482f81854fc35fb457a01755164be20d40f5', 'e697f7b095a4f7cd83f00575741cf5d1a1850b37', 'e6b4dbf8e48346fbfd233fa96cdf5daee25ae77c', 'e6b5a0534638413ee0ad223c1f8c10ea1423f891', 'e6fbcdd689ac0e85992536933f1f86503310447f', 'e701a24d9b6c59f5ac37ab28462ca82470e27cfb', 'e710013b3da71952c51f44628e90699c5b1f0732', 'e727993ce840bfd03759953d4ae12fd92fc79aee', 'e7429963f94d4ff24f336debd835e8d8883e7528', 'e75d2f023ea6ad48eab8d168e577b2eb3d6e790f', 'e7810053fb3c0098348500c4dff13502b3872ae1', 'e7843db6fb21375482ee11f61c737b12fc63ec95', 'e7939b65da3282b2552617dcef34d11a93744df9', 'e7ca35216456d385579983cd590d238b6e75da81', 'e7f9a471712151d09686cba67f00cbfb4d140c6d', 'e830ac5423872b4e105838f0441f9c3fce8334dc', 'e83f387754c00b55e9f405c21761a4b7bdb49210', 'e841444da6f6de43a938092b007df0dbcfb96dbf', 'e859ed1b50bc1fd3a0fe3979bec8a633dfbfe344', 'e8612acfb1572297ea0eaaa1f27927d55fdcec65', 'e87a8f8779812a371c5165c12ca76c13612104f2', 'e891a5227596fb5f79b1d9f9e0531190187846d2', 'e8acbd8ec83059a284a9869e968bda0a1c75cb1d', 'e8b675f876f0195efae2825d4b8e4dbe2557bd6a', 'e8e8fda1705d4366eb47efd2ffc4f03af905d962', 'e8ebf671cf99a8dc0b2301a36d3207004777c636', 'e8ec98d61e591f018d682e7a9824c037f9dbd2f2', 'e8f72e335b6f869d9f27567cdeba786b8fc64999', 'e8fc7111df017488a7c6630dc0bab52931cab644', 'e92f221a8a82d0d759a7a597c0dc80783a296696', 'e934f5a246024dea38ed8067da83d50a67683e7a', 'e94a77d571cf892488dc8186adaf8dc746f31966', 'e9557c672abad617da359d0606c5a20b9f3f56d6', 'e96e052152a7e29bcfd4b841859c66249f280303', 'e971afc629695329f6d861eca2100fc8e4d32c9a', 'e9870c5d36cd50fe8b513df5de6e1dc0e4c6f37c', 'e99c38931408fcad7f16d55e9d128b37dcbdc70f', 'e9a234c51b33f2f0e466dba1b5f79050d0666b82', 'e9b86ca8cd62f072419112174f1a9427dd40aed7', 'e9ba347d6bcf96d76cdc4338f7202d73ee94eaf2', 'e9c89483094fdaba9fcbd11c7f3d46189840ea93', 'e9c8e2b8727310a58a877386d5441ae151d811f2', 'e9e002fa1a62c15f1c7b367cd5804f694c790809', 'e9f252580b29dfa196bdcc3018f2a6c613f163e4', 'e9fd0bd8d99e77d97e8666cc6d065c1954040ddf', 'ea07020bb223c733ccc55aa925ebcc25c4d97377', 'ea09a8d9a3a41dff966619fda3891d6b705ab0f7', 'ea3b77e3f9b5688dc3998b2e706ea2c0ca48b8eb', 'ea4996c283bc5306c0c55181815107218cd21df3', 'ea4ad3fbdcb228567ef70a1ae9a7b0a5a3432e24', 'ea64089417bbd017f791834d81c0327adfa6b4f9', 'ea64e003562d2f0f39e5a7dd84af5b1969e0fea3', 'ea6cbdb88a3bead8ace9c163d8e8eca78e374a19', 'ea824b9b2e5c9fd5916b1936f57ecb15899c9281', 'ea9cfd74837e1752df351ad5356f295919c8d50f', 'ea9e916140454964041979c77e40b9c24ad189d2', 'eadc14ceb04c4b39f2385acc6401d3c492175196', 'eaee256fd3b390aa05636298aab946489567d4e7', 'eaf12e21f78c6fce50971c6bf85e87356d4ddf6c', 'eb13e6fdbd72a40f20efe1443c2879b100fc704f', 'eb1ad31d040406c6428c5f4420b0bc709b1c5350', 'eb42f1ba4e42596e70512a61c414ff84f50301b7', 'eb671bc38ee5d5d13b815fef98f1e9de44580c45', 'eb78cc7907c80266eede622da13510fc5123ae7d', 'eb797b4fbc00b52bd283a5b5ea1d2078434d087c', 'eb7e19974c5321dbf6f8c9c9c61f52db4681bd29', 'eb825d712cf3f21660a02f854b24c603b621fc23', 'eb9bd44687aa837d922281ae06b8b6ac46d3a07b', 'eb9d84c10ac4bffeb383a3a7c2d5207c93da4a84', 'eb9fad0ce8da7f37fc174b05361ec5c48012e491', 'ebacfcb5fa29a601f596b2d1076d7973177737e1', 'ebb3d26d2662c42f6304f883c150ebdb2fb05042', 'ebbd489317f0bbe96533089e0c178609d773b0eb', 'ebd315aebb386a5679cd2fbc3f010d98e881a865', 'ebe79723c8f8dd3c305e71caaf5e7cf27e9147d3', 'ebf60883ab4418a8506aa6d6bd08c68f3c88dd47', 'ec0bb33707cdc61a6999b41585a0e1f39d0ae6d3', 'ec11cf24bab656af21c36733eb05526ed31bd662', 'ec1e5cff98929e10cd8f9c70a94ccb2001c31ce6', 'ec25e3d78ea8374869a772dc58bb903528a3c9cc', 'ec3efdb4c21f62e820226ba7c3c5b2709b40df3f', 'ec440710a19321c255966e8d7dcba4183aaf5e9d', 'ec4a19468fdf160472fe9d9959cc094189434e79', 'ec52a863cc6e439053009f5112aae481a976330e', 'ec600cea8242421556902505fdfc91ce5fbe081a', 'ec6061e55a8307d9357c60d814c7a384d5fff84d', 'ec675b491282e299619a0aabe7d783f1da87ac96', 'ec6c0cc39f69f203a7b2ad930192e3443381ad8a', 'ec9178fe7848107d2bdf4222ada960fe4db5730c', 'eca2ee75f56a95ee3bb56742e837d4a3750c27db', 'ece1d2a3b98529ae577218976417f5861d9e11e1', 'ece3400d6f694f08b8fb02a608cb5e55b9205cab', 'ed05b94f42a17b0a6d6fcc5a19a836b9999c1758', 'ed0f4979ffddc0010244638a3b956510624dc6a9', 'ed2cfcf57db84dce5d1187193943c2feddeb06e1', 'ed2eae0066e30f3e74786aa4746a9093aadfa6f2', 'ed3664f9cd689031fe4d0ed6c66503bdc3ad7cb6', 'ed3be4ef883a2a7abeb2342527a55c709b780a1b', 'ed47f535147603af331f47bca5e4821f052f8cee', 'ed7110f943d63aff393d7130604c410f3f50d8fb', 'ed789db32c9ccb59fb75e04a2b923b0f4777ae07', 'ed7d4c476013b1c3dd91982b61494bf7436083ba', 'ed8e6cc71e2d9b908b191a05d44be5fdb4c797d7', 'ed9429fc1f80b5911722c6a562b38ca0d020f20e', 'eda12b54342243175dba3db83f66eade127d2b4e', 'edc4e3b50cb4f23282a157edc7ca7cf09afcc093', 'edc8b7b1fd592a3b69c3d823a742e1a064abec95', 'ede04ab775b8b0ea9c565a461d9b66804ab14376', 'ede42e32421a893db98e4748d18d33283454b155', 'edebf1c44ccf80269c3e8857f1910e19a24c2ead', 'edeff98d403c71c75bf5e479a461201ff31effee', 'ee03697dfdf668a9cd19a44a6f257b9d6a1dc60a', 'ee2c375ee45ea130448542baf6164eb15677b35a', 'ee36b9df2704cbd4d3d969dfbe97d68883be5143', 'ee535929a577b71ba77589eb65735dcb2c7f3bb6', 'ee5e6de7d90730fbb624b3b36b4eb9caa1d2c74b', 'ee6936a4d513142bd00d475dd3d3e6b08b88652f', 'ee6a0f2bd16cec870d6d53b80249d63ced7036c1', 'ee8c9fb4f14b35c28694ebda48597d2e37d508be', 'eea9b25dee0bda3755210a93f0d3d9fa4b9e8253', 'eeabb66b89701fc8a340c329cec6046e42228e20', 'eebe2eeb0f1b3dffe4de30b67d7589f66edafbf6', 'eecbf5d20eb16b686f216c211c112521756bbe37', 'eee784e83a8e64113d416f82f6a5cac60fc92e2e', 'eef1a39ec8e9dc1f6628bae310e9d1310ed588d4', 'ef2ddac78ec79677fd0b3777d1d7d6d073bb318a', 'ef2ee9d49628a174ee4f48e6c4df971915679709', 'ef60f1da62dd1d05ae22e2990907b167c3171389', 'ef66e218afd38349a53a8e06f4f895a31a189c8d', 'ef6e2a34404c02058d1051b5a63f652c7fbde8aa', 'ef6e46d7c76b881fbbc5b79d160d7266b45d5ef6', 'ef8506d8a59e005b739694334cd77d92ddfefe89', 'ef8d388b6d3c2135c6efaef8da073d385678e797', 'efb09b0ed8e2ea6ed00219b3582db18028273a83', 'efba886ea1e28500650f08cb72eeae93a6eef5f8', 'efe76f089a352c77dc67109b4f980d300281a81a', 'eff0ebc7e1c543968fb9ffd533f879e4943a9e20', 'f00f83927e9e39cf1c1e318d5391a697523eef22', 'f0117aaaa329925350271431c324f4cf0468bb0c', 'f015075eb9b3cbdd629ecb23186491d551092107', 'f02b5b858c203cada3e1980cd5e0db711a4e8aba', 'f033b12bbe669f505329c7336becc45f01cee2e7', 'f0380548d7ee89ba9a11d2548ec6df242600ccc5', 'f044fe9019d33160bec9e3a7e524250ddd1a31fa', 'f054eb187bc1481290cf3850b3ea1af752d9f6f2', 'f0624acb45c275ad96f56c7a50467c3c210dd0e3', 'f0671cdd2c433eaa6e9ae860be2227f240f33b5b', 'f0880abd5f21692995bfc4e1958a8b7b6d3aca1c', 'f0adf73d62574718f4967efab1ea927d14f17209', 'f0ae6637d7195946305607205daab33f1d314957', 'f0c186575b271f43a16ff2325657b4377c72559d', 'f0cd8df775b33e171e2f1f5454338e2f82feaa89', 'f0e549312b6a25b8ceecbce10786c733b9509591', 'f0f3a04d889e7315b3a05a089752d1fa4c6d6149', 'f10e613636ee8e1f4d3a7f2b21ca9cd36d2e9d8d', 'f111e928e47db550c75c42c8a41e80948b23a095', 'f1471722827e7707d4fbf25ab7b009f5183407ff', 'f155a0e4df907d25400e5e302e3cc3ff6e8d6f04', 'f16e9bab54f30b3c7229fbb112f395ee3926c7b7', 'f177d3ecad269ee47d3c9704ab62c92ad7fcbd4d', 'f17b1b6f0e2dd48d2d0ffde4db7c5b385b8ec253', 'f1881a98a7a1fe9a0840076f2e46b7517977b127', 'f193dd1a1539a00a119aad26b08c586df3637d4e', 'f19c721818181ba3cbb10b4aa0e36d651931236c', 'f19cb05d07f49be3c87564917a15b36e4424402d', 'f1a84a7bb2f1c847a40b4def4bf566c6b8d7c08a', 'f1a94c1fdb88bbed8cbf26f0c6e039783fefacba', 'f1c260d7d1c7403360f4341fa32b78371993f69b', 'f1d0003179b09f05ce9b98e92f3bb10e33ab409d', 'f1e19e8c93d56bbeb50ded2ab9ed0524eb8eafed', 'f1e436e096be0b4d11cfbb4d33345efeae724552', 'f213efd9f73578fb7eb2cb7845b3155d8d1dc3c8', 'f226686bbf575ad4c335b50ada750b75841530f1', 'f282bddf48d328e7d1cc8d8a429cef9db7425088', 'f28f980d8842ebfaa31e8fb3939aace4a43a18ec', 'f2a06b7a307b1f80107a8e90a4520f43e1c24f02', 'f2a3e974ba7529d202465545da0e0bf29b18b0d3', 'f2b5430cff26f0c9a158d9527989bde91a0f4cf6', 'f2c996ed4f851fcb2e83aa244ca9b8c34e45a026', 'f2d1eeb7701452fbc019366b6b103f723db86cc7', 'f2f2a0601f1b548e20787c932d9675ec9fd1b854', 'f2f989657ae61762c12a27bb09051aa32a9cb133', 'f302d58c786bb71ca57c00c3dee8aa6a1fb76a71', 'f30c3b5cf1ac6bef152d9275dda506888e508a9f', 'f31ee386d01c93aaae7e32b297ede25bbd434da7', 'f31f1f63142568ebb643ec6fb172b4d9e0c9e7ad', 'f322f52c68040c701a1ed26524a03d6155a0b128', 'f32b982a314ae63301f06d87b2f1a3f69cc6894b', 'f344f1ce985bf7fe9ee26e5ed69a73981ee190bd', 'f358b45c7b8d3875173dbb74dc9e3297d05063b9', 'f36765441eb1964963cc8b3fed6deb72528fd021', 'f37aea6dddf3aada98fa4e055f58dae136d04a61', 'f3836f5df9be7a5451844917a2bbc28204efcf0b', 'f3a806160c6edfa6ccadefbf93c190e57e5bb7db', 'f3e32f4fea30bfb2c05dbbb84b0c1e84dfa9c95c', 'f3e406ab4b547f75574f7969c3abca8f336919e6', 'f3e527bfc4996e69b629a73862ac6b8a350ce9f9', 'f3f3c750dd178ef1add801d9efc0982f95c9b00e', 'f407c963ed63c2978b2cf538aab70668dc4520a9', 'f4240a92844c9065be9e3431b5faa5245fcb80be', 'f43a6604ac512805f7ef38ed201859aa5885dcd5', 'f43bb8cc775c45a60685ec302a2bdcea29580048', 'f44d8770d07911d66c10c60da16c46b792adc894', 'f47116f998e030f2dab275b81fb2a04a9dc06c33', 'f474a22fd7faa7d965c835faad87eed6be25aa06', 'f4776fef64ab94064f8a5988f79bf11b52927349', 'f47d564c50e9890e44ab6403a524c1d4be0524ee', 'f47dfdf55ffb5076a938400a4541760c33965376', 'f4a2d9f0829faeaba840a9b70631c47cbfd9fcf0', 'f4b2d9becfec1174ca4cba515baca367661f5c55', 'f4c7c7eb3c53d3280baa28aed1506775f28812d3', 'f4cb73ae983e98577f46deeb0cb49a7fbd2f690f', 'f4cccf9a3adbdbede24f0bc223ebdeefb3c064f7', 'f4d1763275a70ca967f7adfd151cc1023d2821b6', 'f4d48f5d1e64ea857c34282fe61427678d9cb86f', 'f4f619cb03dca57b4452fe99dce4d5cbed64242d', 'f502c5a9092f3e8f526677a21ce021f0de49b8f9', 'f51d710c5b82cf2147c68f460755311ea778c811', 'f53a928e2dd71219f229e218a1907e5fd7d7f43f', 'f552e50da680d82404f4c486c2a9a7b0bdd538e7', 'f5865320a3e907796ccdde833531aff0e6a2819b', 'f591147c89e010b7cff3ce55524de9e6c5cb4602', 'f598cef168c1c2905a736fd59a08edc6b0bd633e', 'f5e8cc6983d563ff255988b9ea0c53e67941f71e', 'f5f011224d5da5ed1783e974a13a03f7c4780e08', 'f5f767d031151f1410e0cd96a4446ea70a8f26e3', 'f5fd22336bc56a56d4fe64d3e753ff5275db1c70', 'f608c215606e6421a429ea28ad08243241d5347d', 'f625cabc005f268d8d9f5a46c4072bd49e3e6d4c', 'f63e80adfcb8ae0b72d672e4b9e2137345245dc5', 'f6477bd5ba9cb8613bfa3743d2c8d1d1fd833527', 'f65ecaee88f577d15ccd36c5a12b95f5a96e8fbd', 'f6600774711b0e0b17ba228e64fc04cd868f7965', 'f676dad611e1222446fe36b7d46fa48baa6eed8e', 'f6863f7600ca6e99e5a90641df186b06d3ed95d1', 'f687bfcf282e635a34899ccb45b404f673465f93', 'f694565a4451ed33e6741ede8cd3a7eaad66bb84', 'f69de88aafdf987022569c65f042b55f931ecb2d', 'f6a5941119527e21cebe57c47a42ce8b60469f29', 'f6da67cb7bdcd4d657ec5fa9522bbfa39261d787', 'f6dcd5180d7219559cdcc30f121b2b431cd7c4e1', 'f6f0022738877d8b6627093f094b71fac8dae523', 'f70adaf95c26fe0c5324f50800d2ac4729fc41c6', 'f71bda9b740545e8e560bc06c10134d985d42966', 'f74e9bcd9663c17a1174dc85c151400d001384b6', 'f75f28e55687cb252e52f50cf93ec5be7bff5e97', 'f782afb0bd2c0a5e85382cf0dd646b001045ca31', 'f80d270c35d0de9db4fa156e9fec69d71bc1974f', 'f8156fe9d2702b61b18cc7ab8956b4f3b709d1b1', 'f81bb820a30b7ccf9be7846741811f3a477541d5', 'f827c585c1894295f672dc00d74b14f38772104a', 'f83608aebf45bc646fd53f97ca3a840a2c2a8204', 'f84f5b5a5c5d1d9fb4866f6488e0d2661b54c192', 'f85b83db8f3d1048443e6aa8f02724cabcc00e56', 'f8611810514c93d57bb846aa0b5e0410d9730a14', 'f86d07cafe10bf1c1ac73c0c14e58ba01084087b', 'f880fda8e74cc4654b08fde7ff7a49dce2da15d0', 'f88865412182f16fdaa6960b1894d9b9976edac5', 'f89a7edddf2889d1de69afa2a4e41a047c9351d5', 'f8ac51c5c98c97d304503ccf5ff0fde1fe5d8d85', 'f8ae59c070d0b3fadc84c4d9f18475a61d7d37eb', 'f8b40de446eeec054df01e6f6090047b29654552', 'f8b904d3f0a44caf8022dfeecd452b64601e32cb', 'f8df60c8a6203d689a664fab329b145a90624534', 'f8eba56bc475df6dc36ac4b84cdbc877f56b1303', 'f904f6ed9ac7c35f4771c69a9ef38e797e4e4baf', 'f91837f494951cf4a933a4bbb951b821a761a535', 'f927dddfe26b0c74ada3eaadca41bfb462c37ee4', 'f93650f720ff111d72b8e0168b39325d2d97e68d', 'f950c72da3617fe94a02c753dfeedb5a7acf6def', 'f9640f36c41490f623abe0f30a320955d440e343', 'f96c2b3c44587cf91fdf2b89376be5850fcbadf4', 'f98bdf943ab64b995a0996100088601ee5589fcb', 'f99b41cc1bf135172c752c9a39453a38d23d5f9e', 'f99b9596900eb1d07136d158a4a157f9c40f39e5', 'f9b609a65402bdd85637b667ee8f8a9bfe7fa86c', 'f9b85222e3dc6b254b226bc65d5b72c2f856d904', 'f9c8b15b9e8429f18dd82980e9ac94805c972bcd', 'f9ce52dfecf8a6824eb0f21ab07f715b224d9cb2', 'f9d01dc3006fa252f8283b42047324846d4311e3', 'f9d10095c18894764196a70ed9dee7ed9e461079', 'f9d4dc395199d4a637eef44384ed456436340ce8', 'fa1e129119f9a5ca7b34d3566e6a8e7a0e0358bd', 'fa2b8ea32a0ddbe28885f8cb4ff6f451533f1dae', 'fa2badcdb3f6436258fec4a43dd3451645a14d42', 'fa2c46e48e8c28fa926c54212718d34136e85b5d', 'fa40b11a2509c5e159bcb444890d9200aed0e268', 'fa4e590917ffc9a10a65de0bbb9431204d169e19', 'fa4fc963b73032271647fdd0e526f61c7f051778', 'fa5013f5498df95eee5c50d5bb3bcba8ffcde3af', 'fa506e394e03e2869975dd93762486ec22951d14', 'fa60f1524b645681e567f1409ff599479658dcf6', 'fa65f290aaa6c9bad0eee641222398f5f0e2944a', 'fa69ae7de066c877c589f3246125de7e0d17b915', 'faaa026f32172ae9b0ca52136787cc61fd4c4250', 'faaf853f32ed159e8557bb6fc49f76cb04067a9f', 'facb3384fe8c59a11d5a88385a24ae419f02fd9c', 'facec8e1d65829c96c91f05eb752423723e5874c', 'fad2be1bed3a066687f47d2ad051ffae301d3203', 'fadf4a94e2b962049b11f0567498a2f85469571c', 'faf76927dcf087c577b7c83035049b1c88c58d03', 'fb0c4dadd475f57696712e021c2b387440972d86', 'fb12c12193b2c6fb326ca65bb7e53591ecfaf49b', 'fb1cac9ade2b84ec9130bcbe785d9a9f4f8e6c1b', 'fb26725258abe287141baa4158e13edd391b121b', 'fb288edee4145a6e4c704a663a04d77b31b461df', 'fb2ee240f46a15f5f0f5a8a7643499ee3ba222f0', 'fb2f2c0e39e233622c300c232a6287738007e34a', 'fb41d1c374d093ab643ef3bcd70eeb258d479076', 'fb51c7cabdc699b072a026d4fc36335a8f0049e4', 'fb6548e795d1c866f3079619da22fbcf1360e5a4', 'fb7c8014f01d1c3f082c0078dd967f426b4c2abb', 'fb8fdb58f9c21ca86ebae1c0e53e2a3296c2d4a3', 'fbbf68d14c77af55044a7e27f7befef5c923aa08', 'fbc8b4327aa8ae38d17b567f486468ca10cacde3', 'fbcc9c5c37e7b51b5315a7fefe765bb9bbe12c30', 'fbd14aa950314d4ea7f64c50f8b357d364a5b94c', 'fbf0a5ee9336e7ccac78427845244432a86399f3', 'fbf254feb9e8da9275e1763bb0ea2cd1b854d286', 'fc09d39ef077be2689901a029432e48d4073189b', 'fc268c914f3d127fb08a3deacf1b3e41b71d245f', 'fc2dc6e4023b6a36866f9488be5943bf1c8c4fd4', 'fc35945f8895c6ca69ad9cb45b7bc47a3cc86738', 'fc3abf9ca090c166d91c0aec4f9868a1e705983f', 'fc42a5ba4155e69de6c6bbffbbf73fe0719f10ff', 'fc52a9e250ea8ae51a21fc91f85f11aa2b680843', 'fc595da220f23a6424a46f93627ce7a56a39902e', 'fc604c906ec7bb98c494ef7659b0d3dc75503812', 'fc63701e1400552db859dcf20db6ef559c61b519', 'fc68da9695c46a2d7e6fc61cdecb56b352743ab9', 'fc6a5d84b47e438cc04c411a92615af1fb01ba36', 'fc7769eba5bb0059a09e608b2eb2c7e291344bdc', 'fc787f1da1ebf13b59d30993a6ee0fd2a5b8bd89', 'fca15b7964a099b2860dfdb158a2430fb10c4384', 'fca830e995b30ca01830d4368405984988ba731a', 'fcaef9cb6b6242038f0d622244187d6639fd8792', 'fcb4c25d20cc9550cc0049d065246c2c060b3f46', 'fccd8489ef6b1d7b9cc11c0b4427df5ec2809f88', 'fcda8923ded3681dc3402e7a645e18f916b645b9', 'fcdba14d175029dc693a87743d1f85c069e863e1', 'fcef51e4f0603b06f8c402e1dbebb019823b5c54', 'fcfd5072b5cf74e1703365766562d294b51dd4c3', 'fd13b9d49c54e00ff413fe3c095ba581c7fc611e', 'fd1e93dbc031d219c7c39a3eabe61d3be7f7c025', 'fd244ea034e6c441686cffe3347c94e5cdf7a9f7', 'fd24fe9efc9432712ec03a4bc1a26decd4a6395a', 'fd27f0215b389247f51ef0fc1e0a96f6e00fd635', 'fd2ebadff7d7c301b902649efb904af72c57907a', 'fd3b4d56e254080967e51c6a0bb83ef0c3d0b4ce', 'fd585aef5c32d3943bd6e7f9f39aa216ba659fd0', 'fd6330de94e4c1e7eb97bce2a1d8feb2f1953974', 'fd751879833f606b59efcc0276be3c0f5a655a33', 'fd7b78f7c22a39b64bbb9e49cee0ffe2dac5b849', 'fda281ed7a6c1725fc413e30f5c244b3589ea96a', 'fda3de0c10375b693c7fb474608d4503147c0880', 'fdb815231ee1d66f383b80d279bd58769dfe59ff', 'fdceac38d80a78e318cb915a11881e38b4e9678f', 'fdd950abee17cc07040dca7fb6605948b30cd71f', 'fde83324eb8c75a886d4e7c54162cca558ede800', 'fe076ad5586787ec05f2d54b92073100fd43fc35', 'fe0b79f2a7639372fd1c3899bf9e41fd6d4b369e', 'fe26897049e6e76ab3b68371a539a83812c6c439', 'fe4941bb486ccf9ff86cda94efe13bf8913cde28', 'fe5cf10a9480298d37b5263c7dca82bd9575c83a', 'fe6a6430e4568bc9d66b05fa31ca190368a3b6fb', 'fe76c9d535c5834e4a9b91c13e29be6460cb79c4', 'fe89fbb7b4f5f825e1fa541e8cd848179439d557', 'fe979a7b199de3ee8a78486c10e5ed13587fc359', 'feaeee90a02e6d852ab81042ea091df1210da295', 'feca9fd2b28770beb0632ac94b919df5ab9b98b2', 'fed2284419eb92f5d4c5d15d11aeb6a3f1f06fc0', 'fed37c4c49c9f217b3371c2f2c0e7541656e55cf', 'fed98fc0bb77a144870e9ffd72a3da5f03ec333c', 'fedb2196791cf130661f6566f772790ca37e1c40', 'fef34c404cdf1e855849fed195f12ffb40abc8da', 'ff1582eda3807792dada1a96dfe5d34819c2e384', 'ff18ea9a13583f7f7aaa83719e0b22ce5618e9cf', 'ff3a54c32ae353b78711f74251eee8611f5dfd12', 'ff4322e94814d3c7895d07e6f94139b092862611', 'ff528ed63034ac96b5b37f214552d9e26fbb3d2b', 'ff555698f628cb0f0bfde553414d0a394ecbd6ec', 'ff753593746245c03b354e126e14cbf7086adffb', 'ff9570b53e7760488d9718982bd20211d1b807ff', 'ff974317308fc68a357b975e00655321f34ed378', 'ffa24617ea80c268c74e86cd3ee3d9e7ac5504ec', 'ffadf9297a99945c0513cd87939d91d8b602936b', 'ffd782fcce37e276e6ab846dcc36a53c42d563fe', 'ffdaab327f2fc6b9fa01a4e3e7f41fdd0e468046', 'ffe50146303f1b12ea8254450b95580b1b99a5c4', 'fffce9c1537fbc350ea68823d956eaa8f5236dbe']\n"
          ],
          "name": "stdout"
        }
      ]
    },
    {
      "cell_type": "markdown",
      "metadata": {
        "id": "Qg2HezRDNKYi",
        "colab_type": "text"
      },
      "source": [
        "collecting songs\n",
        "making a list of songs"
      ]
    },
    {
      "cell_type": "code",
      "metadata": {
        "id": "JdqKBEaFirqF",
        "colab_type": "code",
        "outputId": "e8c58393-8535-43ae-e159-d95ef7cc9ee8",
        "colab": {
          "base_uri": "https://localhost:8080/",
          "height": 1000
        }
      },
      "source": [
        "grouped_songs_2 = songs_data.groupby('song_id')\n",
        "grouped_songs_2.head()"
      ],
      "execution_count": 38,
      "outputs": [
        {
          "output_type": "execute_result",
          "data": {
            "text/html": [
              "<div>\n",
              "<style scoped>\n",
              "    .dataframe tbody tr th:only-of-type {\n",
              "        vertical-align: middle;\n",
              "    }\n",
              "\n",
              "    .dataframe tbody tr th {\n",
              "        vertical-align: top;\n",
              "    }\n",
              "\n",
              "    .dataframe thead th {\n",
              "        text-align: right;\n",
              "    }\n",
              "</style>\n",
              "<table border=\"1\" class=\"dataframe\">\n",
              "  <thead>\n",
              "    <tr style=\"text-align: right;\">\n",
              "      <th></th>\n",
              "      <th>user_id</th>\n",
              "      <th>song_id</th>\n",
              "      <th>listen_count</th>\n",
              "    </tr>\n",
              "  </thead>\n",
              "  <tbody>\n",
              "    <tr>\n",
              "      <th>0</th>\n",
              "      <td>b80344d063b5ccb3212f76538f3d9e43d87dca9e</td>\n",
              "      <td>SOAKIMP12A8C130995</td>\n",
              "      <td>1</td>\n",
              "    </tr>\n",
              "    <tr>\n",
              "      <th>1</th>\n",
              "      <td>b80344d063b5ccb3212f76538f3d9e43d87dca9e</td>\n",
              "      <td>SOBBMDR12A8C13253B</td>\n",
              "      <td>2</td>\n",
              "    </tr>\n",
              "    <tr>\n",
              "      <th>2</th>\n",
              "      <td>b80344d063b5ccb3212f76538f3d9e43d87dca9e</td>\n",
              "      <td>SOBXHDL12A81C204C0</td>\n",
              "      <td>1</td>\n",
              "    </tr>\n",
              "    <tr>\n",
              "      <th>3</th>\n",
              "      <td>b80344d063b5ccb3212f76538f3d9e43d87dca9e</td>\n",
              "      <td>SOBYHAJ12A6701BF1D</td>\n",
              "      <td>1</td>\n",
              "    </tr>\n",
              "    <tr>\n",
              "      <th>4</th>\n",
              "      <td>b80344d063b5ccb3212f76538f3d9e43d87dca9e</td>\n",
              "      <td>SODACBL12A8C13C273</td>\n",
              "      <td>1</td>\n",
              "    </tr>\n",
              "    <tr>\n",
              "      <th>5</th>\n",
              "      <td>b80344d063b5ccb3212f76538f3d9e43d87dca9e</td>\n",
              "      <td>SODDNQT12A6D4F5F7E</td>\n",
              "      <td>5</td>\n",
              "    </tr>\n",
              "    <tr>\n",
              "      <th>6</th>\n",
              "      <td>b80344d063b5ccb3212f76538f3d9e43d87dca9e</td>\n",
              "      <td>SODXRTY12AB0180F3B</td>\n",
              "      <td>1</td>\n",
              "    </tr>\n",
              "    <tr>\n",
              "      <th>7</th>\n",
              "      <td>b80344d063b5ccb3212f76538f3d9e43d87dca9e</td>\n",
              "      <td>SOFGUAY12AB017B0A8</td>\n",
              "      <td>1</td>\n",
              "    </tr>\n",
              "    <tr>\n",
              "      <th>8</th>\n",
              "      <td>b80344d063b5ccb3212f76538f3d9e43d87dca9e</td>\n",
              "      <td>SOFRQTD12A81C233C0</td>\n",
              "      <td>1</td>\n",
              "    </tr>\n",
              "    <tr>\n",
              "      <th>9</th>\n",
              "      <td>b80344d063b5ccb3212f76538f3d9e43d87dca9e</td>\n",
              "      <td>SOHQWYZ12A6D4FA701</td>\n",
              "      <td>1</td>\n",
              "    </tr>\n",
              "    <tr>\n",
              "      <th>10</th>\n",
              "      <td>b80344d063b5ccb3212f76538f3d9e43d87dca9e</td>\n",
              "      <td>SOIYTOA12A6D4F9A23</td>\n",
              "      <td>1</td>\n",
              "    </tr>\n",
              "    <tr>\n",
              "      <th>11</th>\n",
              "      <td>b80344d063b5ccb3212f76538f3d9e43d87dca9e</td>\n",
              "      <td>SOIZAZL12A6701C53B</td>\n",
              "      <td>5</td>\n",
              "    </tr>\n",
              "    <tr>\n",
              "      <th>12</th>\n",
              "      <td>b80344d063b5ccb3212f76538f3d9e43d87dca9e</td>\n",
              "      <td>SOJNNUA12A8AE48C7A</td>\n",
              "      <td>1</td>\n",
              "    </tr>\n",
              "    <tr>\n",
              "      <th>13</th>\n",
              "      <td>b80344d063b5ccb3212f76538f3d9e43d87dca9e</td>\n",
              "      <td>SOJPFQG12A58A7833A</td>\n",
              "      <td>1</td>\n",
              "    </tr>\n",
              "    <tr>\n",
              "      <th>14</th>\n",
              "      <td>b80344d063b5ccb3212f76538f3d9e43d87dca9e</td>\n",
              "      <td>SOKRIMP12A6D4F5DA3</td>\n",
              "      <td>5</td>\n",
              "    </tr>\n",
              "    <tr>\n",
              "      <th>15</th>\n",
              "      <td>b80344d063b5ccb3212f76538f3d9e43d87dca9e</td>\n",
              "      <td>SOLLGNU12AF72A4D4F</td>\n",
              "      <td>1</td>\n",
              "    </tr>\n",
              "    <tr>\n",
              "      <th>16</th>\n",
              "      <td>b80344d063b5ccb3212f76538f3d9e43d87dca9e</td>\n",
              "      <td>SOMGIYR12AB0187973</td>\n",
              "      <td>6</td>\n",
              "    </tr>\n",
              "    <tr>\n",
              "      <th>17</th>\n",
              "      <td>b80344d063b5ccb3212f76538f3d9e43d87dca9e</td>\n",
              "      <td>SOMLMKI12A81C204BC</td>\n",
              "      <td>1</td>\n",
              "    </tr>\n",
              "    <tr>\n",
              "      <th>18</th>\n",
              "      <td>b80344d063b5ccb3212f76538f3d9e43d87dca9e</td>\n",
              "      <td>SOMSQJY12A8C138539</td>\n",
              "      <td>1</td>\n",
              "    </tr>\n",
              "    <tr>\n",
              "      <th>19</th>\n",
              "      <td>b80344d063b5ccb3212f76538f3d9e43d87dca9e</td>\n",
              "      <td>SONSAEZ12A8C138D7A</td>\n",
              "      <td>1</td>\n",
              "    </tr>\n",
              "    <tr>\n",
              "      <th>20</th>\n",
              "      <td>b80344d063b5ccb3212f76538f3d9e43d87dca9e</td>\n",
              "      <td>SOOKGRB12A8C13CD66</td>\n",
              "      <td>1</td>\n",
              "    </tr>\n",
              "    <tr>\n",
              "      <th>21</th>\n",
              "      <td>b80344d063b5ccb3212f76538f3d9e43d87dca9e</td>\n",
              "      <td>SOPCVQE12AC468AF36</td>\n",
              "      <td>1</td>\n",
              "    </tr>\n",
              "    <tr>\n",
              "      <th>22</th>\n",
              "      <td>b80344d063b5ccb3212f76538f3d9e43d87dca9e</td>\n",
              "      <td>SOQIVUD12AB01821D2</td>\n",
              "      <td>1</td>\n",
              "    </tr>\n",
              "    <tr>\n",
              "      <th>23</th>\n",
              "      <td>b80344d063b5ccb3212f76538f3d9e43d87dca9e</td>\n",
              "      <td>SOQJLDY12AAF3B456D</td>\n",
              "      <td>1</td>\n",
              "    </tr>\n",
              "    <tr>\n",
              "      <th>24</th>\n",
              "      <td>b80344d063b5ccb3212f76538f3d9e43d87dca9e</td>\n",
              "      <td>SOQLCKR12A81C22440</td>\n",
              "      <td>1</td>\n",
              "    </tr>\n",
              "    <tr>\n",
              "      <th>25</th>\n",
              "      <td>b80344d063b5ccb3212f76538f3d9e43d87dca9e</td>\n",
              "      <td>SORPMYJ12AF729EB90</td>\n",
              "      <td>1</td>\n",
              "    </tr>\n",
              "    <tr>\n",
              "      <th>26</th>\n",
              "      <td>b80344d063b5ccb3212f76538f3d9e43d87dca9e</td>\n",
              "      <td>SORQHCG12A58A7EEBA</td>\n",
              "      <td>1</td>\n",
              "    </tr>\n",
              "    <tr>\n",
              "      <th>27</th>\n",
              "      <td>b80344d063b5ccb3212f76538f3d9e43d87dca9e</td>\n",
              "      <td>SORUFVF12AB018230B</td>\n",
              "      <td>1</td>\n",
              "    </tr>\n",
              "    <tr>\n",
              "      <th>28</th>\n",
              "      <td>b80344d063b5ccb3212f76538f3d9e43d87dca9e</td>\n",
              "      <td>SORWLTW12A670208FA</td>\n",
              "      <td>1</td>\n",
              "    </tr>\n",
              "    <tr>\n",
              "      <th>29</th>\n",
              "      <td>b80344d063b5ccb3212f76538f3d9e43d87dca9e</td>\n",
              "      <td>SORZASF12A6D4F8CFA</td>\n",
              "      <td>2</td>\n",
              "    </tr>\n",
              "    <tr>\n",
              "      <th>...</th>\n",
              "      <td>...</td>\n",
              "      <td>...</td>\n",
              "      <td>...</td>\n",
              "    </tr>\n",
              "    <tr>\n",
              "      <th>99812</th>\n",
              "      <td>5ff71117823faab5d0310b4406603582a496b49d</td>\n",
              "      <td>SOROHAJ12A8C13B252</td>\n",
              "      <td>1</td>\n",
              "    </tr>\n",
              "    <tr>\n",
              "      <th>99816</th>\n",
              "      <td>5ff71117823faab5d0310b4406603582a496b49d</td>\n",
              "      <td>SOTWPXG12A8C142CF6</td>\n",
              "      <td>1</td>\n",
              "    </tr>\n",
              "    <tr>\n",
              "      <th>99822</th>\n",
              "      <td>3b30c23e37f87ec150d50548b7a91b179f69e533</td>\n",
              "      <td>SOBSQYL12AB0187688</td>\n",
              "      <td>3</td>\n",
              "    </tr>\n",
              "    <tr>\n",
              "      <th>99826</th>\n",
              "      <td>3b30c23e37f87ec150d50548b7a91b179f69e533</td>\n",
              "      <td>SOGCHYZ12AF72A69EC</td>\n",
              "      <td>2</td>\n",
              "    </tr>\n",
              "    <tr>\n",
              "      <th>99831</th>\n",
              "      <td>3b30c23e37f87ec150d50548b7a91b179f69e533</td>\n",
              "      <td>SONFCUC12A58A7BC34</td>\n",
              "      <td>3</td>\n",
              "    </tr>\n",
              "    <tr>\n",
              "      <th>99846</th>\n",
              "      <td>3b30c23e37f87ec150d50548b7a91b179f69e533</td>\n",
              "      <td>SOYWRZU12A6D4F66C2</td>\n",
              "      <td>1</td>\n",
              "    </tr>\n",
              "    <tr>\n",
              "      <th>99854</th>\n",
              "      <td>e4557156607247f20d95e659e4ce7846b590252c</td>\n",
              "      <td>SOCZVVE12A8AE476F3</td>\n",
              "      <td>2</td>\n",
              "    </tr>\n",
              "    <tr>\n",
              "      <th>99856</th>\n",
              "      <td>e4557156607247f20d95e659e4ce7846b590252c</td>\n",
              "      <td>SOEHSWI12A8C14497A</td>\n",
              "      <td>5</td>\n",
              "    </tr>\n",
              "    <tr>\n",
              "      <th>99864</th>\n",
              "      <td>e4557156607247f20d95e659e4ce7846b590252c</td>\n",
              "      <td>SOHTZML12A8C142CA4</td>\n",
              "      <td>1</td>\n",
              "    </tr>\n",
              "    <tr>\n",
              "      <th>99907</th>\n",
              "      <td>176e3f8a0eb8bb540a0e731230fdea7147c357da</td>\n",
              "      <td>SOEGDWK12A8C137D13</td>\n",
              "      <td>25</td>\n",
              "    </tr>\n",
              "    <tr>\n",
              "      <th>99916</th>\n",
              "      <td>176e3f8a0eb8bb540a0e731230fdea7147c357da</td>\n",
              "      <td>SOIJPZF12A6701EB76</td>\n",
              "      <td>3</td>\n",
              "    </tr>\n",
              "    <tr>\n",
              "      <th>99917</th>\n",
              "      <td>176e3f8a0eb8bb540a0e731230fdea7147c357da</td>\n",
              "      <td>SOINBEP12AB017FEE1</td>\n",
              "      <td>22</td>\n",
              "    </tr>\n",
              "    <tr>\n",
              "      <th>99918</th>\n",
              "      <td>176e3f8a0eb8bb540a0e731230fdea7147c357da</td>\n",
              "      <td>SOIPEWH12AB01800A6</td>\n",
              "      <td>20</td>\n",
              "    </tr>\n",
              "    <tr>\n",
              "      <th>99925</th>\n",
              "      <td>176e3f8a0eb8bb540a0e731230fdea7147c357da</td>\n",
              "      <td>SOLRQLP12AB01809BC</td>\n",
              "      <td>20</td>\n",
              "    </tr>\n",
              "    <tr>\n",
              "      <th>99929</th>\n",
              "      <td>176e3f8a0eb8bb540a0e731230fdea7147c357da</td>\n",
              "      <td>SOOAAQL12B0B80B6D1</td>\n",
              "      <td>23</td>\n",
              "    </tr>\n",
              "    <tr>\n",
              "      <th>99936</th>\n",
              "      <td>176e3f8a0eb8bb540a0e731230fdea7147c357da</td>\n",
              "      <td>SOPWVJC12AB01809CD</td>\n",
              "      <td>23</td>\n",
              "    </tr>\n",
              "    <tr>\n",
              "      <th>99937</th>\n",
              "      <td>176e3f8a0eb8bb540a0e731230fdea7147c357da</td>\n",
              "      <td>SOQOAGD12AB01809FB</td>\n",
              "      <td>31</td>\n",
              "    </tr>\n",
              "    <tr>\n",
              "      <th>99939</th>\n",
              "      <td>176e3f8a0eb8bb540a0e731230fdea7147c357da</td>\n",
              "      <td>SOQYXOV12AB017FE9C</td>\n",
              "      <td>22</td>\n",
              "    </tr>\n",
              "    <tr>\n",
              "      <th>99944</th>\n",
              "      <td>176e3f8a0eb8bb540a0e731230fdea7147c357da</td>\n",
              "      <td>SOSSZPW12A8C13843D</td>\n",
              "      <td>20</td>\n",
              "    </tr>\n",
              "    <tr>\n",
              "      <th>99949</th>\n",
              "      <td>176e3f8a0eb8bb540a0e731230fdea7147c357da</td>\n",
              "      <td>SOTSVAT12A8C138443</td>\n",
              "      <td>17</td>\n",
              "    </tr>\n",
              "    <tr>\n",
              "      <th>99952</th>\n",
              "      <td>176e3f8a0eb8bb540a0e731230fdea7147c357da</td>\n",
              "      <td>SOUNKHZ12AF72A037D</td>\n",
              "      <td>22</td>\n",
              "    </tr>\n",
              "    <tr>\n",
              "      <th>99958</th>\n",
              "      <td>176e3f8a0eb8bb540a0e731230fdea7147c357da</td>\n",
              "      <td>SOWFCZA12AB017FE8D</td>\n",
              "      <td>21</td>\n",
              "    </tr>\n",
              "    <tr>\n",
              "      <th>99959</th>\n",
              "      <td>176e3f8a0eb8bb540a0e731230fdea7147c357da</td>\n",
              "      <td>SOWPFHR12A8C137D0E</td>\n",
              "      <td>18</td>\n",
              "    </tr>\n",
              "    <tr>\n",
              "      <th>99961</th>\n",
              "      <td>176e3f8a0eb8bb540a0e731230fdea7147c357da</td>\n",
              "      <td>SOXDOSG12AB018099E</td>\n",
              "      <td>24</td>\n",
              "    </tr>\n",
              "    <tr>\n",
              "      <th>99962</th>\n",
              "      <td>176e3f8a0eb8bb540a0e731230fdea7147c357da</td>\n",
              "      <td>SOXDPFW12A81C2319B</td>\n",
              "      <td>1</td>\n",
              "    </tr>\n",
              "    <tr>\n",
              "      <th>99966</th>\n",
              "      <td>176e3f8a0eb8bb540a0e731230fdea7147c357da</td>\n",
              "      <td>SOYINAR12AB017FEB2</td>\n",
              "      <td>17</td>\n",
              "    </tr>\n",
              "    <tr>\n",
              "      <th>99974</th>\n",
              "      <td>dae4b0383ddaf95871a4fdde6e521bdaa6668143</td>\n",
              "      <td>SOBRQUF12AF72A7728</td>\n",
              "      <td>1</td>\n",
              "    </tr>\n",
              "    <tr>\n",
              "      <th>99976</th>\n",
              "      <td>dae4b0383ddaf95871a4fdde6e521bdaa6668143</td>\n",
              "      <td>SOCSXMM12AB0186A58</td>\n",
              "      <td>5</td>\n",
              "    </tr>\n",
              "    <tr>\n",
              "      <th>99986</th>\n",
              "      <td>dae4b0383ddaf95871a4fdde6e521bdaa6668143</td>\n",
              "      <td>SOHKKBI12AB0182E85</td>\n",
              "      <td>1</td>\n",
              "    </tr>\n",
              "    <tr>\n",
              "      <th>99997</th>\n",
              "      <td>dae4b0383ddaf95871a4fdde6e521bdaa6668143</td>\n",
              "      <td>SOLDBRG12A8C13A1ED</td>\n",
              "      <td>3</td>\n",
              "    </tr>\n",
              "  </tbody>\n",
              "</table>\n",
              "<p>43817 rows × 3 columns</p>\n",
              "</div>"
            ],
            "text/plain": [
              "                                        user_id  ... listen_count\n",
              "0      b80344d063b5ccb3212f76538f3d9e43d87dca9e  ...            1\n",
              "1      b80344d063b5ccb3212f76538f3d9e43d87dca9e  ...            2\n",
              "2      b80344d063b5ccb3212f76538f3d9e43d87dca9e  ...            1\n",
              "3      b80344d063b5ccb3212f76538f3d9e43d87dca9e  ...            1\n",
              "4      b80344d063b5ccb3212f76538f3d9e43d87dca9e  ...            1\n",
              "5      b80344d063b5ccb3212f76538f3d9e43d87dca9e  ...            5\n",
              "6      b80344d063b5ccb3212f76538f3d9e43d87dca9e  ...            1\n",
              "7      b80344d063b5ccb3212f76538f3d9e43d87dca9e  ...            1\n",
              "8      b80344d063b5ccb3212f76538f3d9e43d87dca9e  ...            1\n",
              "9      b80344d063b5ccb3212f76538f3d9e43d87dca9e  ...            1\n",
              "10     b80344d063b5ccb3212f76538f3d9e43d87dca9e  ...            1\n",
              "11     b80344d063b5ccb3212f76538f3d9e43d87dca9e  ...            5\n",
              "12     b80344d063b5ccb3212f76538f3d9e43d87dca9e  ...            1\n",
              "13     b80344d063b5ccb3212f76538f3d9e43d87dca9e  ...            1\n",
              "14     b80344d063b5ccb3212f76538f3d9e43d87dca9e  ...            5\n",
              "15     b80344d063b5ccb3212f76538f3d9e43d87dca9e  ...            1\n",
              "16     b80344d063b5ccb3212f76538f3d9e43d87dca9e  ...            6\n",
              "17     b80344d063b5ccb3212f76538f3d9e43d87dca9e  ...            1\n",
              "18     b80344d063b5ccb3212f76538f3d9e43d87dca9e  ...            1\n",
              "19     b80344d063b5ccb3212f76538f3d9e43d87dca9e  ...            1\n",
              "20     b80344d063b5ccb3212f76538f3d9e43d87dca9e  ...            1\n",
              "21     b80344d063b5ccb3212f76538f3d9e43d87dca9e  ...            1\n",
              "22     b80344d063b5ccb3212f76538f3d9e43d87dca9e  ...            1\n",
              "23     b80344d063b5ccb3212f76538f3d9e43d87dca9e  ...            1\n",
              "24     b80344d063b5ccb3212f76538f3d9e43d87dca9e  ...            1\n",
              "25     b80344d063b5ccb3212f76538f3d9e43d87dca9e  ...            1\n",
              "26     b80344d063b5ccb3212f76538f3d9e43d87dca9e  ...            1\n",
              "27     b80344d063b5ccb3212f76538f3d9e43d87dca9e  ...            1\n",
              "28     b80344d063b5ccb3212f76538f3d9e43d87dca9e  ...            1\n",
              "29     b80344d063b5ccb3212f76538f3d9e43d87dca9e  ...            2\n",
              "...                                         ...  ...          ...\n",
              "99812  5ff71117823faab5d0310b4406603582a496b49d  ...            1\n",
              "99816  5ff71117823faab5d0310b4406603582a496b49d  ...            1\n",
              "99822  3b30c23e37f87ec150d50548b7a91b179f69e533  ...            3\n",
              "99826  3b30c23e37f87ec150d50548b7a91b179f69e533  ...            2\n",
              "99831  3b30c23e37f87ec150d50548b7a91b179f69e533  ...            3\n",
              "99846  3b30c23e37f87ec150d50548b7a91b179f69e533  ...            1\n",
              "99854  e4557156607247f20d95e659e4ce7846b590252c  ...            2\n",
              "99856  e4557156607247f20d95e659e4ce7846b590252c  ...            5\n",
              "99864  e4557156607247f20d95e659e4ce7846b590252c  ...            1\n",
              "99907  176e3f8a0eb8bb540a0e731230fdea7147c357da  ...           25\n",
              "99916  176e3f8a0eb8bb540a0e731230fdea7147c357da  ...            3\n",
              "99917  176e3f8a0eb8bb540a0e731230fdea7147c357da  ...           22\n",
              "99918  176e3f8a0eb8bb540a0e731230fdea7147c357da  ...           20\n",
              "99925  176e3f8a0eb8bb540a0e731230fdea7147c357da  ...           20\n",
              "99929  176e3f8a0eb8bb540a0e731230fdea7147c357da  ...           23\n",
              "99936  176e3f8a0eb8bb540a0e731230fdea7147c357da  ...           23\n",
              "99937  176e3f8a0eb8bb540a0e731230fdea7147c357da  ...           31\n",
              "99939  176e3f8a0eb8bb540a0e731230fdea7147c357da  ...           22\n",
              "99944  176e3f8a0eb8bb540a0e731230fdea7147c357da  ...           20\n",
              "99949  176e3f8a0eb8bb540a0e731230fdea7147c357da  ...           17\n",
              "99952  176e3f8a0eb8bb540a0e731230fdea7147c357da  ...           22\n",
              "99958  176e3f8a0eb8bb540a0e731230fdea7147c357da  ...           21\n",
              "99959  176e3f8a0eb8bb540a0e731230fdea7147c357da  ...           18\n",
              "99961  176e3f8a0eb8bb540a0e731230fdea7147c357da  ...           24\n",
              "99962  176e3f8a0eb8bb540a0e731230fdea7147c357da  ...            1\n",
              "99966  176e3f8a0eb8bb540a0e731230fdea7147c357da  ...           17\n",
              "99974  dae4b0383ddaf95871a4fdde6e521bdaa6668143  ...            1\n",
              "99976  dae4b0383ddaf95871a4fdde6e521bdaa6668143  ...            5\n",
              "99986  dae4b0383ddaf95871a4fdde6e521bdaa6668143  ...            1\n",
              "99997  dae4b0383ddaf95871a4fdde6e521bdaa6668143  ...            3\n",
              "\n",
              "[43817 rows x 3 columns]"
            ]
          },
          "metadata": {
            "tags": []
          },
          "execution_count": 38
        }
      ]
    },
    {
      "cell_type": "code",
      "metadata": {
        "id": "_kjAdWCFo-3W",
        "colab_type": "code",
        "colab": {}
      },
      "source": [
        "no_songs = 0\n",
        "songs = []\n",
        "for key,data in grouped_songs_2:\n",
        "  #print('key',key)\n",
        "  #print('\\ndata',data)\n",
        "  no_songs+=1\n",
        "  songs.append(key)\n",
        "#songs = set(songs)"
      ],
      "execution_count": 0,
      "outputs": []
    },
    {
      "cell_type": "code",
      "metadata": {
        "id": "m-9PqIJIpmlo",
        "colab_type": "code",
        "outputId": "e709d144-c3a1-4145-c518-c0950a1f23b6",
        "colab": {
          "base_uri": "https://localhost:8080/",
          "height": 34
        }
      },
      "source": [
        "print(no_songs,len(songs))"
      ],
      "execution_count": 40,
      "outputs": [
        {
          "output_type": "stream",
          "text": [
            "9938 9938\n"
          ],
          "name": "stdout"
        }
      ]
    },
    {
      "cell_type": "code",
      "metadata": {
        "id": "gTr65daQJkW_",
        "colab_type": "code",
        "outputId": "0664ece9-d484-4eb1-9e3b-936c8ce01b7c",
        "colab": {
          "base_uri": "https://localhost:8080/",
          "height": 34
        }
      },
      "source": [
        "#print(len(songs))\n"
      ],
      "execution_count": 54,
      "outputs": [
        {
          "output_type": "stream",
          "text": [
            "9938\n"
          ],
          "name": "stdout"
        }
      ]
    },
    {
      "cell_type": "markdown",
      "metadata": {
        "id": "Aa2w9pN5iU6y",
        "colab_type": "text"
      },
      "source": [
        "#Making 2d list"
      ]
    },
    {
      "cell_type": "code",
      "metadata": {
        "id": "A_5rRq-Hp4Ag",
        "colab_type": "code",
        "colab": {}
      },
      "source": [
        "def convert(data):\n",
        "  new_data=[]\n",
        "  for id_user in users:\n",
        "    id_songs = data.iloc[:,1][data.iloc[:,0]==id_user]\n",
        "    #print(id_songs.head())\n",
        "    id_ratings = data.iloc[:,2][data.iloc[:,0]==id_user]\n",
        "    #print(id_ratings.head())\n",
        "    ratings = np.zeros(no_songs)\n",
        "    if(id_songs.empty==False):\n",
        "      for sid,rat in zip(id_songs,id_ratings):\n",
        "        #print(sid)\n",
        "        indx=songs.index(str(sid))\n",
        "        ratings[indx] = rat\n",
        "      new_data.append(list(ratings))\n",
        "  return new_data"
      ],
      "execution_count": 0,
      "outputs": []
    },
    {
      "cell_type": "code",
      "metadata": {
        "id": "fyZr2JHmz27g",
        "colab_type": "code",
        "colab": {}
      },
      "source": [
        "train_set = convert(songs_data)\n",
        "#test_set = convert(songs_data_test) make test data by train test split"
      ],
      "execution_count": 0,
      "outputs": []
    },
    {
      "cell_type": "markdown",
      "metadata": {
        "id": "EyPKqhmqySnU",
        "colab_type": "text"
      },
      "source": [
        "# convert to torch tnsors"
      ]
    },
    {
      "cell_type": "code",
      "metadata": {
        "id": "Y0jKKhfq0FPq",
        "colab_type": "code",
        "colab": {}
      },
      "source": [
        "training_set = torch.FloatTensor(train_set)\n",
        "#test_set = torch.FloatTensor(test_set)\n"
      ],
      "execution_count": 0,
      "outputs": []
    },
    {
      "cell_type": "markdown",
      "metadata": {
        "id": "Lgco95pry_Sd",
        "colab_type": "text"
      },
      "source": [
        "#Convert training set (not herd to -1)"
      ]
    },
    {
      "cell_type": "code",
      "metadata": {
        "id": "wohkxz0_y-Rt",
        "colab_type": "code",
        "outputId": "78b1b2e6-d380-4594-bf40-604aa8f31844",
        "colab": {
          "base_uri": "https://localhost:8080/",
          "height": 34
        }
      },
      "source": [
        "training_set[training_set == 0] ==-1\n",
        "training_set[training_set == 1] ==0\n",
        "training_set[training_set == 2] ==0\n",
        "training_set[training_set > 2] ==1"
      ],
      "execution_count": 45,
      "outputs": [
        {
          "output_type": "execute_result",
          "data": {
            "text/plain": [
              "tensor([0, 0, 0,  ..., 0, 0, 0], dtype=torch.uint8)"
            ]
          },
          "metadata": {
            "tags": []
          },
          "execution_count": 45
        }
      ]
    },
    {
      "cell_type": "markdown",
      "metadata": {
        "id": "1l6IDua12ZS9",
        "colab_type": "text"
      },
      "source": [
        "#RBM class"
      ]
    },
    {
      "cell_type": "code",
      "metadata": {
        "id": "MZi3c7Gvy5C0",
        "colab_type": "code",
        "colab": {}
      },
      "source": [
        "class RBM():\n",
        "  def __init__(self,nv,nh):\n",
        "    self.W = torch.randn(nh,nv)\n",
        "    self.a = torch.randn(1,nh)\n",
        "    self.b = torch.randn(1,nv)\n",
        "  def sample_h(self,x):\n",
        "    wx = torch.mm(x,self.W.t())\n",
        "    activation = wx + self.a.expand_as(wx)\n",
        "    p_h_given_v = torch.sigmoid(activation)\n",
        "    return p_h_given_v, torch.bernoulli(p_h_given_v)\n",
        "  def sample_v(self,y):\n",
        "    wy = torch.mm(y,self.W)\n",
        "    activation = wy + self.b.expand_as(wy)\n",
        "    p_v_given_h = torch.sigmoid(activation)\n",
        "    return p_v_given_h, torch.bernoulli(p_v_given_h)\n",
        "  def train(self, v0,vk,ph0,phk):\n",
        "    self.W += (torch.mm(v0.t(),ph0) - torch.mm(vk.t(),phk)).t()\n",
        "    self.b += torch.sum((v0 - vk), 0)\n",
        "    self.a += torch.sum((ph0 - phk), 0)\n",
        "    "
      ],
      "execution_count": 0,
      "outputs": []
    },
    {
      "cell_type": "code",
      "metadata": {
        "id": "sArORQMQ4WIx",
        "colab_type": "code",
        "colab": {}
      },
      "source": [
        "nv = no_songs\n",
        "nh  = 150\n",
        "batch_size = 128\n",
        "rbm = RBM(nv,nh)"
      ],
      "execution_count": 0,
      "outputs": []
    },
    {
      "cell_type": "markdown",
      "metadata": {
        "id": "qanj9u_57G64",
        "colab_type": "text"
      },
      "source": [
        "#Training the model"
      ]
    },
    {
      "cell_type": "code",
      "metadata": {
        "id": "SHGV8evz4qoZ",
        "colab_type": "code",
        "outputId": "20d54557-726b-40a5-d4b8-b6e60f522e51",
        "colab": {
          "base_uri": "https://localhost:8080/",
          "height": 187
        }
      },
      "source": [
        "nb_epoch =10\n",
        "for epoch in range(1,nb_epoch + 1):\n",
        "  train_loss =0\n",
        "  s=0.\n",
        "  for id_user in range(0,no_users-batch_size,batch_size):\n",
        "    vk=v0=training_set[id_user:id_user+batch_size]\n",
        "    ph0,_ = rbm.sample_h(v0)\n",
        "    for k in range(10): #k step contrastive divergence\n",
        "      _,hk = rbm.sample_h(vk)\n",
        "      _,vk = rbm.sample_v(hk)\n",
        "      vk[v0<0] = v0[v0<0]\n",
        "    phk,_ = rbm.sample_h(vk)\n",
        "    rbm.train(v0,vk,ph0,phk)\n",
        "    train_loss += torch.mean( torch.abs( v0[v0>=0] - vk[v0>=0] ) )\n",
        "    s +=1.\n",
        "  print('epoch: '+str(epoch) + ' loss ' + str(train_loss/s))"
      ],
      "execution_count": 48,
      "outputs": [
        {
          "output_type": "stream",
          "text": [
            "epoch: 1 loss tensor(0.0335)\n",
            "epoch: 2 loss tensor(0.0134)\n",
            "epoch: 3 loss tensor(0.0142)\n",
            "epoch: 4 loss tensor(0.0141)\n",
            "epoch: 5 loss tensor(0.0148)\n",
            "epoch: 6 loss tensor(0.0151)\n",
            "epoch: 7 loss tensor(0.0144)\n",
            "epoch: 8 loss tensor(0.0153)\n",
            "epoch: 9 loss tensor(0.0155)\n",
            "epoch: 10 loss tensor(0.0149)\n"
          ],
          "name": "stdout"
        }
      ]
    },
    {
      "cell_type": "markdown",
      "metadata": {
        "id": "0JbNvekr7LlM",
        "colab_type": "text"
      },
      "source": [
        "#Testing the model"
      ]
    },
    {
      "cell_type": "code",
      "metadata": {
        "id": "n1xAKDmR7Nez",
        "colab_type": "code",
        "outputId": "56bd1906-ab71-4558-9cbd-c66bd3295943",
        "colab": {
          "base_uri": "https://localhost:8080/",
          "height": 286
        }
      },
      "source": [
        "predictions = []\n",
        "s = 0.\n",
        "for id_user in range(no_users):\n",
        "  v = training_set[id_user:id_user + 1]\n",
        "  vt = training_set[id_user:id_user+1]\n",
        "  if len(vt[vt>=0]) > 0:\n",
        "    _,h = rbm.sample_h(v)\n",
        "    _,v = rbm.sample_v(h)\n",
        "    pred_id = torch.sum(torch.abs(vt-v))\n",
        "    predictions.append(pred_id)\n",
        "    #test_loss += torch.mean(torch.abs(vt[vt>=0] - v[vt>=0]))\n",
        "    #s += 1.\n",
        "#print('test loss: ' + str(test_loss/s))\n",
        "plt.plot(predictions)\n",
        "plt.show\n"
      ],
      "execution_count": 49,
      "outputs": [
        {
          "output_type": "execute_result",
          "data": {
            "text/plain": [
              "<function matplotlib.pyplot.show>"
            ]
          },
          "metadata": {
            "tags": []
          },
          "execution_count": 49
        },
        {
          "output_type": "display_data",
          "data": {
            "image/png": "[encoded data removed]",
            "text/plain": [
              "<Figure size 432x288 with 1 Axes>"
            ]
          },
          "metadata": {
            "tags": []
          }
        }
      ]
    }
  ]
}